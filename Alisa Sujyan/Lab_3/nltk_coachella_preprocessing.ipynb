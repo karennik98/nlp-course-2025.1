{
 "cells": [
  {
   "metadata": {
    "ExecuteTime": {
     "end_time": "2025-09-20T15:57:40.329862Z",
     "start_time": "2025-09-20T15:57:40.275790Z"
    }
   },
   "cell_type": "code",
   "source": [
    "import pandas as pd\n",
    "import re\n",
    "\n",
    "data = pd.read_csv(r\"C:\\Users\\MSI GF66\\PycharmProjects\\NLP\\Coachella_preprocessing\\Coachella-2015-2-DFE.csv\", encoding=\"latin1\")"
   ],
   "id": "ed06db1882dd4497",
   "outputs": [],
   "execution_count": 32
  },
  {
   "metadata": {
    "ExecuteTime": {
     "end_time": "2025-09-20T15:57:40.336096Z",
     "start_time": "2025-09-20T15:57:40.333136Z"
    }
   },
   "cell_type": "code",
   "source": [
    "def hashtags(t):\n",
    "    if isinstance(t, str):\n",
    "        return re.findall(r\"#(\\w+)\", t)\n",
    "    return []"
   ],
   "id": "ba5269ecb5827790",
   "outputs": [],
   "execution_count": 33
  },
  {
   "metadata": {
    "ExecuteTime": {
     "end_time": "2025-09-20T15:57:40.352673Z",
     "start_time": "2025-09-20T15:57:40.344892Z"
    }
   },
   "cell_type": "code",
   "source": "data[\"hashtags\"] = data[\"text\"].apply(hashtags)",
   "id": "546e31e2f8299751",
   "outputs": [],
   "execution_count": 34
  },
  {
   "metadata": {
    "ExecuteTime": {
     "end_time": "2025-09-20T15:57:40.365034Z",
     "start_time": "2025-09-20T15:57:40.360989Z"
    }
   },
   "cell_type": "code",
   "source": [
    "def emails(t):\n",
    "    if isinstance(t, str):\n",
    "        return re.findall(r\"\\S+@\\S+\\S+\", t)\n",
    "    return []"
   ],
   "id": "14725c3fdc64c86d",
   "outputs": [],
   "execution_count": 35
  },
  {
   "metadata": {
    "ExecuteTime": {
     "end_time": "2025-09-20T15:57:40.393554Z",
     "start_time": "2025-09-20T15:57:40.372479Z"
    }
   },
   "cell_type": "code",
   "source": "data[\"emails\"] = data[\"text\"].apply(emails)",
   "id": "f5f7e0be0afd881a",
   "outputs": [],
   "execution_count": 36
  },
  {
   "metadata": {
    "ExecuteTime": {
     "end_time": "2025-09-20T15:57:40.404494Z",
     "start_time": "2025-09-20T15:57:40.400835Z"
    }
   },
   "cell_type": "code",
   "source": [
    "def clean_text(t):\n",
    "    if isinstance(t, str):\n",
    "        t = re.sub(r\"#(\\w+)\", \"\", t)\n",
    "        t = re.sub(r\"\\S+@\\S+\", \"\", t)\n",
    "        return t\n",
    "    return []\n"
   ],
   "id": "f2ef56ee0a3326d4",
   "outputs": [],
   "execution_count": 37
  },
  {
   "metadata": {
    "ExecuteTime": {
     "end_time": "2025-09-20T15:57:40.439012Z",
     "start_time": "2025-09-20T15:57:40.412221Z"
    }
   },
   "cell_type": "code",
   "source": [
    "data[\"clean_text\"] = data[\"text\"].apply(clean_text)\n",
    "print(data)"
   ],
   "id": "67d922ab6e29cf91",
   "outputs": [
    {
     "name": "stdout",
     "output_type": "stream",
     "text": [
      "     coachella_sentiment coachella_yn            name  retweet_count  \\\n",
      "0               positive          yes        kokombil              0   \n",
      "1               positive          yes   MisssTaraaa10              2   \n",
      "2               positive          yes   NMcCracken805              0   \n",
      "3               positive          yes          wxpnfm              1   \n",
      "4               positive          yes        Caesears              0   \n",
      "...                  ...          ...             ...            ...   \n",
      "3841           cant tell          yes   MissXOverdose              0   \n",
      "3842           cant tell          yes      NedRaggett              1   \n",
      "3843           cant tell          yes  nicolejackieee              0   \n",
      "3844           cant tell          yes    NiqueWobbitz              2   \n",
      "3845           cant tell          yes    LindsayRuben              1   \n",
      "\n",
      "                                                   text tweet_coord  \\\n",
      "0     #Coachella2015 tickets selling out in less tha...  [0.0, 0.0]   \n",
      "1     RT @sudsybuddy: WAIT THIS IS ABSOLUTE FIRE _ÙÓ...         NaN   \n",
      "2     #Coachella2015 #VIP passes secured! See you th...         NaN   \n",
      "3     PhillyÛªs @warondrugsjams will play #Coachell...         NaN   \n",
      "4     If briana and her mom out to #Coachella2015  i...         NaN   \n",
      "...                                                 ...         ...   \n",
      "3841  Excuse me while I go cry now. _Ù÷¢ #Coachella2...         NaN   \n",
      "3842  RT @touchofallright: Ride and Steely Dan. It w...         NaN   \n",
      "3843  I've been callin that since day one #Coachella...         NaN   \n",
      "3844  Is this for real?!?! #Coachella2015 http://t.c...         NaN   \n",
      "3845  RT @Jen_Baz: C'monnnnnn lineup! #coachella2015...         NaN   \n",
      "\n",
      "     tweet_created      tweet_id                  tweet_location  \\\n",
      "0     1/7/15 15:02  5.529630e+17                             NaN   \n",
      "1     1/7/15 15:02  5.529630e+17                   united states   \n",
      "2     1/7/15 15:01  5.529630e+17                  Costa Mesa, CA   \n",
      "3     1/7/15 15:01  5.529630e+17  Philadelphia, PA and Worldwide   \n",
      "4     1/7/15 15:00  5.529630e+17                             NaN   \n",
      "...            ...           ...                             ...   \n",
      "3841  1/6/15 10:32  5.525330e+17                             atx   \n",
      "3842  1/6/15 10:28  5.525320e+17                  Costa Mesa, CA   \n",
      "3843  1/6/15 10:26  5.525320e+17                             NaN   \n",
      "3844  1/6/15 10:21  5.525300e+17   Huntington Beach X Long Beach   \n",
      "3845   1/6/15 6:44  5.524760e+17                             NaN   \n",
      "\n",
      "                   user_timezone                      hashtags emails  \\\n",
      "0                          Quito               [Coachella2015]     []   \n",
      "1                            NaN               [Coachella2015]     []   \n",
      "2                            NaN          [Coachella2015, VIP]     []   \n",
      "3                          Quito  [Coachella2015, GovBall2015]     []   \n",
      "4                            NaN               [Coachella2015]     []   \n",
      "...                          ...                           ...    ...   \n",
      "3841  Pacific Time (US & Canada)               [Coachella2015]     []   \n",
      "3842  Pacific Time (US & Canada)               [Coachella2015]     []   \n",
      "3843                         NaN               [Coachella2015]     []   \n",
      "3844  Pacific Time (US & Canada)               [Coachella2015]     []   \n",
      "3845                         NaN    [coachella2015, Impatient]     []   \n",
      "\n",
      "                                             clean_text  \n",
      "0      tickets selling out in less than 40 minutes _...  \n",
      "1     RT @sudsybuddy: WAIT THIS IS ABSOLUTE FIRE _ÙÓ...  \n",
      "2             passes secured! See you there bitchesssss  \n",
      "3     PhillyÛªs @warondrugsjams will play  &amp; ! ...  \n",
      "4     If briana and her mom out to   im out with the...  \n",
      "...                                                 ...  \n",
      "3841  Excuse me while I go cry now. _Ù÷¢  http://t.c...  \n",
      "3842  RT @touchofallright: Ride and Steely Dan. It w...  \n",
      "3843               I've been callin that since day one   \n",
      "3844       Is this for real?!?!  http://t.co/PbeDWs5OS9  \n",
      "3845                  RT @Jen_Baz: C'monnnnnn lineup!    \n",
      "\n",
      "[3846 rows x 13 columns]\n"
     ]
    }
   ],
   "execution_count": 38
  },
  {
   "metadata": {
    "ExecuteTime": {
     "end_time": "2025-09-20T15:57:40.451176Z",
     "start_time": "2025-09-20T15:57:40.447078Z"
    }
   },
   "cell_type": "code",
   "source": [
    "def remove_usernames(t):\n",
    "    if isinstance(t, str):\n",
    "        t = re.sub(r\"@\\w+\", \"\", t)\n",
    "        return t\n",
    "    return t\n"
   ],
   "id": "c41d279e89e77df5",
   "outputs": [],
   "execution_count": 39
  },
  {
   "metadata": {
    "ExecuteTime": {
     "end_time": "2025-09-20T15:57:40.467030Z",
     "start_time": "2025-09-20T15:57:40.458898Z"
    }
   },
   "cell_type": "code",
   "source": [
    "def remove_links(t):\n",
    "    if isinstance(t, str):\n",
    "        t = re.sub(r\"(http|https)://\\S+\", \"\", t)\n",
    "        return t\n",
    "    return t"
   ],
   "id": "cf708a609a240d0e",
   "outputs": [],
   "execution_count": 40
  },
  {
   "metadata": {
    "ExecuteTime": {
     "end_time": "2025-09-20T15:57:40.479780Z",
     "start_time": "2025-09-20T15:57:40.475470Z"
    }
   },
   "cell_type": "code",
   "source": [
    "def remove_non_ascii(t):\n",
    "    if isinstance(t, str):\n",
    "        return \"\".join(character for character in t if ord(character) < 128)\n",
    "    return t"
   ],
   "id": "c89affde60581ed1",
   "outputs": [],
   "execution_count": 41
  },
  {
   "metadata": {
    "ExecuteTime": {
     "end_time": "2025-09-20T15:57:40.493173Z",
     "start_time": "2025-09-20T15:57:40.489158Z"
    }
   },
   "cell_type": "code",
   "source": [
    "def to_lower(t):\n",
    "    if isinstance(t, str):\n",
    "        t = t.lower()\n",
    "        return t\n",
    "    return t"
   ],
   "id": "5c976dc4467eb",
   "outputs": [],
   "execution_count": 42
  },
  {
   "metadata": {
    "ExecuteTime": {
     "end_time": "2025-09-20T15:57:40.506204Z",
     "start_time": "2025-09-20T15:57:40.500941Z"
    }
   },
   "cell_type": "code",
   "source": [
    "import nltk\n",
    "nltk.download('stopwords')\n",
    "\n",
    "stopwords = nltk.corpus.stopwords.words('english')\n",
    "\n",
    "def remove_stop_words(t):\n",
    "    if isinstance(t, str):\n",
    "        t = to_lower(t)\n",
    "        tokens = t.split()\n",
    "        new = [token for token in tokens if token not in stopwords]\n",
    "        return \" \".join(new)\n",
    "    return t"
   ],
   "id": "5500a0237b59bc8d",
   "outputs": [
    {
     "name": "stderr",
     "output_type": "stream",
     "text": [
      "[nltk_data] Downloading package stopwords to C:\\Users\\MSI\n",
      "[nltk_data]     GF66\\AppData\\Roaming\\nltk_data...\n",
      "[nltk_data]   Package stopwords is already up-to-date!\n"
     ]
    }
   ],
   "execution_count": 43
  },
  {
   "metadata": {
    "ExecuteTime": {
     "end_time": "2025-09-20T15:57:40.517573Z",
     "start_time": "2025-09-20T15:57:40.513964Z"
    }
   },
   "cell_type": "code",
   "source": [
    "def remove_digits(t):\n",
    "    if isinstance(t, str):\n",
    "        t = re.sub(r\"\\d+\", \"\", t)\n",
    "        return t\n",
    "    return t"
   ],
   "id": "3c20c9bf1aeebea",
   "outputs": [],
   "execution_count": 44
  },
  {
   "metadata": {
    "ExecuteTime": {
     "end_time": "2025-09-20T16:02:50.157699Z",
     "start_time": "2025-09-20T16:02:50.149387Z"
    }
   },
   "cell_type": "code",
   "source": [
    "def remove_special_characters(t):\n",
    "    if isinstance(t, str):\n",
    "        t = re.sub(r\"[.,!@?#$%&*()+=\\-_{}\\[\\];:'\\\"/\\\\|<>`~]\", \"\", t)\n",
    "        return t\n",
    "    return t"
   ],
   "id": "ecf9782003c186b1",
   "outputs": [],
   "execution_count": 51
  },
  {
   "metadata": {
    "ExecuteTime": {
     "end_time": "2025-09-20T16:02:52.351383Z",
     "start_time": "2025-09-20T16:02:52.344801Z"
    }
   },
   "cell_type": "code",
   "source": [
    "def final_clean_text(t):\n",
    "    t = remove_usernames(t)\n",
    "    t = remove_links(t)\n",
    "    t = remove_non_ascii(t)\n",
    "    t = remove_special_characters(t)\n",
    "    t = remove_digits(t)\n",
    "    t = to_lower(t)\n",
    "    t = remove_stop_words(t)\n",
    "    return t"
   ],
   "id": "940809e4c3b505e",
   "outputs": [],
   "execution_count": 52
  },
  {
   "metadata": {
    "ExecuteTime": {
     "end_time": "2025-09-20T16:02:54.426865Z",
     "start_time": "2025-09-20T16:02:54.325162Z"
    }
   },
   "cell_type": "code",
   "source": [
    "data[\"final_text\"] = data[\"clean_text\"].apply(final_clean_text)\n",
    "\n",
    "print(data)"
   ],
   "id": "a8d9c7a90e5823ad",
   "outputs": [
    {
     "name": "stdout",
     "output_type": "stream",
     "text": [
      "     coachella_sentiment coachella_yn            name  retweet_count  \\\n",
      "0               positive          yes        kokombil              0   \n",
      "1               positive          yes   MisssTaraaa10              2   \n",
      "2               positive          yes   NMcCracken805              0   \n",
      "3               positive          yes          wxpnfm              1   \n",
      "4               positive          yes        Caesears              0   \n",
      "...                  ...          ...             ...            ...   \n",
      "3841           cant tell          yes   MissXOverdose              0   \n",
      "3842           cant tell          yes      NedRaggett              1   \n",
      "3843           cant tell          yes  nicolejackieee              0   \n",
      "3844           cant tell          yes    NiqueWobbitz              2   \n",
      "3845           cant tell          yes    LindsayRuben              1   \n",
      "\n",
      "                                                   text tweet_coord  \\\n",
      "0     #Coachella2015 tickets selling out in less tha...  [0.0, 0.0]   \n",
      "1     RT @sudsybuddy: WAIT THIS IS ABSOLUTE FIRE _ÙÓ...         NaN   \n",
      "2     #Coachella2015 #VIP passes secured! See you th...         NaN   \n",
      "3     PhillyÛªs @warondrugsjams will play #Coachell...         NaN   \n",
      "4     If briana and her mom out to #Coachella2015  i...         NaN   \n",
      "...                                                 ...         ...   \n",
      "3841  Excuse me while I go cry now. _Ù÷¢ #Coachella2...         NaN   \n",
      "3842  RT @touchofallright: Ride and Steely Dan. It w...         NaN   \n",
      "3843  I've been callin that since day one #Coachella...         NaN   \n",
      "3844  Is this for real?!?! #Coachella2015 http://t.c...         NaN   \n",
      "3845  RT @Jen_Baz: C'monnnnnn lineup! #coachella2015...         NaN   \n",
      "\n",
      "     tweet_created      tweet_id                  tweet_location  \\\n",
      "0     1/7/15 15:02  5.529630e+17                             NaN   \n",
      "1     1/7/15 15:02  5.529630e+17                   united states   \n",
      "2     1/7/15 15:01  5.529630e+17                  Costa Mesa, CA   \n",
      "3     1/7/15 15:01  5.529630e+17  Philadelphia, PA and Worldwide   \n",
      "4     1/7/15 15:00  5.529630e+17                             NaN   \n",
      "...            ...           ...                             ...   \n",
      "3841  1/6/15 10:32  5.525330e+17                             atx   \n",
      "3842  1/6/15 10:28  5.525320e+17                  Costa Mesa, CA   \n",
      "3843  1/6/15 10:26  5.525320e+17                             NaN   \n",
      "3844  1/6/15 10:21  5.525300e+17   Huntington Beach X Long Beach   \n",
      "3845   1/6/15 6:44  5.524760e+17                             NaN   \n",
      "\n",
      "                   user_timezone                      hashtags emails  \\\n",
      "0                          Quito               [Coachella2015]     []   \n",
      "1                            NaN               [Coachella2015]     []   \n",
      "2                            NaN          [Coachella2015, VIP]     []   \n",
      "3                          Quito  [Coachella2015, GovBall2015]     []   \n",
      "4                            NaN               [Coachella2015]     []   \n",
      "...                          ...                           ...    ...   \n",
      "3841  Pacific Time (US & Canada)               [Coachella2015]     []   \n",
      "3842  Pacific Time (US & Canada)               [Coachella2015]     []   \n",
      "3843                         NaN               [Coachella2015]     []   \n",
      "3844  Pacific Time (US & Canada)               [Coachella2015]     []   \n",
      "3845                         NaN    [coachella2015, Impatient]     []   \n",
      "\n",
      "                                             clean_text  \\\n",
      "0      tickets selling out in less than 40 minutes _...   \n",
      "1     RT @sudsybuddy: WAIT THIS IS ABSOLUTE FIRE _ÙÓ...   \n",
      "2             passes secured! See you there bitchesssss   \n",
      "3     PhillyÛªs @warondrugsjams will play  &amp; ! ...   \n",
      "4     If briana and her mom out to   im out with the...   \n",
      "...                                                 ...   \n",
      "3841  Excuse me while I go cry now. _Ù÷¢  http://t.c...   \n",
      "3842  RT @touchofallright: Ride and Steely Dan. It w...   \n",
      "3843               I've been callin that since day one    \n",
      "3844       Is this for real?!?!  http://t.co/PbeDWs5OS9   \n",
      "3845                  RT @Jen_Baz: C'monnnnnn lineup!     \n",
      "\n",
      "                                      final_text  \n",
      "0                   tickets selling less minutes  \n",
      "1                          rt wait absolute fire  \n",
      "2                 passes secured see bitchesssss  \n",
      "3            phillys play amp watch jimmy fallon  \n",
      "4                                  briana mom im  \n",
      "...                                          ...  \n",
      "3841                               excuse go cry  \n",
      "3842  rt ride steely dan would better supergroup  \n",
      "3843                    ive callin since day one  \n",
      "3844                                        real  \n",
      "3845                         rt cmonnnnnn lineup  \n",
      "\n",
      "[3846 rows x 14 columns]\n"
     ]
    }
   ],
   "execution_count": 53
  },
  {
   "metadata": {
    "ExecuteTime": {
     "end_time": "2025-09-20T16:10:44.668761Z",
     "start_time": "2025-09-20T16:10:44.657416Z"
    }
   },
   "cell_type": "code",
   "source": "data[[\"final_text\"]].to_csv(\"coachella_final_text.csv\", index=False, encoding=\"utf-8\")\n",
   "id": "33024721d0ab7274",
   "outputs": [],
   "execution_count": 56
  }
 ],
 "metadata": {
  "kernelspec": {
   "display_name": "Python 3",
   "language": "python",
   "name": "python3"
  },
  "language_info": {
   "codemirror_mode": {
    "name": "ipython",
    "version": 2
   },
   "file_extension": ".py",
   "mimetype": "text/x-python",
   "name": "python",
   "nbconvert_exporter": "python",
   "pygments_lexer": "ipython2",
   "version": "2.7.6"
  }
 },
 "nbformat": 4,
 "nbformat_minor": 5
}
