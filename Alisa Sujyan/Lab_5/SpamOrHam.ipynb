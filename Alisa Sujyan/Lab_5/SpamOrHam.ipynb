{
 "cells": [
  {
   "cell_type": "code",
   "id": "initial_id",
   "metadata": {
    "collapsed": true,
    "ExecuteTime": {
     "end_time": "2025-10-03T21:29:30.535786Z",
     "start_time": "2025-10-03T21:29:30.531025Z"
    }
   },
   "source": [
    "import nltk\n",
    "import pandas as pd\n",
    "import re\n",
    "import math"
   ],
   "outputs": [],
   "execution_count": 394
  },
  {
   "metadata": {},
   "cell_type": "markdown",
   "source": "### Data preprocessing and tokenizing",
   "id": "bafbf72e050e043d"
  },
  {
   "metadata": {
    "ExecuteTime": {
     "end_time": "2025-10-03T21:29:30.597068Z",
     "start_time": "2025-10-03T21:29:30.580027Z"
    }
   },
   "cell_type": "code",
   "source": "data = pd.read_csv(r\"C:\\Users\\MSI GF66\\PycharmProjects\\NLP\\Spam or Ham\\spam.csv\", encoding=\"latin1\")",
   "id": "69738f9a958e9d6",
   "outputs": [],
   "execution_count": 395
  },
  {
   "metadata": {
    "ExecuteTime": {
     "end_time": "2025-10-03T21:29:30.603542Z",
     "start_time": "2025-10-03T21:29:30.600064Z"
    }
   },
   "cell_type": "code",
   "source": [
    "def remove_special_characters(t):\n",
    "    if isinstance(t, str):\n",
    "        t = re.sub(r\"[.,!@?#$%&*()+=\\-_{}\\[\\];:'\\\"/\\\\|<>`~]\", \"\", t)\n",
    "        return t\n",
    "    return t"
   ],
   "id": "bbacf56f6a16f766",
   "outputs": [],
   "execution_count": 396
  },
  {
   "metadata": {
    "ExecuteTime": {
     "end_time": "2025-10-03T21:29:30.626889Z",
     "start_time": "2025-10-03T21:29:30.622375Z"
    }
   },
   "cell_type": "code",
   "source": [
    "nltk.download('stopwords')\n",
    "stopwords = nltk.corpus.stopwords.words('english')\n",
    "\n",
    "def remove_stop_words(t):\n",
    "    if isinstance(t, str):\n",
    "        tokens = t.split()\n",
    "        new = [token for token in tokens if token not in stopwords]\n",
    "        return \" \".join(new)\n",
    "    return t"
   ],
   "id": "7ca7e0097dff1e24",
   "outputs": [
    {
     "name": "stderr",
     "output_type": "stream",
     "text": [
      "[nltk_data] Downloading package stopwords to C:\\Users\\MSI\n",
      "[nltk_data]     GF66\\AppData\\Roaming\\nltk_data...\n",
      "[nltk_data]   Package stopwords is already up-to-date!\n"
     ]
    }
   ],
   "execution_count": 397
  },
  {
   "metadata": {
    "ExecuteTime": {
     "end_time": "2025-10-03T21:29:30.648586Z",
     "start_time": "2025-10-03T21:29:30.645459Z"
    }
   },
   "cell_type": "code",
   "source": [
    "def remove_non_ascii(t):\n",
    "    if isinstance(t, str):\n",
    "        return \"\".join(character for character in t if ord(character) < 128)\n",
    "    return t"
   ],
   "id": "3aefe4846d81a0d7",
   "outputs": [],
   "execution_count": 398
  },
  {
   "metadata": {
    "ExecuteTime": {
     "end_time": "2025-10-03T21:29:30.670184Z",
     "start_time": "2025-10-03T21:29:30.667525Z"
    }
   },
   "cell_type": "code",
   "source": [
    "def data_cleaning(dataset):\n",
    "    dataset = dataset[\"v2\"].str.lower()\n",
    "    dataset = dataset.apply(remove_special_characters)\n",
    "    dataset = dataset.apply(remove_stop_words)\n",
    "    dataset = dataset.apply(remove_non_ascii)\n",
    "    return dataset"
   ],
   "id": "c51679c5d9fa2eff",
   "outputs": [],
   "execution_count": 399
  },
  {
   "metadata": {
    "ExecuteTime": {
     "end_time": "2025-10-03T21:29:30.854387Z",
     "start_time": "2025-10-03T21:29:30.689454Z"
    }
   },
   "cell_type": "code",
   "source": [
    "cleaned_data = data_cleaning(data)\n",
    "\n",
    "print(cleaned_data)"
   ],
   "id": "cd9505866b89a1bb",
   "outputs": [
    {
     "name": "stdout",
     "output_type": "stream",
     "text": [
      "0       go jurong point crazy available bugis n great ...\n",
      "1                                 ok lar joking wif u oni\n",
      "2       free entry 2 wkly comp win fa cup final tkts 2...\n",
      "3                     u dun say early hor u c already say\n",
      "4             nah dont think goes usf lives around though\n",
      "                              ...                        \n",
      "5567    2nd time tried 2 contact u u 750 pound prize 2...\n",
      "5568                            b going esplanade fr home\n",
      "5569                          pity mood soany suggestions\n",
      "5570    guy bitching acted like id interested buying s...\n",
      "5571                                       rofl true name\n",
      "Name: v2, Length: 5572, dtype: object\n"
     ]
    }
   ],
   "execution_count": 400
  },
  {
   "metadata": {
    "ExecuteTime": {
     "end_time": "2025-10-03T21:29:30.877024Z",
     "start_time": "2025-10-03T21:29:30.873436Z"
    }
   },
   "cell_type": "code",
   "source": [
    "def tokenize(dataset):\n",
    "    if isinstance(dataset, str):\n",
    "        return dataset.split()\n",
    "    elif isinstance(dataset, list):\n",
    "        return [text.split() for text in dataset]\n",
    "    elif isinstance(dataset, pd.Series):\n",
    "        return dataset.apply(lambda x: x.split())\n",
    "    return dataset"
   ],
   "id": "e98c916b80182f96",
   "outputs": [],
   "execution_count": 401
  },
  {
   "metadata": {
    "ExecuteTime": {
     "end_time": "2025-10-03T21:29:30.904266Z",
     "start_time": "2025-10-03T21:29:30.895683Z"
    }
   },
   "cell_type": "code",
   "source": "data_tokens = tokenize(cleaned_data)",
   "id": "bf82692d8151494b",
   "outputs": [],
   "execution_count": 402
  },
  {
   "metadata": {
    "ExecuteTime": {
     "end_time": "2025-10-03T21:29:30.925879Z",
     "start_time": "2025-10-03T21:29:30.922523Z"
    }
   },
   "cell_type": "code",
   "source": "data['tokens'] = data_tokens",
   "id": "dcbf7ed4cc4c693e",
   "outputs": [],
   "execution_count": 403
  },
  {
   "metadata": {
    "ExecuteTime": {
     "end_time": "2025-10-03T21:29:30.955946Z",
     "start_time": "2025-10-03T21:29:30.946993Z"
    }
   },
   "cell_type": "code",
   "source": [
    "spam_messages = data[data[\"v1\"] == \"spam\"][\"tokens\"].tolist()\n",
    "ham_messages  = data[data[\"v1\"] == \"ham\"][\"tokens\"].tolist()\n"
   ],
   "id": "d192147dcf2d974c",
   "outputs": [],
   "execution_count": 404
  },
  {
   "metadata": {
    "ExecuteTime": {
     "end_time": "2025-10-03T21:29:30.982372Z",
     "start_time": "2025-10-03T21:29:30.979224Z"
    }
   },
   "cell_type": "code",
   "source": "print(ham_messages[0])",
   "id": "a89796cabb820f9d",
   "outputs": [
    {
     "name": "stdout",
     "output_type": "stream",
     "text": [
      "['go', 'jurong', 'point', 'crazy', 'available', 'bugis', 'n', 'great', 'world', 'la', 'e', 'buffet', 'cine', 'got', 'amore', 'wat']\n"
     ]
    }
   ],
   "execution_count": 405
  },
  {
   "metadata": {
    "ExecuteTime": {
     "end_time": "2025-10-03T21:29:31.005481Z",
     "start_time": "2025-10-03T21:29:31.002230Z"
    }
   },
   "cell_type": "code",
   "source": [
    "def build_vocab(tokenized_data):\n",
    "\n",
    "    vocab = set()\n",
    "    for tokens in tokenized_data:\n",
    "        for token in tokens:\n",
    "            if token.isalpha():\n",
    "                vocab.add(token)\n",
    "    return sorted(list(vocab))"
   ],
   "id": "a3b50d01185de3c0",
   "outputs": [],
   "execution_count": 406
  },
  {
   "metadata": {
    "ExecuteTime": {
     "end_time": "2025-10-03T21:29:31.036165Z",
     "start_time": "2025-10-03T21:29:31.025292Z"
    }
   },
   "cell_type": "code",
   "source": "vocabulary = build_vocab(data_tokens)",
   "id": "580b4187742c3dd6",
   "outputs": [],
   "execution_count": 407
  },
  {
   "metadata": {},
   "cell_type": "markdown",
   "source": "### Prior probabilities",
   "id": "db858358f0a95707"
  },
  {
   "metadata": {
    "ExecuteTime": {
     "end_time": "2025-10-03T21:29:31.067412Z",
     "start_time": "2025-10-03T21:29:31.055152Z"
    }
   },
   "cell_type": "code",
   "source": [
    "data = pd.read_csv(r\"C:\\Users\\MSI GF66\\PycharmProjects\\NLP\\Spam or Ham\\spam.csv\", encoding=\"latin1\")\n",
    "spam_data_count = (data[\"v1\"] == \"spam\").sum()"
   ],
   "id": "3799891492700bb1",
   "outputs": [],
   "execution_count": 408
  },
  {
   "metadata": {
    "ExecuteTime": {
     "end_time": "2025-10-03T21:29:31.091418Z",
     "start_time": "2025-10-03T21:29:31.088072Z"
    }
   },
   "cell_type": "code",
   "source": "print(spam_data_count)",
   "id": "e41caae11a77e69f",
   "outputs": [
    {
     "name": "stdout",
     "output_type": "stream",
     "text": [
      "747\n"
     ]
    }
   ],
   "execution_count": 409
  },
  {
   "metadata": {
    "ExecuteTime": {
     "end_time": "2025-10-03T21:29:31.114894Z",
     "start_time": "2025-10-03T21:29:31.111278Z"
    }
   },
   "cell_type": "code",
   "source": "ham_data_count = (data[\"v1\"] == \"ham\").sum()",
   "id": "960537ee10012541",
   "outputs": [],
   "execution_count": 410
  },
  {
   "metadata": {
    "ExecuteTime": {
     "end_time": "2025-10-03T21:29:31.137947Z",
     "start_time": "2025-10-03T21:29:31.135426Z"
    }
   },
   "cell_type": "code",
   "source": "print(ham_data_count)",
   "id": "10703b2a36d2c8f7",
   "outputs": [
    {
     "name": "stdout",
     "output_type": "stream",
     "text": [
      "4825\n"
     ]
    }
   ],
   "execution_count": 411
  },
  {
   "metadata": {
    "ExecuteTime": {
     "end_time": "2025-10-03T21:29:31.160185Z",
     "start_time": "2025-10-03T21:29:31.157132Z"
    }
   },
   "cell_type": "code",
   "source": [
    "P_spam = (spam_data_count / (spam_data_count + ham_data_count))\n",
    "P_ham = (ham_data_count / (spam_data_count + ham_data_count))\n",
    "print(P_spam)\n",
    "print(P_ham)"
   ],
   "id": "db6bd0b3d24a98b2",
   "outputs": [
    {
     "name": "stdout",
     "output_type": "stream",
     "text": [
      "0.13406317300789664\n",
      "0.8659368269921034\n"
     ]
    }
   ],
   "execution_count": 412
  },
  {
   "metadata": {
    "ExecuteTime": {
     "end_time": "2025-10-03T21:29:31.183692Z",
     "start_time": "2025-10-03T21:29:31.178914Z"
    }
   },
   "cell_type": "code",
   "source": "print(data_tokens)",
   "id": "6b5bcbfe9396bdc7",
   "outputs": [
    {
     "name": "stdout",
     "output_type": "stream",
     "text": [
      "0       [go, jurong, point, crazy, available, bugis, n...\n",
      "1                          [ok, lar, joking, wif, u, oni]\n",
      "2       [free, entry, 2, wkly, comp, win, fa, cup, fin...\n",
      "3           [u, dun, say, early, hor, u, c, already, say]\n",
      "4       [nah, dont, think, goes, usf, lives, around, t...\n",
      "                              ...                        \n",
      "5567    [2nd, time, tried, 2, contact, u, u, 750, poun...\n",
      "5568                      [b, going, esplanade, fr, home]\n",
      "5569                     [pity, mood, soany, suggestions]\n",
      "5570    [guy, bitching, acted, like, id, interested, b...\n",
      "5571                                   [rofl, true, name]\n",
      "Name: v2, Length: 5572, dtype: object\n"
     ]
    }
   ],
   "execution_count": 413
  },
  {
   "metadata": {},
   "cell_type": "markdown",
   "source": "### Likelihood Probabilities",
   "id": "4f1c3fd0aa359ad0"
  },
  {
   "metadata": {
    "ExecuteTime": {
     "end_time": "2025-10-03T21:29:31.205119Z",
     "start_time": "2025-10-03T21:29:31.202396Z"
    }
   },
   "cell_type": "code",
   "source": [
    "word_counts = {\n",
    "    \"spam\": {},\n",
    "    \"ham\": {}\n",
    "}"
   ],
   "id": "fd53191be0e27217",
   "outputs": [],
   "execution_count": 414
  },
  {
   "metadata": {
    "ExecuteTime": {
     "end_time": "2025-10-03T21:29:31.233755Z",
     "start_time": "2025-10-03T21:29:31.221350Z"
    }
   },
   "cell_type": "code",
   "source": [
    "from collections import defaultdict\n",
    "\n",
    "word_counts = {\n",
    "    \"spam\": defaultdict(int),\n",
    "    \"ham\": defaultdict(int)\n",
    "}\n",
    "\n",
    "for message in spam_messages:\n",
    "    for word in message:\n",
    "        word_counts[\"spam\"][word] += 1\n",
    "\n",
    "for message in ham_messages:\n",
    "    for word in message:\n",
    "        word_counts[\"ham\"][word] += 1\n"
   ],
   "id": "1b19b7909fc49107",
   "outputs": [],
   "execution_count": 415
  },
  {
   "metadata": {
    "ExecuteTime": {
     "end_time": "2025-10-03T21:29:31.258776Z",
     "start_time": "2025-10-03T21:29:31.254346Z"
    }
   },
   "cell_type": "code",
   "source": "print(dict(list(word_counts[\"ham\"].items())[:20]))",
   "id": "38822b3cf364c006",
   "outputs": [
    {
     "name": "stdout",
     "output_type": "stream",
     "text": [
      "{'go': 247, 'jurong': 1, 'point': 13, 'crazy': 10, 'available': 13, 'bugis': 7, 'n': 134, 'great': 100, 'world': 32, 'la': 7, 'e': 78, 'buffet': 2, 'cine': 7, 'got': 231, 'amore': 1, 'wat': 95, 'ok': 272, 'lar': 38, 'joking': 6, 'wif': 27}\n"
     ]
    }
   ],
   "execution_count": 416
  },
  {
   "metadata": {
    "ExecuteTime": {
     "end_time": "2025-10-03T21:29:31.299672Z",
     "start_time": "2025-10-03T21:29:31.295820Z"
    }
   },
   "cell_type": "code",
   "source": "print(dict(list(word_counts[\"spam\"].items())[:20]))",
   "id": "7caa2d2070b507df",
   "outputs": [
    {
     "name": "stdout",
     "output_type": "stream",
     "text": [
      "{'free': 216, 'entry': 26, '2': 173, 'wkly': 14, 'comp': 10, 'win': 60, 'fa': 4, 'cup': 5, 'final': 16, 'tkts': 4, '21st': 2, 'may': 7, '2005': 3, 'text': 120, '87121': 4, 'receive': 33, 'questionstd': 2, 'txt': 150, 'ratetcs': 2, 'apply': 29}\n"
     ]
    }
   ],
   "execution_count": 417
  },
  {
   "metadata": {
    "ExecuteTime": {
     "end_time": "2025-10-03T21:29:31.310072Z",
     "start_time": "2025-10-03T21:29:31.303665Z"
    }
   },
   "cell_type": "code",
   "source": [
    "sorted_spam = dict(sorted(word_counts[\"spam\"].items(), key=lambda x: x[1], reverse=True))\n",
    "sorted_ham = dict(sorted(word_counts[\"ham\"].items(), key=lambda x: x[1], reverse=True))"
   ],
   "id": "b115b611ce104c66",
   "outputs": [],
   "execution_count": 418
  },
  {
   "metadata": {
    "ExecuteTime": {
     "end_time": "2025-10-03T21:29:31.350915Z",
     "start_time": "2025-10-03T21:29:31.347004Z"
    }
   },
   "cell_type": "code",
   "source": "print(dict(list(sorted_spam.items())[:20]))",
   "id": "1b2e05a5969d4027",
   "outputs": [
    {
     "name": "stdout",
     "output_type": "stream",
     "text": [
      "{'call': 347, 'free': 216, '2': 173, 'txt': 150, 'u': 147, 'ur': 144, 'mobile': 123, 'text': 120, '4': 119, 'claim': 113, 'stop': 113, 'reply': 101, 'prize': 92, 'get': 83, 'new': 69, 'send': 67, 'nokia': 65, 'urgent': 63, 'cash': 62, 'win': 60}\n"
     ]
    }
   ],
   "execution_count": 419
  },
  {
   "metadata": {
    "ExecuteTime": {
     "end_time": "2025-10-03T21:29:31.360656Z",
     "start_time": "2025-10-03T21:29:31.355901Z"
    }
   },
   "cell_type": "code",
   "source": "print(dict(list(sorted_ham.items())[:20]))",
   "id": "b33958ab6bbc5554",
   "outputs": [
    {
     "name": "stdout",
     "output_type": "stream",
     "text": [
      "{'u': 972, 'im': 458, '2': 305, 'get': 303, 'ltgt': 276, 'ok': 272, 'dont': 268, 'go': 247, 'ur': 240, 'ill': 240, 'know': 232, 'got': 231, 'like': 229, 'call': 229, 'come': 224, 'good': 222, 'time': 189, 'day': 187, 'love': 185, '4': 168}\n"
     ]
    }
   ],
   "execution_count": 420
  },
  {
   "metadata": {
    "ExecuteTime": {
     "end_time": "2025-10-03T21:29:31.383670Z",
     "start_time": "2025-10-03T21:29:31.380761Z"
    }
   },
   "cell_type": "code",
   "source": "alpha = 1",
   "id": "32d7c0de746c8b81",
   "outputs": [],
   "execution_count": 421
  },
  {
   "metadata": {
    "ExecuteTime": {
     "end_time": "2025-10-03T21:29:31.410195Z",
     "start_time": "2025-10-03T21:29:31.403128Z"
    }
   },
   "cell_type": "code",
   "source": [
    "P_xi_spam = {}\n",
    "P_xi_ham = {}\n",
    "\n",
    "total_spam_words = sum(word_counts[\"spam\"].values())\n",
    "total_ham_words = sum(word_counts[\"ham\"].values())\n",
    "\n",
    "vocabulary_size = len(vocabulary)\n",
    "\n",
    "for word, count in sorted_spam.items():\n",
    "    P_xi_spam[word] = (count + alpha)/(total_spam_words + alpha * vocabulary_size)\n",
    "\n",
    "for word, count in sorted_ham.items():\n",
    "    P_xi_ham[word] = (count + alpha)/(total_ham_words + alpha * vocabulary_size)\n"
   ],
   "id": "8c4ce67679d4f922",
   "outputs": [],
   "execution_count": 422
  },
  {
   "metadata": {
    "ExecuteTime": {
     "end_time": "2025-10-03T21:29:31.457732Z",
     "start_time": "2025-10-03T21:29:31.452093Z"
    }
   },
   "cell_type": "code",
   "source": [
    "print(dict(list(P_xi_spam.items())[:20]))\n",
    "print(dict(list(P_xi_ham.items())[:20]))"
   ],
   "id": "f7c06d73046e0d30",
   "outputs": [
    {
     "name": "stdout",
     "output_type": "stream",
     "text": [
      "{'call': 0.016903871375139653, 'free': 0.010540632437946278, '2': 0.008451935687569826, 'txt': 0.007334725797833584, 'u': 0.007189002768737553, 'ur': 0.007043279739641521, 'mobile': 0.006023218535969301, 'text': 0.00587749550687327, '4': 0.005828921163841259, 'claim': 0.005537475105649196, 'stop': 0.005537475105649196, 'reply': 0.00495458298926507, 'prize': 0.004517413901976975, 'get': 0.004080244814688882, 'new': 0.0034002040122407345, 'send': 0.0033030553261767133, 'nokia': 0.0032059066401126926, 'urgent': 0.0031087579540486714, 'cash': 0.003060183611016661, 'win': 0.00296303492495264}\n",
      "{'u': 0.02039404736952421, 'im': 0.009620624607000628, '2': 0.006413749738000419, 'get': 0.006371829805072312, 'ltgt': 0.005805910710542863, 'ok': 0.005722070844686649, 'dont': 0.0056382309788304335, 'go': 0.005198071683085307, 'ur': 0.005051351917836931, 'ill': 0.005051351917836931, 'know': 0.0048836721861245025, 'got': 0.004862712219660449, 'like': 0.004820792286732341, 'call': 0.004820792286732341, 'come': 0.004715992454412073, 'good': 0.004674072521483966, 'time': 0.0039823936281701946, 'day': 0.003940473695242088, 'love': 0.00389855376231398, '4': 0.003542234332425068}\n"
     ]
    }
   ],
   "execution_count": 424
  },
  {
   "metadata": {},
   "cell_type": "markdown",
   "source": "### Classification",
   "id": "2cb7e72b8f438f85"
  },
  {
   "metadata": {
    "ExecuteTime": {
     "end_time": "2025-10-03T21:29:31.480897Z",
     "start_time": "2025-10-03T21:29:31.477360Z"
    }
   },
   "cell_type": "code",
   "source": [
    "model = {\n",
    "    \"prior\": {\"spam\": P_spam, \"ham\": P_ham},\n",
    "    \"likelihood\": {\"spam\": P_xi_spam, \"ham\": P_xi_ham},\n",
    "    \"vocabulary\": vocabulary,\n",
    "    \"alpha\": alpha\n",
    "}"
   ],
   "id": "f8ca94cefd8d1b58",
   "outputs": [],
   "execution_count": 425
  },
  {
   "metadata": {
    "ExecuteTime": {
     "end_time": "2025-10-03T21:29:31.504754Z",
     "start_time": "2025-10-03T21:29:31.500649Z"
    }
   },
   "cell_type": "code",
   "source": [
    "def classifier(message, model):\n",
    "    words = message.lower().split()\n",
    "\n",
    "    log_spam = math.log(model[\"prior\"][\"spam\"])\n",
    "    log_ham = math.log(model[\"prior\"][\"ham\"])\n",
    "\n",
    "    total_spam_words = sum(model[\"likelihood\"][\"spam\"].values())\n",
    "    total_ham_words = sum(model[\"likelihood\"][\"ham\"].values())\n",
    "\n",
    "    vocabulary_size = len(model[\"vocabulary\"])\n",
    "\n",
    "    for word in words:\n",
    "        if word in model[\"vocabulary\"]:\n",
    "            prob_word_spam = model[\"likelihood\"][\"spam\"].get(word, model[\"alpha\"] / (total_spam_words + model[\"alpha\"] * vocabulary_size))\n",
    "            prob_word_ham  = model[\"likelihood\"][\"ham\"].get(word, model[\"alpha\"] / (total_ham_words  + model[\"alpha\"] * vocabulary_size))\n",
    "\n",
    "            log_spam += math.log(prob_word_spam)\n",
    "            log_ham  += math.log(prob_word_ham)\n",
    "\n",
    "    return \"spam\" if log_spam > log_ham else \"ham\""
   ],
   "id": "96638717a6450408",
   "outputs": [],
   "execution_count": 426
  },
  {
   "metadata": {},
   "cell_type": "markdown",
   "source": "### Examples of prediction",
   "id": "da44c72170f6fb3b"
  },
  {
   "metadata": {
    "ExecuteTime": {
     "end_time": "2025-10-03T21:29:31.527350Z",
     "start_time": "2025-10-03T21:29:31.523793Z"
    }
   },
   "cell_type": "code",
   "source": [
    "message = \"Hey, are we still meeting for coffee tomorrow?\"\n",
    "\n",
    "cleaned_message = remove_non_ascii(remove_stop_words(remove_special_characters(message.lower())))\n",
    "\n",
    "label = classifier(cleaned_message, model)\n",
    "\n",
    "print(\"Prediction:\", label)\n"
   ],
   "id": "ae14390ba66433be",
   "outputs": [
    {
     "name": "stdout",
     "output_type": "stream",
     "text": [
      "Prediction: ham\n"
     ]
    }
   ],
   "execution_count": 427
  },
  {
   "metadata": {
    "ExecuteTime": {
     "end_time": "2025-10-03T21:29:31.550326Z",
     "start_time": "2025-10-03T21:29:31.546330Z"
    }
   },
   "cell_type": "code",
   "source": [
    "message = \"Congratulations! You won a free iPhone. Click here to claim your prize now!\"\n",
    "\n",
    "cleaned_message = remove_non_ascii(remove_stop_words(remove_special_characters(message.lower())))\n",
    "\n",
    "label = classifier(cleaned_message, model)\n",
    "\n",
    "print(\"Prediction:\", label)"
   ],
   "id": "4cba70112b3ad10",
   "outputs": [
    {
     "name": "stdout",
     "output_type": "stream",
     "text": [
      "Prediction: spam\n"
     ]
    }
   ],
   "execution_count": 428
  },
  {
   "metadata": {
    "ExecuteTime": {
     "end_time": "2025-10-03T21:29:31.593564Z",
     "start_time": "2025-10-03T21:29:31.589260Z"
    }
   },
   "cell_type": "code",
   "source": [
    "message = \"Hey, you won a free coffee voucher!\"\n",
    "\n",
    "cleaned_message = remove_non_ascii(remove_stop_words(remove_special_characters(message.lower())))\n",
    "\n",
    "label = classifier(cleaned_message, model)\n",
    "\n",
    "print(\"Prediction:\", label)\n"
   ],
   "id": "2b798d49f572ccde",
   "outputs": [
    {
     "name": "stdout",
     "output_type": "stream",
     "text": [
      "Prediction: spam\n"
     ]
    }
   ],
   "execution_count": 429
  }
 ],
 "metadata": {
  "kernelspec": {
   "display_name": "Python 3",
   "language": "python",
   "name": "python3"
  },
  "language_info": {
   "codemirror_mode": {
    "name": "ipython",
    "version": 2
   },
   "file_extension": ".py",
   "mimetype": "text/x-python",
   "name": "python",
   "nbconvert_exporter": "python",
   "pygments_lexer": "ipython2",
   "version": "2.7.6"
  }
 },
 "nbformat": 4,
 "nbformat_minor": 5
}
