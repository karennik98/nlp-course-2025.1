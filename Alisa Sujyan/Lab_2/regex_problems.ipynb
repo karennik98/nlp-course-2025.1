{
 "cells": [
  {
   "metadata": {},
   "cell_type": "markdown",
   "source": [
    "Problem 1: Extract Email Addresses\n",
    " Problem 1: Extract Email Addresses"
   ],
   "id": "4ea5f58ad26bd037"
  },
  {
   "cell_type": "code",
   "id": "initial_id",
   "metadata": {
    "collapsed": true,
    "ExecuteTime": {
     "end_time": "2025-09-13T14:51:19.443854Z",
     "start_time": "2025-09-13T14:51:19.437593Z"
    }
   },
   "source": [
    "import re\n",
    "\n",
    "pattern = r'\\S+@\\S+\\S+'\n",
    "text = \"\"\"Contact us at support@example.com or sales@company.org for assistance.\n",
    " For personal inquiries, email john.doe123@university.edu.\"\"\"\n",
    "\n",
    "matches = re.finditer(pattern, text)\n",
    "\n",
    "for word in matches:\n",
    "    print(f\"'{word.group(0)}': Match\")\n"
   ],
   "outputs": [
    {
     "name": "stdout",
     "output_type": "stream",
     "text": [
      "'support@example.com': Match\n",
      "'sales@company.org': Match\n",
      "'john.doe123@university.edu.': Match\n"
     ]
    }
   ],
   "execution_count": 1
  },
  {
   "metadata": {},
   "cell_type": "markdown",
   "source": " Problem 2: Validate Phone Numbers",
   "id": "42366b8ffdaf4354"
  },
  {
   "metadata": {
    "ExecuteTime": {
     "end_time": "2025-09-13T15:10:58.901674Z",
     "start_time": "2025-09-13T15:10:58.892973Z"
    }
   },
   "cell_type": "code",
   "source": [
    "pattern = r'\\d{3}-\\d{3}-\\d{4}'\n",
    "\n",
    "numbers = \" Valid: 123-456-7890, 987-654-3210, Invalid: 12-345-67890, 1234567890, 123-45-6789\"\n",
    "\n",
    "matches = re.finditer(pattern, numbers)\n",
    "for number in matches:\n",
    "    print(f\"'{number.group(0)}': Match\")\n"
   ],
   "id": "2acc3fb26fcbcc47",
   "outputs": [
    {
     "name": "stdout",
     "output_type": "stream",
     "text": [
      "'123-456-7890': Match\n",
      "'987-654-3210': Match\n"
     ]
    }
   ],
   "execution_count": 2
  },
  {
   "metadata": {},
   "cell_type": "markdown",
   "source": " Problem 3: Extract Dates",
   "id": "44cba52430f7a8f8"
  },
  {
   "metadata": {
    "ExecuteTime": {
     "end_time": "2025-09-13T15:12:51.404893Z",
     "start_time": "2025-09-13T15:12:51.392985Z"
    }
   },
   "cell_type": "code",
   "source": [
    "pattern_1 = r'\\d{2}-\\d{2}-\\d{4}'\n",
    "pattern_2 = r'\\d{2}/\\d{2}/\\d{4}'\n",
    "\n",
    "text = \"Important dates: 25/12/2023, 01-01-2024, 31/05/2023, and 15-10-2024.\"\n",
    "\n",
    "splitted = text.split()\n",
    "\n",
    "for n in splitted:\n",
    "    if re.match(pattern_1, n) or re.match(pattern_2, n):\n",
    "        print(f\"'{n}': Match\")\n"
   ],
   "id": "ae23acb5306eea12",
   "outputs": [
    {
     "name": "stdout",
     "output_type": "stream",
     "text": [
      "'25/12/2023,': Match\n",
      "'01-01-2024,': Match\n",
      "'31/05/2023,': Match\n",
      "'15-10-2024.': Match\n"
     ]
    }
   ],
   "execution_count": 5
  },
  {
   "metadata": {},
   "cell_type": "markdown",
   "source": [
    "\n",
    " Problem 4: Find Repeated Words"
   ],
   "id": "24fdd26d50eea04c"
  },
  {
   "metadata": {
    "ExecuteTime": {
     "end_time": "2025-09-12T09:53:48.510609Z",
     "start_time": "2025-09-12T09:53:48.493623Z"
    }
   },
   "cell_type": "code",
   "source": [
    "text = \" The the quick brown fox jumps over the the lazy dog.\"\n",
    "lowercase = text.lower()\n",
    "\n",
    "pattern = r'\\b(\\w+)\\s+\\1\\b'\n",
    "\n",
    "matches = re.finditer(pattern, lowercase)\n",
    "for match in matches:\n",
    "    print(f\"'{match.group(0)}': Match\")\n"
   ],
   "id": "bc6a5f1fb2e458e",
   "outputs": [
    {
     "name": "stdout",
     "output_type": "stream",
     "text": [
      "'the the': Match\n",
      "'the the': Match\n"
     ]
    }
   ],
   "execution_count": 45
  },
  {
   "metadata": {},
   "cell_type": "markdown",
   "source": [
    "\n",
    "Problem 5: Extract Hashtags"
   ],
   "id": "ad4dea6e9152988a"
  },
  {
   "metadata": {
    "ExecuteTime": {
     "end_time": "2025-09-12T10:00:04.711840Z",
     "start_time": "2025-09-12T10:00:04.704087Z"
    }
   },
   "cell_type": "code",
   "source": [
    "text = \"Check out our new products: #Sale2024, #NewArrival, and #Discounts!\"\n",
    "\n",
    "pattern = r'#\\w+'\n",
    "matches = re.finditer(pattern, text)\n",
    "\n",
    "for match in matches:\n",
    "    print(f\"'{match.group()}': Match\")"
   ],
   "id": "1875cb3852d569c1",
   "outputs": [
    {
     "name": "stdout",
     "output_type": "stream",
     "text": [
      "'#Sale2024': Match\n",
      "'#NewArrival': Match\n",
      "'#Discounts': Match\n"
     ]
    }
   ],
   "execution_count": 56
  },
  {
   "metadata": {},
   "cell_type": "markdown",
   "source": [
    "\n",
    " Problem 6: Validate Password Strength"
   ],
   "id": "a39a1221a9304277"
  },
  {
   "metadata": {
    "ExecuteTime": {
     "end_time": "2025-09-13T15:15:03.210602Z",
     "start_time": "2025-09-13T15:15:03.199402Z"
    }
   },
   "cell_type": "code",
   "source": [
    "text = (\"Valid: Password123, Secure456, Pas09 \"\n",
    "        \"Invalid: weak, password, Password\")\n",
    "\n",
    "splitted = text.split()\n",
    "\n",
    "pattern = r'^(?=.*[A-Z])(?=.*[a-z])(?=.*\\d).{8,}$'\n",
    "\n",
    "for n in splitted:\n",
    "    if re.fullmatch(pattern, n):\n",
    "        print(f\"'{n}': Match\")\n"
   ],
   "id": "e2575fbaf75d3257",
   "outputs": [
    {
     "name": "stdout",
     "output_type": "stream",
     "text": [
      "'Password123,': Match\n",
      "'Secure456,': Match\n"
     ]
    }
   ],
   "execution_count": 8
  },
  {
   "metadata": {},
   "cell_type": "markdown",
   "source": " Problem 7: Extract URLs",
   "id": "16dcbc0ee1e998c8"
  },
  {
   "metadata": {
    "ExecuteTime": {
     "end_time": "2025-09-12T18:54:58.928155Z",
     "start_time": "2025-09-12T18:54:58.911490Z"
    }
   },
   "cell_type": "code",
   "source": [
    "text = \"Visit our website at https://www.example.com or check out http://blog.example.org for updates.\"\n",
    "\n",
    "pattern = r'(http|https)://\\w+.\\w+.\\w+'\n",
    "\n",
    "matches = re.finditer(pattern, text)\n",
    "for match in matches:\n",
    "    print(f\"'{match.group()}': Match\")"
   ],
   "id": "c460f08c29f7380e",
   "outputs": [
    {
     "name": "stdout",
     "output_type": "stream",
     "text": [
      "'https://www.example.com': Match\n",
      "'http://blog.example.org': Match\n"
     ]
    }
   ],
   "execution_count": 124
  },
  {
   "metadata": {},
   "cell_type": "markdown",
   "source": [
    "\n",
    " Problem 8: Replace Multiple Spaces with a Single Space"
   ],
   "id": "b8c116617adf420"
  },
  {
   "metadata": {
    "ExecuteTime": {
     "end_time": "2025-09-13T15:16:04.393702Z",
     "start_time": "2025-09-13T15:16:04.386081Z"
    }
   },
   "cell_type": "code",
   "source": [
    "text = \"This   text    has   multiple    spaces.\"\n",
    "\n",
    "sub_result = re.sub(r'\\s+', ' ', text)\n",
    "print(sub_result)"
   ],
   "id": "3d78561593e84eaf",
   "outputs": [
    {
     "name": "stdout",
     "output_type": "stream",
     "text": [
      "This text has multiple spaces.\n"
     ]
    }
   ],
   "execution_count": 9
  },
  {
   "metadata": {},
   "cell_type": "markdown",
   "source": [
    "\n",
    " Problem 9: Extract Quoted Text"
   ],
   "id": "7819087a8f022729"
  },
  {
   "metadata": {
    "ExecuteTime": {
     "end_time": "2025-09-12T19:12:43.604995Z",
     "start_time": "2025-09-12T19:12:43.594966Z"
    }
   },
   "cell_type": "code",
   "source": [
    "text = \"\"\" He said, \"Hello, world!\" and she replied, \"Hi there!\" \"\"\"\n",
    "\n",
    "pattern = r'\"[^\"]+\"'\n",
    "\n",
    "matches = re.finditer(pattern, text)\n",
    "for match in matches:\n",
    "    print(f\"'{match.group()}': Match\")\n"
   ],
   "id": "29b8a07a945b6108",
   "outputs": [
    {
     "name": "stdout",
     "output_type": "stream",
     "text": [
      "'\"Hello, world!\"': Match\n",
      "'\"Hi there!\"': Match\n"
     ]
    }
   ],
   "execution_count": 146
  },
  {
   "metadata": {},
   "cell_type": "markdown",
   "source": [
    "\n",
    " Problem 10: Validate IP Addresses"
   ],
   "id": "bc040bbc60eeaa93"
  },
  {
   "metadata": {},
   "cell_type": "markdown",
   "source": "for numbers in range 0 - 255 -> \\b(25[0-5]|2[0-4][0-9]|1[0-9]{2}|[1-9]?[0-9])\\b\n",
   "id": "33bf4cf45db52a07"
  },
  {
   "metadata": {
    "ExecuteTime": {
     "end_time": "2025-09-12T19:54:41.995445Z",
     "start_time": "2025-09-12T19:54:41.988420Z"
    }
   },
   "cell_type": "code",
   "source": [
    "text = \"\"\"\n",
    " Valid: 192.168.1.1, 10.0.0.255, 255.255.255.255\n",
    " Invalid: 256.1.2.3, 192.168.01.1, 192.168.1, 255.255.255.256, 192.168.2.01\"\"\"\n",
    "\n",
    "pattern = r'\\b(25[0-5]|2[0-4][0-9]|1[0-9]{2}|[1-9]?[0-9])\\b.\\b(25[0-5]|2[0-4][0-9]|1[0-9]{2}|[1-9]?[0-9])\\b.\\b(25[0-5]|2[0-4][0-9]|1[0-9]{2}|[1-9]?[0-9])\\b.\\b(25[0-5]|2[0-4][0-9]|1[0-9]{2}|[1-9]?[0-9])\\b'\n",
    "matches = re.finditer(pattern, text)\n",
    "for match in matches:\n",
    "    print(f\"'{match.group()}': Match\")"
   ],
   "id": "22a51a5e5ae27848",
   "outputs": [
    {
     "name": "stdout",
     "output_type": "stream",
     "text": [
      "'192.168.1.1': Match\n",
      "'10.0.0.255': Match\n",
      "'255.255.255.255': Match\n"
     ]
    }
   ],
   "execution_count": 197
  }
 ],
 "metadata": {
  "kernelspec": {
   "display_name": "Python 3",
   "language": "python",
   "name": "python3"
  },
  "language_info": {
   "codemirror_mode": {
    "name": "ipython",
    "version": 2
   },
   "file_extension": ".py",
   "mimetype": "text/x-python",
   "name": "python",
   "nbconvert_exporter": "python",
   "pygments_lexer": "ipython2",
   "version": "2.7.6"
  }
 },
 "nbformat": 4,
 "nbformat_minor": 5
}
