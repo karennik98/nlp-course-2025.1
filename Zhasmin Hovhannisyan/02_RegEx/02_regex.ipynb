{
 "cells": [
  {
   "metadata": {},
   "cell_type": "markdown",
   "source": "# Lab 2: Regular Expressions",
   "id": "513d654a778135ea"
  },
  {
   "metadata": {
    "ExecuteTime": {
     "end_time": "2025-09-23T06:35:34.823589Z",
     "start_time": "2025-09-23T06:35:34.818268Z"
    }
   },
   "cell_type": "code",
   "source": "import re",
   "id": "682d448277786fd6",
   "outputs": [],
   "execution_count": 1
  },
  {
   "metadata": {},
   "cell_type": "markdown",
   "source": [
    "### Problem 1: Extract Email Addresses\n",
    "**Description:** Extract all email addresses from a given text.\n",
    "\n",
    "**Sample text:** `Contact us at support@example.com or sales@company.org for assistance.\n",
    " For personal inquiries, email john.doe123@university.edu.`\n",
    "\n",
    " **Expected Output:**\n",
    " `support@example.com\n",
    " sales@company.org\n",
    " john.doe123@university.edu`"
   ],
   "id": "f33ac241f99f81a7"
  },
  {
   "metadata": {
    "ExecuteTime": {
     "end_time": "2025-09-23T06:35:35.031249Z",
     "start_time": "2025-09-23T06:35:35.023027Z"
    }
   },
   "cell_type": "code",
   "source": [
    "text1 =  (\n",
    "    'Contact us at support@example.com or '\n",
    "    'sales@company.org for assistance.'\n",
    "    'For personal inquiries, email john.doe123@university.edu.'\n",
    ")\n",
    "\n",
    "pattern1 = r\"[\\w.-]+@\\w+\\.[A-Za-z]{2,}\"\n",
    "\n",
    "emails = re.findall(pattern1, text1)\n",
    "emails"
   ],
   "id": "457d07b7a828610b",
   "outputs": [
    {
     "name": "stdout",
     "output_type": "stream",
     "text": [
      "['support@example.com', 'sales@company.org', 'john.doe123@university.edu']\n"
     ]
    }
   ],
   "execution_count": 2
  },
  {
   "metadata": {},
   "cell_type": "markdown",
   "source": [
    "### Problem 2: Validate Phone Numbers\n",
    "**Description:** Check if the phone numbers in the text follow the format `XXX-XXX-XXXX.`\n",
    "\n",
    "**Example**\n",
    " - Valid: 123-456-7890, 987-654-3210\n",
    " - Invalid: 12-345-67890, 1234567890, 123-45-6789\n"
   ],
   "id": "16bd279ec7763509"
  },
  {
   "metadata": {
    "ExecuteTime": {
     "end_time": "2025-09-23T06:42:58.063Z",
     "start_time": "2025-09-23T06:42:58.052580Z"
    }
   },
   "cell_type": "code",
   "source": [
    "phone_numbers = [\n",
    "    \"123-456-7890\",\n",
    "    \"987-654-3210\",\n",
    "    \"00-345-67890\",\n",
    "    \"1234567890\",\n",
    "    \"123-45-6789\"\n",
    "]\n",
    "pattern = re.compile(r\"^\\d{3}-\\d{3}-\\d{4}$\")\n",
    "valid = []\n",
    "invalid = []\n",
    "\n",
    "#re.fullmatch(r\"\\d{3}-\\d{3}-\\d{4}\", n):\n",
    "\n",
    "for n in phone_numbers:\n",
    "    if pattern.match(n):\n",
    "        valid.append(n)\n",
    "    else:\n",
    "        invalid.append(n)\n",
    "\n",
    "print('problem 2, phone numbers')\n",
    "print('valid:', valid)\n",
    "print('invalid:', invalid)"
   ],
   "id": "e1c8289944227b6c",
   "outputs": [
    {
     "name": "stdout",
     "output_type": "stream",
     "text": [
      "problem 2, phone numbers\n",
      "valid: ['123-456-7890', '987-654-3210']\n",
      "invalid: ['00-345-67890', '1234567890', '123-45-6789']\n"
     ]
    }
   ],
   "execution_count": 13
  },
  {
   "metadata": {},
   "cell_type": "markdown",
   "source": [
    "### Problem 3: Extract Dates\n",
    "**Description:** Extract all dates in the format `DD/MM/YYYY` or `DD-MM-YYYY` from a given text.\n",
    "\n",
    "**Sample text:**  Important dates: 25/12/2023, 01-01-2024, 31/05/2023, and 15-10-2024.\n",
    "\n",
    "**Expected Output:**\n",
    " 25/12/2023\n",
    " 01-01-2024\n",
    " 31/05/2023\n",
    " 15-10-2024"
   ],
   "id": "d3416d4b87c543f8"
  },
  {
   "metadata": {
    "ExecuteTime": {
     "end_time": "2025-09-23T06:45:54.436524Z",
     "start_time": "2025-09-23T06:45:54.428480Z"
    }
   },
   "cell_type": "code",
   "source": [
    "dates = 'Important dates: 25/00/2023, 01-01-2024, 31/05/2023, and 15-10-2024'\n",
    "\n",
    "pattern1 = r\"(\\d{2}-\\d{2}-\\d{4})|(\\d{2}/\\d{2}/\\d{4})\"\n",
    "pattern2 = r\"(?:\\d{2}-\\d{2}-\\d{4})|(?:\\d{2}/\\d{2}/\\d{4})\"\n",
    "result1 = re.findall(pattern1, dates)\n",
    "result2 = re.findall(pattern2, dates)\n",
    "\n",
    "print('version1 \\n', result1)\n",
    "print('version2 \\n', result2)"
   ],
   "id": "bd6fe65791bf6d87",
   "outputs": [
    {
     "name": "stdout",
     "output_type": "stream",
     "text": [
      "version1 \n",
      " [('', '25/00/2023'), ('01-01-2024', ''), ('', '31/05/2023'), ('15-10-2024', '')]\n",
      "version2 \n",
      " ['25/00/2023', '01-01-2024', '31/05/2023', '15-10-2024']\n"
     ]
    }
   ],
   "execution_count": 17
  },
  {
   "metadata": {},
   "cell_type": "markdown",
   "source": [
    "### Problem 4: Find Repeated Words\n",
    "**Description:** Identify and extract words that are repeated consecutively in a given text.\n",
    "\n",
    "**Sample text:** The the quick brown fox jumps over the the lazy dog.\n",
    "\n",
    "**Expected Output:**\n",
    " Repeated words:\n",
    " the the\n",
    " the the"
   ],
   "id": "9027bea8a6ea613d"
  },
  {
   "metadata": {
    "ExecuteTime": {
     "end_time": "2025-09-23T06:47:42.559924Z",
     "start_time": "2025-09-23T06:47:42.548423Z"
    }
   },
   "cell_type": "code",
   "source": [
    "text4 = \"This is is a test. The the quick brown fox jumps over over the lazy dog dog.\"\n",
    "\n",
    "pattern4 = r\"\\b(\\w+)\\s+\\1\\b\"   # \\1 refers back\n",
    "repeated_words = re.findall(pattern4, text4, flags=re.IGNORECASE)\n",
    "repeated_words"
   ],
   "id": "34ca444aa50dcc7c",
   "outputs": [
    {
     "data": {
      "text/plain": [
       "['is', 'The', 'over', 'dog']"
      ]
     },
     "execution_count": 20,
     "metadata": {},
     "output_type": "execute_result"
    }
   ],
   "execution_count": 20
  },
  {
   "metadata": {},
   "cell_type": "markdown",
   "source": [
    "### Problem 5: Extract Hashtags\n",
    "**Description:** Extract all hashtags from a given text.\n",
    "\n",
    "**Sample text:** Check out our new products: #Sale2024, #NewArrival, and #Discounts!\n",
    "\n",
    "**Expected Output:**\n",
    "#Sale2024\n",
    "#NewArrival\n",
    "#Discounts"
   ],
   "id": "a3d81ffdd57861fc"
  },
  {
   "metadata": {
    "ExecuteTime": {
     "end_time": "2025-09-23T09:10:14.839412Z",
     "start_time": "2025-09-23T09:10:14.833095Z"
    }
   },
   "cell_type": "code",
   "source": [
    "text5 =  'Check out our new products: #Sale2024, #NewArrival, and #Discounts!'\n",
    "pattern5 = r'#\\w+'\n",
    "result = re.findall(pattern5, text5)\n",
    "print('problem 5, hashtags \\n', result)"
   ],
   "id": "42b4e405a97cc00d",
   "outputs": [
    {
     "name": "stdout",
     "output_type": "stream",
     "text": [
      "problem 5, hashtags \n",
      " ['#Sale2024', '#NewArrival', '#Discounts']\n"
     ]
    }
   ],
   "execution_count": 22
  },
  {
   "metadata": {},
   "cell_type": "markdown",
   "source": [
    "### Problem 6: Validate Password Strength\n",
    "**Description:** Check if the passwords meet the following criteria:\n",
    "- At least 8 characters long\n",
    "- Contains at least one uppercase letter\n",
    "- Contains at least one lowercase letter\n",
    "- Contains at least one digit\n",
    "\n",
    "**Example:**\n",
    "\n",
    "Valid: Password123, Secure456\n",
    "\n",
    "Invalid: weak, password, Password"
   ],
   "id": "b65e921b3b02b02a"
  },
  {
   "metadata": {
    "ExecuteTime": {
     "end_time": "2025-09-23T09:11:25.592134Z",
     "start_time": "2025-09-23T09:11:25.582469Z"
    }
   },
   "cell_type": "code",
   "source": [
    "passwords = [ 'Password123', 'Secure456', 'weak', 'password', 'Password']\n",
    "pattern6 = r\"^(?=.*[a-z])(?=.*[A-Z])(?=.*\\d).{8,}$\"\n",
    "valid_passwords = [pw for pw in passwords if re.match(pattern6, pw)]\n",
    "print('valid passwords \\n', valid_passwords)"
   ],
   "id": "a892e80523ec5836",
   "outputs": [
    {
     "name": "stdout",
     "output_type": "stream",
     "text": [
      "valid passwords \n",
      " ['Password123', 'Secure456']\n"
     ]
    }
   ],
   "execution_count": 29
  },
  {
   "metadata": {},
   "cell_type": "markdown",
   "source": [
    "### Problem 7: Extract URLs\n",
    "**Description:** Extract all URLs from the given text.\n",
    "\n",
    "**Sample Text:**\n",
    "`Visit our website at https://www.example.com or check out http://blog.example.org for updates.`\n",
    "\n",
    "**Expected Output:**\n",
    "`https://www.example.com`\n",
    "`http://blog.example.org`"
   ],
   "id": "fe6c69398c51d169"
  },
  {
   "metadata": {
    "ExecuteTime": {
     "end_time": "2025-09-23T09:13:09.406303Z",
     "start_time": "2025-09-23T09:13:09.399442Z"
    }
   },
   "cell_type": "code",
   "source": [
    "text_url = 'Visit our website at https: // www.example.com or check out http: // blog.example.org for updates.'\n",
    "pattern7 = r\"(https?://[^\\s]+|www\\.[^\\s]+)\"\n",
    "urls = re.findall(pattern7, text_url)\n",
    "print(urls)"
   ],
   "id": "fbd13f21a1cd6c35",
   "outputs": [
    {
     "name": "stdout",
     "output_type": "stream",
     "text": [
      "['www.example.com']\n"
     ]
    }
   ],
   "execution_count": 35
  },
  {
   "metadata": {},
   "cell_type": "markdown",
   "source": [
    "### Problem 8: Replace Multiple Spaces with a Single Space\n",
    "\n",
    "**Description:** Replace multiple spaces in the text with a single space.\n",
    "\n",
    "**Sample Text:**\n",
    "`This   text       has   multiple    spaces.`\n",
    "\n",
    "**Expected Output:**\n",
    "This text has multiple spaces"
   ],
   "id": "cb958b23414c71f5"
  },
  {
   "metadata": {
    "ExecuteTime": {
     "end_time": "2025-09-23T09:17:16.331261Z",
     "start_time": "2025-09-23T09:17:16.323172Z"
    }
   },
   "cell_type": "code",
   "source": [
    "text_spaces = \"This   text    has  multiple     spaces.\"\n",
    "pattern8 = r\"\\s{2,}\"\n",
    "single_space_text = re.sub(pattern8, \" \", text_spaces)\n",
    "print( single_space_text)"
   ],
   "id": "d5be159d8ae56677",
   "outputs": [
    {
     "name": "stdout",
     "output_type": "stream",
     "text": [
      "This text has multiple spaces.\n"
     ]
    }
   ],
   "execution_count": 45
  },
  {
   "metadata": {},
   "cell_type": "markdown",
   "source": [
    "### Problem 9: Extract Quoted Text\n",
    "\n",
    "**Description:** Extract all text within double quotes (\"...\" ).\n",
    "\n",
    "**Sample Text:**\n",
    "He said, \"Hello, world!\" and she replied, \"Hi there!\"\n",
    "\n",
    "**Expected Output:**\n",
    "Hello, world!\n",
    "Hi there!"
   ],
   "id": "87bbfae038860e08"
  },
  {
   "metadata": {
    "ExecuteTime": {
     "end_time": "2025-09-23T09:17:59.377856Z",
     "start_time": "2025-09-23T09:17:59.370688Z"
    }
   },
   "cell_type": "code",
   "source": [
    "text_quotes = 'He said, \"Hello, world!\" and she replied, \"Hi there!\" '\n",
    "pattern9 = r'\"(.*?)\"'\n",
    "quoted = re.findall(pattern9, text_quotes)\n",
    "print(quoted)"
   ],
   "id": "71f584347f535977",
   "outputs": [
    {
     "name": "stdout",
     "output_type": "stream",
     "text": [
      "['Hello, world!', 'Hi there!']\n"
     ]
    }
   ],
   "execution_count": 52
  },
  {
   "metadata": {},
   "cell_type": "markdown",
   "source": [
    "### Problem 10: Validate IP Addresses\n",
    "\n",
    "**Description:** Check if the IP addresses in the text are valid (format: XXX.XXX.XXX.XXX ).\n",
    "\n",
    "**Example:**\n",
    "- Valid: 192.168.1.1, 10.0.0.255\n",
    "- Invalid: 256.1.2.3, 192.168.01.1, 192.168.1"
   ],
   "id": "1c1cfce33e43c418"
  },
  {
   "metadata": {
    "ExecuteTime": {
     "end_time": "2025-09-23T09:22:37.943253Z",
     "start_time": "2025-09-23T09:22:37.934782Z"
    }
   },
   "cell_type": "code",
   "source": [
    "text_ips = \"Valid: 192.168.1.1 and 10.0.0.255; Invalid: 256.1.2.3 or 192.168.01.1 or 192.168.1\"\n",
    "pattern = r'\\b(?:\\d|[1-9]\\d|1\\d\\d|2[0-4]\\d|25[0-5])' \\\n",
    "          r'(?:\\.(?:\\d|[1-9]\\d|1\\d\\d|2[0-4]\\d|25[0-5])){3}\\b'\n",
    "\n",
    "valid_ips = re.findall(pattern, text_ips)\n",
    "print('problem 10, valid IP addresses \\n', valid_ips)"
   ],
   "id": "3a56f04d44491c56",
   "outputs": [
    {
     "name": "stdout",
     "output_type": "stream",
     "text": [
      "problem 10, valid IP addresses \n",
      " ['192.168.1.1', '10.0.0.255']\n"
     ]
    }
   ],
   "execution_count": 76
  }
 ],
 "metadata": {
  "kernelspec": {
   "display_name": "Python 3",
   "language": "python",
   "name": "python3"
  },
  "language_info": {
   "codemirror_mode": {
    "name": "ipython",
    "version": 2
   },
   "file_extension": ".py",
   "mimetype": "text/x-python",
   "name": "python",
   "nbconvert_exporter": "python",
   "pygments_lexer": "ipython2",
   "version": "2.7.6"
  }
 },
 "nbformat": 4,
 "nbformat_minor": 5
}
