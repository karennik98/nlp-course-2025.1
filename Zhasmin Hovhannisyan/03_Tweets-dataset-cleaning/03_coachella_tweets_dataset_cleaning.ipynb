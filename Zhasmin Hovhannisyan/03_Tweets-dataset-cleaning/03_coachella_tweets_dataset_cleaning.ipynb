{
 "cells": [
  {
   "metadata": {},
   "cell_type": "markdown",
   "source": "# Lab 3: Data Cleaning and extraction on the Coachella Tweets Dataset",
   "id": "f15dcca624e4e52f"
  },
  {
   "cell_type": "code",
   "id": "initial_id",
   "metadata": {
    "collapsed": true,
    "ExecuteTime": {
     "end_time": "2025-09-23T09:42:07.565925Z",
     "start_time": "2025-09-23T09:42:07.559666Z"
    }
   },
   "source": [
    "import string\n",
    "\n",
    "import numpy as np\n",
    "import pandas as pd\n",
    "import nltk\n",
    "import re"
   ],
   "outputs": [],
   "execution_count": 21
  },
  {
   "metadata": {
    "ExecuteTime": {
     "end_time": "2025-09-23T09:42:07.621227Z",
     "start_time": "2025-09-23T09:42:07.593320Z"
    }
   },
   "cell_type": "code",
   "source": "data = pd.read_csv('Coachella-2015-2-DFE.csv', encoding='latin-1')",
   "id": "7f482032ab91c8e8",
   "outputs": [],
   "execution_count": 22
  },
  {
   "metadata": {
    "ExecuteTime": {
     "end_time": "2025-09-23T09:42:07.661944Z",
     "start_time": "2025-09-23T09:42:07.643360Z"
    }
   },
   "cell_type": "code",
   "source": "data",
   "id": "f3c5aeebc22c4e52",
   "outputs": [
    {
     "data": {
      "text/plain": [
       "     coachella_sentiment coachella_yn            name  retweet_count  \\\n",
       "0               positive          yes        kokombil              0   \n",
       "1               positive          yes   MisssTaraaa10              2   \n",
       "2               positive          yes   NMcCracken805              0   \n",
       "3               positive          yes          wxpnfm              1   \n",
       "4               positive          yes        Caesears              0   \n",
       "...                  ...          ...             ...            ...   \n",
       "3841           cant tell          yes   MissXOverdose              0   \n",
       "3842           cant tell          yes      NedRaggett              1   \n",
       "3843           cant tell          yes  nicolejackieee              0   \n",
       "3844           cant tell          yes    NiqueWobbitz              2   \n",
       "3845           cant tell          yes    LindsayRuben              1   \n",
       "\n",
       "                                                   text tweet_coord  \\\n",
       "0     #Coachella2015 tickets selling out in less tha...  [0.0, 0.0]   \n",
       "1     RT @sudsybuddy: WAIT THIS IS ABSOLUTE FIRE _ÙÓ...         NaN   \n",
       "2     #Coachella2015 #VIP passes secured! See you th...         NaN   \n",
       "3     PhillyÛªs @warondrugsjams will play #Coachell...         NaN   \n",
       "4     If briana and her mom out to #Coachella2015  i...         NaN   \n",
       "...                                                 ...         ...   \n",
       "3841  Excuse me while I go cry now. _Ù÷¢ #Coachella2...         NaN   \n",
       "3842  RT @touchofallright: Ride and Steely Dan. It w...         NaN   \n",
       "3843  I've been callin that since day one #Coachella...         NaN   \n",
       "3844  Is this for real?!?! #Coachella2015 http://t.c...         NaN   \n",
       "3845  RT @Jen_Baz: C'monnnnnn lineup! #coachella2015...         NaN   \n",
       "\n",
       "     tweet_created      tweet_id                  tweet_location  \\\n",
       "0     1/7/15 15:02  5.529630e+17                             NaN   \n",
       "1     1/7/15 15:02  5.529630e+17                   united states   \n",
       "2     1/7/15 15:01  5.529630e+17                  Costa Mesa, CA   \n",
       "3     1/7/15 15:01  5.529630e+17  Philadelphia, PA and Worldwide   \n",
       "4     1/7/15 15:00  5.529630e+17                             NaN   \n",
       "...            ...           ...                             ...   \n",
       "3841  1/6/15 10:32  5.525330e+17                             atx   \n",
       "3842  1/6/15 10:28  5.525320e+17                  Costa Mesa, CA   \n",
       "3843  1/6/15 10:26  5.525320e+17                             NaN   \n",
       "3844  1/6/15 10:21  5.525300e+17   Huntington Beach X Long Beach   \n",
       "3845   1/6/15 6:44  5.524760e+17                             NaN   \n",
       "\n",
       "                   user_timezone  \n",
       "0                          Quito  \n",
       "1                            NaN  \n",
       "2                            NaN  \n",
       "3                          Quito  \n",
       "4                            NaN  \n",
       "...                          ...  \n",
       "3841  Pacific Time (US & Canada)  \n",
       "3842  Pacific Time (US & Canada)  \n",
       "3843                         NaN  \n",
       "3844  Pacific Time (US & Canada)  \n",
       "3845                         NaN  \n",
       "\n",
       "[3846 rows x 10 columns]"
      ],
      "text/html": [
       "<div>\n",
       "<style scoped>\n",
       "    .dataframe tbody tr th:only-of-type {\n",
       "        vertical-align: middle;\n",
       "    }\n",
       "\n",
       "    .dataframe tbody tr th {\n",
       "        vertical-align: top;\n",
       "    }\n",
       "\n",
       "    .dataframe thead th {\n",
       "        text-align: right;\n",
       "    }\n",
       "</style>\n",
       "<table border=\"1\" class=\"dataframe\">\n",
       "  <thead>\n",
       "    <tr style=\"text-align: right;\">\n",
       "      <th></th>\n",
       "      <th>coachella_sentiment</th>\n",
       "      <th>coachella_yn</th>\n",
       "      <th>name</th>\n",
       "      <th>retweet_count</th>\n",
       "      <th>text</th>\n",
       "      <th>tweet_coord</th>\n",
       "      <th>tweet_created</th>\n",
       "      <th>tweet_id</th>\n",
       "      <th>tweet_location</th>\n",
       "      <th>user_timezone</th>\n",
       "    </tr>\n",
       "  </thead>\n",
       "  <tbody>\n",
       "    <tr>\n",
       "      <th>0</th>\n",
       "      <td>positive</td>\n",
       "      <td>yes</td>\n",
       "      <td>kokombil</td>\n",
       "      <td>0</td>\n",
       "      <td>#Coachella2015 tickets selling out in less tha...</td>\n",
       "      <td>[0.0, 0.0]</td>\n",
       "      <td>1/7/15 15:02</td>\n",
       "      <td>5.529630e+17</td>\n",
       "      <td>NaN</td>\n",
       "      <td>Quito</td>\n",
       "    </tr>\n",
       "    <tr>\n",
       "      <th>1</th>\n",
       "      <td>positive</td>\n",
       "      <td>yes</td>\n",
       "      <td>MisssTaraaa10</td>\n",
       "      <td>2</td>\n",
       "      <td>RT @sudsybuddy: WAIT THIS IS ABSOLUTE FIRE _ÙÓ...</td>\n",
       "      <td>NaN</td>\n",
       "      <td>1/7/15 15:02</td>\n",
       "      <td>5.529630e+17</td>\n",
       "      <td>united states</td>\n",
       "      <td>NaN</td>\n",
       "    </tr>\n",
       "    <tr>\n",
       "      <th>2</th>\n",
       "      <td>positive</td>\n",
       "      <td>yes</td>\n",
       "      <td>NMcCracken805</td>\n",
       "      <td>0</td>\n",
       "      <td>#Coachella2015 #VIP passes secured! See you th...</td>\n",
       "      <td>NaN</td>\n",
       "      <td>1/7/15 15:01</td>\n",
       "      <td>5.529630e+17</td>\n",
       "      <td>Costa Mesa, CA</td>\n",
       "      <td>NaN</td>\n",
       "    </tr>\n",
       "    <tr>\n",
       "      <th>3</th>\n",
       "      <td>positive</td>\n",
       "      <td>yes</td>\n",
       "      <td>wxpnfm</td>\n",
       "      <td>1</td>\n",
       "      <td>PhillyÛªs @warondrugsjams will play #Coachell...</td>\n",
       "      <td>NaN</td>\n",
       "      <td>1/7/15 15:01</td>\n",
       "      <td>5.529630e+17</td>\n",
       "      <td>Philadelphia, PA and Worldwide</td>\n",
       "      <td>Quito</td>\n",
       "    </tr>\n",
       "    <tr>\n",
       "      <th>4</th>\n",
       "      <td>positive</td>\n",
       "      <td>yes</td>\n",
       "      <td>Caesears</td>\n",
       "      <td>0</td>\n",
       "      <td>If briana and her mom out to #Coachella2015  i...</td>\n",
       "      <td>NaN</td>\n",
       "      <td>1/7/15 15:00</td>\n",
       "      <td>5.529630e+17</td>\n",
       "      <td>NaN</td>\n",
       "      <td>NaN</td>\n",
       "    </tr>\n",
       "    <tr>\n",
       "      <th>...</th>\n",
       "      <td>...</td>\n",
       "      <td>...</td>\n",
       "      <td>...</td>\n",
       "      <td>...</td>\n",
       "      <td>...</td>\n",
       "      <td>...</td>\n",
       "      <td>...</td>\n",
       "      <td>...</td>\n",
       "      <td>...</td>\n",
       "      <td>...</td>\n",
       "    </tr>\n",
       "    <tr>\n",
       "      <th>3841</th>\n",
       "      <td>cant tell</td>\n",
       "      <td>yes</td>\n",
       "      <td>MissXOverdose</td>\n",
       "      <td>0</td>\n",
       "      <td>Excuse me while I go cry now. _Ù÷¢ #Coachella2...</td>\n",
       "      <td>NaN</td>\n",
       "      <td>1/6/15 10:32</td>\n",
       "      <td>5.525330e+17</td>\n",
       "      <td>atx</td>\n",
       "      <td>Pacific Time (US &amp; Canada)</td>\n",
       "    </tr>\n",
       "    <tr>\n",
       "      <th>3842</th>\n",
       "      <td>cant tell</td>\n",
       "      <td>yes</td>\n",
       "      <td>NedRaggett</td>\n",
       "      <td>1</td>\n",
       "      <td>RT @touchofallright: Ride and Steely Dan. It w...</td>\n",
       "      <td>NaN</td>\n",
       "      <td>1/6/15 10:28</td>\n",
       "      <td>5.525320e+17</td>\n",
       "      <td>Costa Mesa, CA</td>\n",
       "      <td>Pacific Time (US &amp; Canada)</td>\n",
       "    </tr>\n",
       "    <tr>\n",
       "      <th>3843</th>\n",
       "      <td>cant tell</td>\n",
       "      <td>yes</td>\n",
       "      <td>nicolejackieee</td>\n",
       "      <td>0</td>\n",
       "      <td>I've been callin that since day one #Coachella...</td>\n",
       "      <td>NaN</td>\n",
       "      <td>1/6/15 10:26</td>\n",
       "      <td>5.525320e+17</td>\n",
       "      <td>NaN</td>\n",
       "      <td>NaN</td>\n",
       "    </tr>\n",
       "    <tr>\n",
       "      <th>3844</th>\n",
       "      <td>cant tell</td>\n",
       "      <td>yes</td>\n",
       "      <td>NiqueWobbitz</td>\n",
       "      <td>2</td>\n",
       "      <td>Is this for real?!?! #Coachella2015 http://t.c...</td>\n",
       "      <td>NaN</td>\n",
       "      <td>1/6/15 10:21</td>\n",
       "      <td>5.525300e+17</td>\n",
       "      <td>Huntington Beach X Long Beach</td>\n",
       "      <td>Pacific Time (US &amp; Canada)</td>\n",
       "    </tr>\n",
       "    <tr>\n",
       "      <th>3845</th>\n",
       "      <td>cant tell</td>\n",
       "      <td>yes</td>\n",
       "      <td>LindsayRuben</td>\n",
       "      <td>1</td>\n",
       "      <td>RT @Jen_Baz: C'monnnnnn lineup! #coachella2015...</td>\n",
       "      <td>NaN</td>\n",
       "      <td>1/6/15 6:44</td>\n",
       "      <td>5.524760e+17</td>\n",
       "      <td>NaN</td>\n",
       "      <td>NaN</td>\n",
       "    </tr>\n",
       "  </tbody>\n",
       "</table>\n",
       "<p>3846 rows × 10 columns</p>\n",
       "</div>"
      ]
     },
     "execution_count": 23,
     "metadata": {},
     "output_type": "execute_result"
    }
   ],
   "execution_count": 23
  },
  {
   "metadata": {},
   "cell_type": "markdown",
   "source": "#### 1. Find all hashtags in the tweets and store them in a new column named 'hashtags'. Remove the hashtags from the original tweet text.\n",
   "id": "6934c4f43523e082"
  },
  {
   "metadata": {
    "ExecuteTime": {
     "end_time": "2025-09-23T09:42:07.763852Z",
     "start_time": "2025-09-23T09:42:07.732458Z"
    }
   },
   "cell_type": "code",
   "source": [
    "hashtag_pattern = r'#\\w+'\n",
    "data['hashtags'] = data['text'].apply(lambda x: re.findall(hashtag_pattern, str(x)))\n",
    "data['text'] = data['text'].apply(lambda x: re.sub(hashtag_pattern, '', str(x)))\n",
    "data.hashtags"
   ],
   "id": "f98220b89d90676a",
   "outputs": [
    {
     "data": {
      "text/plain": [
       "0                     [#Coachella2015]\n",
       "1                     [#Coachella2015]\n",
       "2               [#Coachella2015, #VIP]\n",
       "3       [#Coachella2015, #GovBall2015]\n",
       "4                     [#Coachella2015]\n",
       "                     ...              \n",
       "3841                  [#Coachella2015]\n",
       "3842                  [#Coachella2015]\n",
       "3843                  [#Coachella2015]\n",
       "3844                  [#Coachella2015]\n",
       "3845      [#coachella2015, #Impatient]\n",
       "Name: hashtags, Length: 3846, dtype: object"
      ]
     },
     "execution_count": 24,
     "metadata": {},
     "output_type": "execute_result"
    }
   ],
   "execution_count": 24
  },
  {
   "metadata": {},
   "cell_type": "markdown",
   "source": "#### 2. Find all email addresses in the tweets and store them in a new column named 'mails'. Remove the email addresses from the original tweet text.\n",
   "id": "9d3693e4524af03d"
  },
  {
   "metadata": {
    "ExecuteTime": {
     "end_time": "2025-09-23T09:42:07.960471Z",
     "start_time": "2025-09-23T09:42:07.879938Z"
    }
   },
   "cell_type": "code",
   "source": [
    "mail_pattern = r\"[\\w.-]+@\\w+\\.[A-Za-z]{2,}\"\n",
    "data['mails'] = data['text'].apply(lambda x: re.findall(mail_pattern, str(x)))\n",
    "data['text'] = data['text'].apply(lambda x: re.sub(mail_pattern, '', str(x)))\n",
    "data.mails"
   ],
   "id": "e71bc30720eb782",
   "outputs": [
    {
     "data": {
      "text/plain": [
       "0       []\n",
       "1       []\n",
       "2       []\n",
       "3       []\n",
       "4       []\n",
       "        ..\n",
       "3841    []\n",
       "3842    []\n",
       "3843    []\n",
       "3844    []\n",
       "3845    []\n",
       "Name: mails, Length: 3846, dtype: object"
      ]
     },
     "execution_count": 25,
     "metadata": {},
     "output_type": "execute_result"
    }
   ],
   "execution_count": 25
  },
  {
   "metadata": {},
   "cell_type": "markdown",
   "source": "#### 3. Remove all usernames (words starting with '@')",
   "id": "8015750441c2ad86"
  },
  {
   "metadata": {
    "ExecuteTime": {
     "end_time": "2025-09-23T09:42:08.100565Z",
     "start_time": "2025-09-23T09:42:08.085622Z"
    }
   },
   "cell_type": "code",
   "source": [
    "username_pattern = r'@[\\w]+'\n",
    "data['text'] = data['text'].apply(lambda x: re.sub(username_pattern, '', str(x)))\n",
    "data.text"
   ],
   "id": "d21005b321f051cc",
   "outputs": [
    {
     "data": {
      "text/plain": [
       "0        tickets selling out in less than 40 minutes _...\n",
       "1       RT : WAIT THIS IS ABSOLUTE FIRE _ÙÓ´_ÙÓ´_ÙÓ´  ...\n",
       "2               passes secured! See you there bitchesssss\n",
       "3       PhillyÛªs  will play  &amp; ! Watch them on J...\n",
       "4       If briana and her mom out to   im out with the...\n",
       "                              ...                        \n",
       "3841    Excuse me while I go cry now. _Ù÷¢  http://t.c...\n",
       "3842    RT : Ride and Steely Dan. It would only be bet...\n",
       "3843                 I've been callin that since day one \n",
       "3844         Is this for real?!?!  http://t.co/PbeDWs5OS9\n",
       "3845                            RT : C'monnnnnn lineup!  \n",
       "Name: text, Length: 3846, dtype: object"
      ]
     },
     "execution_count": 26,
     "metadata": {},
     "output_type": "execute_result"
    }
   ],
   "execution_count": 26
  },
  {
   "metadata": {},
   "cell_type": "markdown",
   "source": "### 4. Remove all URLs from the tweet text.",
   "id": "c7c52d149e4dc9ea"
  },
  {
   "metadata": {
    "ExecuteTime": {
     "end_time": "2025-09-23T09:42:08.330968Z",
     "start_time": "2025-09-23T09:42:08.313642Z"
    }
   },
   "cell_type": "code",
   "source": [
    "url_pattern = r\"(https?://[^\\s]+|www\\.[^\\s]+)\"\n",
    "data['text'] = data['text'].apply(lambda x: re.sub(url_pattern, '', str(x)))\n",
    "data.text"
   ],
   "id": "9c1b6247f37e56bf",
   "outputs": [
    {
     "data": {
      "text/plain": [
       "0        tickets selling out in less than 40 minutes _...\n",
       "1          RT : WAIT THIS IS ABSOLUTE FIRE _ÙÓ´_ÙÓ´_ÙÓ´  \n",
       "2               passes secured! See you there bitchesssss\n",
       "3       PhillyÛªs  will play  &amp; ! Watch them on J...\n",
       "4       If briana and her mom out to   im out with the...\n",
       "                              ...                        \n",
       "3841                 Excuse me while I go cry now. _Ù÷¢  \n",
       "3842    RT : Ride and Steely Dan. It would only be bet...\n",
       "3843                 I've been callin that since day one \n",
       "3844                               Is this for real?!?!  \n",
       "3845                            RT : C'monnnnnn lineup!  \n",
       "Name: text, Length: 3846, dtype: object"
      ]
     },
     "execution_count": 27,
     "metadata": {},
     "output_type": "execute_result"
    }
   ],
   "execution_count": 27
  },
  {
   "metadata": {},
   "cell_type": "markdown",
   "source": "#### 5. Remove all non-ASCII characters from the tweet text.",
   "id": "4cca44ac1ead186e"
  },
  {
   "metadata": {
    "ExecuteTime": {
     "end_time": "2025-09-23T09:42:08.478334Z",
     "start_time": "2025-09-23T09:42:08.470826Z"
    }
   },
   "cell_type": "code",
   "source": [
    "print(ord('a'))\n",
    "print(ord(''))\n",
    "print(ord('😊'))"
   ],
   "id": "fd7a1a080b3ce03b",
   "outputs": [
    {
     "name": "stdout",
     "output_type": "stream",
     "text": [
      "97\n",
      "137\n",
      "128522\n"
     ]
    }
   ],
   "execution_count": 28
  },
  {
   "metadata": {
    "ExecuteTime": {
     "end_time": "2025-09-23T09:42:08.615827Z",
     "start_time": "2025-09-23T09:42:08.606992Z"
    }
   },
   "cell_type": "code",
   "source": "data.text",
   "id": "a73b3a954233dd28",
   "outputs": [
    {
     "data": {
      "text/plain": [
       "0        tickets selling out in less than 40 minutes _...\n",
       "1          RT : WAIT THIS IS ABSOLUTE FIRE _ÙÓ´_ÙÓ´_ÙÓ´  \n",
       "2               passes secured! See you there bitchesssss\n",
       "3       PhillyÛªs  will play  &amp; ! Watch them on J...\n",
       "4       If briana and her mom out to   im out with the...\n",
       "                              ...                        \n",
       "3841                 Excuse me while I go cry now. _Ù÷¢  \n",
       "3842    RT : Ride and Steely Dan. It would only be bet...\n",
       "3843                 I've been callin that since day one \n",
       "3844                               Is this for real?!?!  \n",
       "3845                            RT : C'monnnnnn lineup!  \n",
       "Name: text, Length: 3846, dtype: object"
      ]
     },
     "execution_count": 29,
     "metadata": {},
     "output_type": "execute_result"
    }
   ],
   "execution_count": 29
  },
  {
   "metadata": {
    "ExecuteTime": {
     "end_time": "2025-09-23T09:42:08.816094Z",
     "start_time": "2025-09-23T09:42:08.788991Z"
    }
   },
   "cell_type": "code",
   "source": "data['text'] = data['text'].apply(lambda x: ''.join([char for char in str(x) if ord(char) < 128]))",
   "id": "573a0c4749f98cc9",
   "outputs": [],
   "execution_count": 30
  },
  {
   "metadata": {
    "ExecuteTime": {
     "end_time": "2025-09-23T09:42:08.885329Z",
     "start_time": "2025-09-23T09:42:08.876743Z"
    }
   },
   "cell_type": "code",
   "source": "data.text.head()",
   "id": "85e399f92d56b2bd",
   "outputs": [
    {
     "data": {
      "text/plain": [
       "0     tickets selling out in less than 40 minutes _...\n",
       "1                RT : WAIT THIS IS ABSOLUTE FIRE ___  \n",
       "2            passes secured! See you there bitchesssss\n",
       "3    Phillys  will play  &amp; ! Watch them on Jimm...\n",
       "4    If briana and her mom out to   im out with the...\n",
       "Name: text, dtype: object"
      ]
     },
     "execution_count": 31,
     "metadata": {},
     "output_type": "execute_result"
    }
   ],
   "execution_count": 31
  },
  {
   "metadata": {
    "ExecuteTime": {
     "end_time": "2025-09-23T09:42:08.991943Z",
     "start_time": "2025-09-23T09:42:08.965583Z"
    }
   },
   "cell_type": "code",
   "source": "data['text'] = data['text'].apply(lambda x: ''.join([char for char in str(x) if (char != '_')]))",
   "id": "5cd3d1e115a9bf18",
   "outputs": [],
   "execution_count": 32
  },
  {
   "metadata": {
    "ExecuteTime": {
     "end_time": "2025-09-23T09:42:09.063713Z",
     "start_time": "2025-09-23T09:42:09.052744Z"
    }
   },
   "cell_type": "code",
   "source": "data.text.head()",
   "id": "3aca45cd5681e067",
   "outputs": [
    {
     "data": {
      "text/plain": [
       "0        tickets selling out in less than 40 minutes  \n",
       "1                   RT : WAIT THIS IS ABSOLUTE FIRE   \n",
       "2            passes secured! See you there bitchesssss\n",
       "3    Phillys  will play  &amp; ! Watch them on Jimm...\n",
       "4    If briana and her mom out to   im out with the...\n",
       "Name: text, dtype: object"
      ]
     },
     "execution_count": 33,
     "metadata": {},
     "output_type": "execute_result"
    }
   ],
   "execution_count": 33
  },
  {
   "metadata": {},
   "cell_type": "markdown",
   "source": "#### 6. Convert all text to lowercase.",
   "id": "6de5e5a681ee8014"
  },
  {
   "metadata": {
    "ExecuteTime": {
     "end_time": "2025-09-23T09:42:09.173774Z",
     "start_time": "2025-09-23T09:42:09.162858Z"
    }
   },
   "cell_type": "code",
   "source": [
    "data['text'] = data['text'].apply(lambda x: str(x).lower())\n",
    "data.text"
   ],
   "id": "a71c223e81c0288b",
   "outputs": [
    {
     "data": {
      "text/plain": [
       "0           tickets selling out in less than 40 minutes  \n",
       "1                      rt : wait this is absolute fire   \n",
       "2               passes secured! see you there bitchesssss\n",
       "3       phillys  will play  &amp; ! watch them on jimm...\n",
       "4       if briana and her mom out to   im out with the...\n",
       "                              ...                        \n",
       "3841                     excuse me while i go cry now.   \n",
       "3842    rt : ride and steely dan. it would only be bet...\n",
       "3843                 i've been callin that since day one \n",
       "3844                               is this for real?!?!  \n",
       "3845                            rt : c'monnnnnn lineup!  \n",
       "Name: text, Length: 3846, dtype: object"
      ]
     },
     "execution_count": 34,
     "metadata": {},
     "output_type": "execute_result"
    }
   ],
   "execution_count": 34
  },
  {
   "metadata": {
    "ExecuteTime": {
     "end_time": "2025-09-23T09:42:09.309266Z",
     "start_time": "2025-09-23T09:42:09.297025Z"
    }
   },
   "cell_type": "code",
   "source": "print(data.head())",
   "id": "b54c58815ca7f998",
   "outputs": [
    {
     "name": "stdout",
     "output_type": "stream",
     "text": [
      "  coachella_sentiment coachella_yn           name  retweet_count  \\\n",
      "0            positive          yes       kokombil              0   \n",
      "1            positive          yes  MisssTaraaa10              2   \n",
      "2            positive          yes  NMcCracken805              0   \n",
      "3            positive          yes         wxpnfm              1   \n",
      "4            positive          yes       Caesears              0   \n",
      "\n",
      "                                                text tweet_coord  \\\n",
      "0      tickets selling out in less than 40 minutes    [0.0, 0.0]   \n",
      "1                 rt : wait this is absolute fire            NaN   \n",
      "2          passes secured! see you there bitchesssss         NaN   \n",
      "3  phillys  will play  &amp; ! watch them on jimm...         NaN   \n",
      "4  if briana and her mom out to   im out with the...         NaN   \n",
      "\n",
      "  tweet_created      tweet_id                  tweet_location user_timezone  \\\n",
      "0  1/7/15 15:02  5.529630e+17                             NaN         Quito   \n",
      "1  1/7/15 15:02  5.529630e+17                   united states           NaN   \n",
      "2  1/7/15 15:01  5.529630e+17                  Costa Mesa, CA           NaN   \n",
      "3  1/7/15 15:01  5.529630e+17  Philadelphia, PA and Worldwide         Quito   \n",
      "4  1/7/15 15:00  5.529630e+17                             NaN           NaN   \n",
      "\n",
      "                         hashtags mails  \n",
      "0                [#Coachella2015]    []  \n",
      "1                [#Coachella2015]    []  \n",
      "2          [#Coachella2015, #VIP]    []  \n",
      "3  [#Coachella2015, #GovBall2015]    []  \n",
      "4                [#Coachella2015]    []  \n"
     ]
    }
   ],
   "execution_count": 35
  },
  {
   "metadata": {},
   "cell_type": "markdown",
   "source": "#### 7. Remove stopwords",
   "id": "d0d031fadf694dfb"
  },
  {
   "metadata": {
    "ExecuteTime": {
     "end_time": "2025-09-23T09:47:20.372961Z",
     "start_time": "2025-09-23T09:47:19.111177Z"
    }
   },
   "cell_type": "code",
   "source": "nltk.download('stopwords')",
   "id": "d590611a1d5b89c4",
   "outputs": [
    {
     "name": "stderr",
     "output_type": "stream",
     "text": [
      "[nltk_data] Downloading package stopwords to\n",
      "[nltk_data]     C:\\Users\\Jasmin\\AppData\\Roaming\\nltk_data...\n",
      "[nltk_data]   Unzipping corpora\\stopwords.zip.\n"
     ]
    },
    {
     "data": {
      "text/plain": [
       "True"
      ]
     },
     "execution_count": 37,
     "metadata": {},
     "output_type": "execute_result"
    }
   ],
   "execution_count": 37
  },
  {
   "metadata": {
    "ExecuteTime": {
     "end_time": "2025-09-23T09:47:24.725345Z",
     "start_time": "2025-09-23T09:47:24.688348Z"
    }
   },
   "cell_type": "code",
   "source": "stopwords = set(nltk.corpus.stopwords.words('english'))",
   "id": "9de3cd6c56b8ab49",
   "outputs": [],
   "execution_count": 38
  },
  {
   "metadata": {
    "ExecuteTime": {
     "end_time": "2025-09-23T09:47:35.345327Z",
     "start_time": "2025-09-23T09:47:35.335925Z"
    }
   },
   "cell_type": "code",
   "source": "stopwords",
   "id": "33919132cc40710",
   "outputs": [
    {
     "data": {
      "text/plain": [
       "{'a',\n",
       " 'about',\n",
       " 'above',\n",
       " 'after',\n",
       " 'again',\n",
       " 'against',\n",
       " 'ain',\n",
       " 'all',\n",
       " 'am',\n",
       " 'an',\n",
       " 'and',\n",
       " 'any',\n",
       " 'are',\n",
       " 'aren',\n",
       " \"aren't\",\n",
       " 'as',\n",
       " 'at',\n",
       " 'be',\n",
       " 'because',\n",
       " 'been',\n",
       " 'before',\n",
       " 'being',\n",
       " 'below',\n",
       " 'between',\n",
       " 'both',\n",
       " 'but',\n",
       " 'by',\n",
       " 'can',\n",
       " 'couldn',\n",
       " \"couldn't\",\n",
       " 'd',\n",
       " 'did',\n",
       " 'didn',\n",
       " \"didn't\",\n",
       " 'do',\n",
       " 'does',\n",
       " 'doesn',\n",
       " \"doesn't\",\n",
       " 'doing',\n",
       " 'don',\n",
       " \"don't\",\n",
       " 'down',\n",
       " 'during',\n",
       " 'each',\n",
       " 'few',\n",
       " 'for',\n",
       " 'from',\n",
       " 'further',\n",
       " 'had',\n",
       " 'hadn',\n",
       " \"hadn't\",\n",
       " 'has',\n",
       " 'hasn',\n",
       " \"hasn't\",\n",
       " 'have',\n",
       " 'haven',\n",
       " \"haven't\",\n",
       " 'having',\n",
       " 'he',\n",
       " \"he'd\",\n",
       " \"he'll\",\n",
       " \"he's\",\n",
       " 'her',\n",
       " 'here',\n",
       " 'hers',\n",
       " 'herself',\n",
       " 'him',\n",
       " 'himself',\n",
       " 'his',\n",
       " 'how',\n",
       " 'i',\n",
       " \"i'd\",\n",
       " \"i'll\",\n",
       " \"i'm\",\n",
       " \"i've\",\n",
       " 'if',\n",
       " 'in',\n",
       " 'into',\n",
       " 'is',\n",
       " 'isn',\n",
       " \"isn't\",\n",
       " 'it',\n",
       " \"it'd\",\n",
       " \"it'll\",\n",
       " \"it's\",\n",
       " 'its',\n",
       " 'itself',\n",
       " 'just',\n",
       " 'll',\n",
       " 'm',\n",
       " 'ma',\n",
       " 'me',\n",
       " 'mightn',\n",
       " \"mightn't\",\n",
       " 'more',\n",
       " 'most',\n",
       " 'mustn',\n",
       " \"mustn't\",\n",
       " 'my',\n",
       " 'myself',\n",
       " 'needn',\n",
       " \"needn't\",\n",
       " 'no',\n",
       " 'nor',\n",
       " 'not',\n",
       " 'now',\n",
       " 'o',\n",
       " 'of',\n",
       " 'off',\n",
       " 'on',\n",
       " 'once',\n",
       " 'only',\n",
       " 'or',\n",
       " 'other',\n",
       " 'our',\n",
       " 'ours',\n",
       " 'ourselves',\n",
       " 'out',\n",
       " 'over',\n",
       " 'own',\n",
       " 're',\n",
       " 's',\n",
       " 'same',\n",
       " 'shan',\n",
       " \"shan't\",\n",
       " 'she',\n",
       " \"she'd\",\n",
       " \"she'll\",\n",
       " \"she's\",\n",
       " 'should',\n",
       " \"should've\",\n",
       " 'shouldn',\n",
       " \"shouldn't\",\n",
       " 'so',\n",
       " 'some',\n",
       " 'such',\n",
       " 't',\n",
       " 'than',\n",
       " 'that',\n",
       " \"that'll\",\n",
       " 'the',\n",
       " 'their',\n",
       " 'theirs',\n",
       " 'them',\n",
       " 'themselves',\n",
       " 'then',\n",
       " 'there',\n",
       " 'these',\n",
       " 'they',\n",
       " \"they'd\",\n",
       " \"they'll\",\n",
       " \"they're\",\n",
       " \"they've\",\n",
       " 'this',\n",
       " 'those',\n",
       " 'through',\n",
       " 'to',\n",
       " 'too',\n",
       " 'under',\n",
       " 'until',\n",
       " 'up',\n",
       " 've',\n",
       " 'very',\n",
       " 'was',\n",
       " 'wasn',\n",
       " \"wasn't\",\n",
       " 'we',\n",
       " \"we'd\",\n",
       " \"we'll\",\n",
       " \"we're\",\n",
       " \"we've\",\n",
       " 'were',\n",
       " 'weren',\n",
       " \"weren't\",\n",
       " 'what',\n",
       " 'when',\n",
       " 'where',\n",
       " 'which',\n",
       " 'while',\n",
       " 'who',\n",
       " 'whom',\n",
       " 'why',\n",
       " 'will',\n",
       " 'with',\n",
       " 'won',\n",
       " \"won't\",\n",
       " 'wouldn',\n",
       " \"wouldn't\",\n",
       " 'y',\n",
       " 'you',\n",
       " \"you'd\",\n",
       " \"you'll\",\n",
       " \"you're\",\n",
       " \"you've\",\n",
       " 'your',\n",
       " 'yours',\n",
       " 'yourself',\n",
       " 'yourselves'}"
      ]
     },
     "execution_count": 39,
     "metadata": {},
     "output_type": "execute_result"
    }
   ],
   "execution_count": 39
  },
  {
   "metadata": {
    "ExecuteTime": {
     "end_time": "2025-09-23T09:54:21.860009Z",
     "start_time": "2025-09-23T09:54:21.836710Z"
    }
   },
   "cell_type": "code",
   "source": [
    "data['text'] = data['text'].apply(lambda x:' '.join([word for word in str(x).split() if word not in stopwords]))\n",
    "data.text"
   ],
   "id": "d42f638a1a09d4b1",
   "outputs": [
    {
     "data": {
      "text/plain": [
       "0                      tickets selling less 40 minutes\n",
       "1                              rt : wait absolute fire\n",
       "2                      passes secured! see bitchesssss\n",
       "3             phillys play &amp; ! watch jimmy fallon:\n",
       "4                                    briana mom im !!!\n",
       "                             ...                      \n",
       "3841                                excuse go cry now.\n",
       "3842    rt : ride steely dan. would better supergroup.\n",
       "3843                              callin since day one\n",
       "3844                                          real?!?!\n",
       "3845                           rt : c'monnnnnn lineup!\n",
       "Name: text, Length: 3846, dtype: object"
      ]
     },
     "execution_count": 41,
     "metadata": {},
     "output_type": "execute_result"
    }
   ],
   "execution_count": 41
  },
  {
   "metadata": {},
   "cell_type": "markdown",
   "source": "#### 8. Remove digits",
   "id": "c7c4cd4dc82394ef"
  },
  {
   "metadata": {
    "ExecuteTime": {
     "end_time": "2025-09-23T09:55:36.128368Z",
     "start_time": "2025-09-23T09:55:36.107283Z"
    }
   },
   "cell_type": "code",
   "source": "data['text'] = data['text'].apply(lambda x: re.sub(r'\\d+', '', str(x)))",
   "id": "ea3465ef2a42f29",
   "outputs": [],
   "execution_count": 45
  },
  {
   "metadata": {
    "ExecuteTime": {
     "end_time": "2025-09-23T09:55:36.461934Z",
     "start_time": "2025-09-23T09:55:36.449586Z"
    }
   },
   "cell_type": "code",
   "source": "data.text",
   "id": "374604bb7db93d22",
   "outputs": [
    {
     "data": {
      "text/plain": [
       "0                        tickets selling less  minutes\n",
       "1                              rt : wait absolute fire\n",
       "2                      passes secured! see bitchesssss\n",
       "3             phillys play &amp; ! watch jimmy fallon:\n",
       "4                                    briana mom im !!!\n",
       "                             ...                      \n",
       "3841                                excuse go cry now.\n",
       "3842    rt : ride steely dan. would better supergroup.\n",
       "3843                              callin since day one\n",
       "3844                                          real?!?!\n",
       "3845                           rt : c'monnnnnn lineup!\n",
       "Name: text, Length: 3846, dtype: object"
      ]
     },
     "execution_count": 46,
     "metadata": {},
     "output_type": "execute_result"
    }
   ],
   "execution_count": 46
  },
  {
   "metadata": {},
   "cell_type": "markdown",
   "source": "#### 9. Remove special characters, [.,!?#$%^&*()+-_=[]{};:'\"\\/|<>`~ etc]",
   "id": "b87c2d77f4e0aec9"
  },
  {
   "metadata": {
    "ExecuteTime": {
     "end_time": "2025-09-23T09:58:53.099832Z",
     "start_time": "2025-09-23T09:58:53.093027Z"
    }
   },
   "cell_type": "code",
   "source": "import string",
   "id": "ea9a029c0042eb46",
   "outputs": [],
   "execution_count": 48
  },
  {
   "metadata": {
    "ExecuteTime": {
     "end_time": "2025-09-23T09:59:24.691955Z",
     "start_time": "2025-09-23T09:59:24.683296Z"
    }
   },
   "cell_type": "code",
   "source": [
    "special_chars = string.punctuation\n",
    "special_chars"
   ],
   "id": "96097db317777c62",
   "outputs": [
    {
     "data": {
      "text/plain": [
       "'!\"#$%&\\'()*+,-./:;<=>?@[\\\\]^_`{|}~'"
      ]
     },
     "execution_count": 50,
     "metadata": {},
     "output_type": "execute_result"
    }
   ],
   "execution_count": 50
  },
  {
   "metadata": {
    "ExecuteTime": {
     "end_time": "2025-09-23T10:06:58.001968Z",
     "start_time": "2025-09-23T10:06:57.974841Z"
    }
   },
   "cell_type": "code",
   "source": [
    "data['text'] = data['text'].apply(lambda x:re.sub(r'[{}]'.format(re.escape(special_chars)), '', str(x)))\n",
    "# re.sub({special_chars}, '', str(x))"
   ],
   "id": "a4a6cb91b8867886",
   "outputs": [],
   "execution_count": 62
  },
  {
   "metadata": {
    "ExecuteTime": {
     "end_time": "2025-09-23T10:06:58.579434Z",
     "start_time": "2025-09-23T10:06:58.566564Z"
    }
   },
   "cell_type": "code",
   "source": "data.text.head(20)",
   "id": "c728f2310c53fe99",
   "outputs": [
    {
     "data": {
      "text/plain": [
       "0                         tickets selling less  minutes\n",
       "1                                rt  wait absolute fire\n",
       "2                        passes secured see bitchesssss\n",
       "3                  phillys play amp  watch jimmy fallon\n",
       "4                                        briana mom im \n",
       "5                                   west side best side\n",
       "6     coachella tickets sold amp opportunity bought ...\n",
       "7     absolutely wait weekend exceed epic expectatio...\n",
       "8                     someone got coachella friend life\n",
       "9     rt   coachella  coachella  makes space rockers...\n",
       "10    rt  dig guys much cant wait see  two dudes cre...\n",
       "11     officially official please someone get coache...\n",
       "12                                           see there \n",
       "13                              son im really trynna go\n",
       "14                                              want go\n",
       "15                                     got tickets x it\n",
       "16          cant wait year first time ever goin chyyeah\n",
       "17    bought tickets minh do could already tell  gon...\n",
       "18    rt  someone sell one car camping pass coachell...\n",
       "19                               april cant come sooner\n",
       "Name: text, dtype: object"
      ]
     },
     "execution_count": 63,
     "metadata": {},
     "output_type": "execute_result"
    }
   ],
   "execution_count": 63
  },
  {
   "metadata": {},
   "cell_type": "markdown",
   "source": "#### 10. save the cleaned data to a new file 'coachella_cleaned.csv'.",
   "id": "674cb2eb96ef7360"
  },
  {
   "metadata": {
    "ExecuteTime": {
     "end_time": "2025-09-23T10:09:53.518010Z",
     "start_time": "2025-09-23T10:09:53.466579Z"
    }
   },
   "cell_type": "code",
   "source": "data.to_csv('coachella_cleaned.csv', encoding = 'latin-1', index=False)",
   "id": "5770ff1a9382136d",
   "outputs": [],
   "execution_count": 65
  }
 ],
 "metadata": {
  "kernelspec": {
   "display_name": "Python 3",
   "language": "python",
   "name": "python3"
  },
  "language_info": {
   "codemirror_mode": {
    "name": "ipython",
    "version": 2
   },
   "file_extension": ".py",
   "mimetype": "text/x-python",
   "name": "python",
   "nbconvert_exporter": "python",
   "pygments_lexer": "ipython2",
   "version": "2.7.6"
  }
 },
 "nbformat": 4,
 "nbformat_minor": 5
}
