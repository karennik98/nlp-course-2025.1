{
 "nbformat": 4,
 "nbformat_minor": 0,
 "metadata": {
  "colab": {
   "provenance": [],
   "authorship_tag": "ABX9TyPwxmrnq8spXGNFJyelV7YX"
  },
  "kernelspec": {
   "name": "python3",
   "display_name": "Python 3 (ipykernel)",
   "language": "python"
  },
  "language_info": {
   "name": "python"
  }
 },
 "cells": [
  {
   "cell_type": "code",
   "metadata": {
    "colab": {
     "base_uri": "https://localhost:8080/"
    },
    "id": "St1eYKuxtm7j",
    "executionInfo": {
     "status": "ok",
     "timestamp": 1758222878012,
     "user_tz": -240,
     "elapsed": 17,
     "user": {
      "displayName": "Srbuhi Pupuyan",
      "userId": "12066682202247757736"
     }
    },
    "outputId": "4d4b2fc4-8805-42e3-8a5d-013d6c2bd27d",
    "ExecuteTime": {
     "end_time": "2025-09-19T14:19:40.030194Z",
     "start_time": "2025-09-19T14:19:40.014361Z"
    }
   },
   "source": [
    "text = \"\"\"Natural Language Processing (NLP) is a subfield of linguistics, computer science, and artificial\n",
    "intelligence concerned with the interactions between computers and human language. It's used to\n",
    "analyze text, allowing machines to understand, interpret, and manipulate human language. NLP has\n",
    "many real-world applications, including machine translation, sentiment analysis, and chatbots.\"\"\"\n",
    "#  Tokenization\n",
    "\n",
    "tokens = text.split()\n",
    "print(f\"tokens : {tokens}\\n\")\n",
    "\n",
    "#  Lowercasing\n",
    "\n",
    "lowercase = [token.lower() for token in tokens]\n",
    "print(f\"lowercase: {lowercase}\\n\")\n",
    "\n",
    "#  Punctuation Removal\n",
    "import string\n",
    "punctuations = string.punctuation\n",
    "\n",
    "tokens_no_punct = []\n",
    "for word in lowercase:\n",
    "    clean_word = \"\".join(ch for ch in word if ch not in punctuations)\n",
    "    if clean_word != \"\":\n",
    "        tokens_no_punct.append(clean_word)\n",
    "\n",
    "print(f\"Tokens without punctuations: {tokens_no_punct}\\n\")\n",
    "\n",
    "#  Stop Word Removal\n",
    "stop_words = [\"the\", \"is\", \"and\", \"a\", \"an\", \"in\", \"on\", \"at\", \"for\", \"to\", \"of\", \"are\"]\n",
    "\n",
    "no_stopwords = [token for token in tokens_no_punct if token not in stop_words]\n",
    "\n",
    "print(f\"No Stopwords: {no_stopwords}\\n\")\n",
    "\n",
    "#  Stemming\n",
    "def stemming(word):\n",
    "    suffixes = [\"ing\", \"ed\", \"ics\", \"ial\", \"ence\", \"ious\", \"ous\",\n",
    "                \"age\", \"al\", \"wise\", \"ity\", \"ty\", \"ment\", \"ness\", \"ship\", \"ion\", \"s\"]\n",
    "    for suf in suffixes:\n",
    "        if word.endswith(suf) and len(word) > len(suf) + 2:\n",
    "            return word[:-len(suf)]\n",
    "    return word\n",
    "\n",
    "stem = [stemming(word) for word in no_stopwords]\n",
    "\n",
    "print(f\"Stemming: {stem}\\n\")\n",
    "\n",
    "# Lemmatization\n",
    "lemma_dict = {\n",
    "    \"is\": \"be\",\n",
    "    \"are\": \"be\",\n",
    "    \"was\": \"be\",\n",
    "    \"were\": \"be\",\n",
    "    \"has\": \"have\",\n",
    "    \"had\": \"have\",\n",
    "    \"does\": \"do\",\n",
    "    \"did\": \"do\",\n",
    "    \"machines\": \"machine\",\n",
    "    \"computers\": \"computer\",\n",
    "    \"applications\": \"application\",\n",
    "    \"interactions\": \"interaction\",\n",
    "    \"languages\": \"language\",\n",
    "}\n",
    "\n",
    "def lemmatize(word):\n",
    "    return lemma_dict.get(word, word)\n",
    "\n",
    "lemmas = [lemmatize(word) for word in no_stopwords]\n",
    "\n",
    "print(\"lemmatized words:\", lemmas)\n",
    "\n"
   ],
   "outputs": [
    {
     "name": "stdout",
     "output_type": "stream",
     "text": [
      "tokens : ['Natural', 'Language', 'Processing', '(NLP)', 'is', 'a', 'subfield', 'of', 'linguistics,', 'computer', 'science,', 'and', 'artificial', 'intelligence', 'concerned', 'with', 'the', 'interactions', 'between', 'computers', 'and', 'human', 'language.', \"It's\", 'used', 'to', 'analyze', 'text,', 'allowing', 'machines', 'to', 'understand,', 'interpret,', 'and', 'manipulate', 'human', 'language.', 'NLP', 'has', 'many', 'real-world', 'applications,', 'including', 'machine', 'translation,', 'sentiment', 'analysis,', 'and', 'chatbots.']\n",
      "\n",
      "lowercase: ['natural', 'language', 'processing', '(nlp)', 'is', 'a', 'subfield', 'of', 'linguistics,', 'computer', 'science,', 'and', 'artificial', 'intelligence', 'concerned', 'with', 'the', 'interactions', 'between', 'computers', 'and', 'human', 'language.', \"it's\", 'used', 'to', 'analyze', 'text,', 'allowing', 'machines', 'to', 'understand,', 'interpret,', 'and', 'manipulate', 'human', 'language.', 'nlp', 'has', 'many', 'real-world', 'applications,', 'including', 'machine', 'translation,', 'sentiment', 'analysis,', 'and', 'chatbots.']\n",
      "\n",
      "Tokens without punctuations: ['natural', 'language', 'processing', 'nlp', 'is', 'a', 'subfield', 'of', 'linguistics', 'computer', 'science', 'and', 'artificial', 'intelligence', 'concerned', 'with', 'the', 'interactions', 'between', 'computers', 'and', 'human', 'language', 'its', 'used', 'to', 'analyze', 'text', 'allowing', 'machines', 'to', 'understand', 'interpret', 'and', 'manipulate', 'human', 'language', 'nlp', 'has', 'many', 'realworld', 'applications', 'including', 'machine', 'translation', 'sentiment', 'analysis', 'and', 'chatbots']\n",
      "\n",
      "No Stopwords: ['natural', 'language', 'processing', 'nlp', 'subfield', 'linguistics', 'computer', 'science', 'artificial', 'intelligence', 'concerned', 'with', 'interactions', 'between', 'computers', 'human', 'language', 'its', 'used', 'analyze', 'text', 'allowing', 'machines', 'understand', 'interpret', 'manipulate', 'human', 'language', 'nlp', 'has', 'many', 'realworld', 'applications', 'including', 'machine', 'translation', 'sentiment', 'analysis', 'chatbots']\n",
      "\n",
      "Stemming: ['natur', 'langu', 'process', 'nlp', 'subfield', 'linguist', 'computer', 'sci', 'artific', 'intellig', 'concern', 'with', 'interaction', 'between', 'computer', 'human', 'langu', 'its', 'used', 'analyze', 'text', 'allow', 'machine', 'understand', 'interpret', 'manipulate', 'human', 'langu', 'nlp', 'has', 'many', 'realworld', 'application', 'includ', 'machine', 'translat', 'senti', 'analysi', 'chatbot']\n",
      "\n",
      "lemmatized words: ['natural', 'language', 'processing', 'nlp', 'subfield', 'linguistics', 'computer', 'science', 'artificial', 'intelligence', 'concerned', 'with', 'interaction', 'between', 'computer', 'human', 'language', 'its', 'used', 'analyze', 'text', 'allowing', 'machine', 'understand', 'interpret', 'manipulate', 'human', 'language', 'nlp', 'have', 'many', 'realworld', 'application', 'including', 'machine', 'translation', 'sentiment', 'analysis', 'chatbots']\n"
     ]
    }
   ],
   "execution_count": 2
  },
  {
   "metadata": {},
   "cell_type": "code",
   "outputs": [],
   "execution_count": null,
   "source": ""
  }
 ]
}
