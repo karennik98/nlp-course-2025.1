{
 "nbformat": 4,
 "nbformat_minor": 0,
 "metadata": {
  "colab": {
   "provenance": []
  },
  "kernelspec": {
   "name": "python3",
   "display_name": "Python 3"
  },
  "language_info": {
   "name": "python"
  }
 },
 "cells": [
  {
   "cell_type": "code",
   "execution_count": null,
   "metadata": {
    "id": "IM_QRDHtwlIv"
   },
   "outputs": [],
   "source": [
    "import re\n",
    "import string"
   ]
  },
  {
   "cell_type": "markdown",
   "source": [
    "` Problem 1: Extract Email Addresses`"
   ],
   "metadata": {
    "id": "JWWQE0TX7iwO"
   }
  },
  {
   "cell_type": "code",
   "source": [
    "t = \"\"\" Contact us at support@example.com or sales@company.org for assistance.\n",
    " For personal inquiries, email john.doe123@university.edu\"\"\"\n",
    "\n",
    "tokens = t.split()\n",
    "\n",
    "def mailextraction(text):\n",
    "    pattern = r\"[a-zA-Z0-9._]+@[a-zA-Z0-9.-]+\\.[a-zA-Z]{2,}\"\n",
    "\n",
    "    for ch in text:\n",
    "        if re.search(pattern, ch):\n",
    "            print(f\"{ch} is email address\")\n",
    "\n",
    "mailextraction(tokens)\n",
    " #print(tokens)\n"
   ],
   "metadata": {
    "colab": {
     "base_uri": "https://localhost:8080/"
    },
    "id": "qAIKgxFG2j07",
    "outputId": "8c42e343-35e5-444f-eb4c-9a07235ae304"
   },
   "execution_count": null,
   "outputs": [
    {
     "output_type": "stream",
     "name": "stdout",
     "text": [
      "support@example.com is email address\n",
      "sales@company.org is email address\n",
      "john.doe123@university.edu is email address\n"
     ]
    }
   ]
  },
  {
   "cell_type": "markdown",
   "source": [
    "` Problem 2: Validate Phone Numbers`"
   ],
   "metadata": {
    "id": "wi5OOyaC7tI4"
   }
  },
  {
   "cell_type": "code",
   "source": [
    "text1 = \"\"\"123-456-7890, 987-654-3210, 12-345-67890, 1234567890, 123-45-6789\"\"\"\n",
    "\n",
    "def phonenumber(text):\n",
    "    pat = r\"\\b\\d{3}-\\d{3}-\\d{4}\\b\"\n",
    "    valid_nums = re.findall(pat, text)\n",
    "    return valid_nums\n",
    "\n",
    "out = phonenumber(text1)\n",
    "print(\"Valid phone numbers:\")\n",
    "for num in out:\n",
    "    print(num)\n"
   ],
   "metadata": {
    "colab": {
     "base_uri": "https://localhost:8080/"
    },
    "id": "F7oazCBW6nMv",
    "outputId": "5ebe5209-a627-4621-b11b-83c1234a371d"
   },
   "execution_count": null,
   "outputs": [
    {
     "output_type": "stream",
     "name": "stdout",
     "text": [
      "Valid phone numbers:\n",
      "123-456-7890\n",
      "987-654-3210\n"
     ]
    }
   ]
  },
  {
   "cell_type": "markdown",
   "source": [
    "` Problem 3: Extract Dates`"
   ],
   "metadata": {
    "id": "RR4JyXOe7-S5"
   }
  },
  {
   "cell_type": "code",
   "source": [
    "txt = \"Important dates: 25/12/2023, 01-01-2024, 31/05/2023, and 15-10-2024.\"\n",
    "\n",
    "def dateextract(txt):\n",
    "    p = r\"\\b\\d{2}/\\d{2}/\\d{4}\\b|\\b\\d{2}-\\d{2}-\\d{4}\\b\"\n",
    "    return re.findall(p, txt)\n",
    "\n",
    "dates = dateextract(txt)\n",
    "for d in dates:\n",
    "    print(f\"{d}\")\n"
   ],
   "metadata": {
    "id": "sYIXJ8IS4qI8",
    "colab": {
     "base_uri": "https://localhost:8080/"
    },
    "outputId": "ff20a109-eefe-485f-be79-c0aebecf85bc"
   },
   "execution_count": null,
   "outputs": [
    {
     "output_type": "stream",
     "name": "stdout",
     "text": [
      "25/12/2023\n",
      "01-01-2024\n",
      "31/05/2023\n",
      "15-10-2024\n"
     ]
    }
   ]
  },
  {
   "cell_type": "markdown",
   "source": [
    "`Problem 4: Find Repeated Words`"
   ],
   "metadata": {
    "id": "lb74TLUvjgGE"
   }
  },
  {
   "cell_type": "code",
   "source": [
    "text = \"The the quick brown fox jumps over the the lazy dog.\"\n",
    "def repeatedwords(text):\n",
    "\n",
    "  pattern = r\"\\b(\\w+)\\b\\s+\\1\\b\"\n",
    "  matches = re.findall(pattern, text, flags= re.IGNORECASE)\n",
    "\n",
    "  return matches\n",
    "\n",
    "repeated = repeatedwords(text)\n",
    "\n",
    "print(\"Repeated Words:\")\n",
    "for m in repeated:\n",
    "  print(m, m)\n",
    "\n",
    "\n"
   ],
   "metadata": {
    "colab": {
     "base_uri": "https://localhost:8080/"
    },
    "id": "qG-yLTB6imxx",
    "outputId": "c113aac3-2a54-48e7-ade4-55af61ad512a"
   },
   "execution_count": null,
   "outputs": [
    {
     "output_type": "stream",
     "name": "stdout",
     "text": [
      "Repeated Words:\n",
      "The The\n",
      "the the\n"
     ]
    }
   ]
  },
  {
   "cell_type": "markdown",
   "source": [
    "` Problem 5: Extract Hashtags`"
   ],
   "metadata": {
    "id": "PpU6_Paz3DDV"
   }
  },
  {
   "cell_type": "code",
   "source": [
    "text = \"\"\" Check out our new products: #Sale2024, #NewArrival, and #Discounts!\n",
    "\"\"\"\n",
    "def hashtagextraction(text):\n",
    "  pattern = r\"#\\w+\"              # \\w = [A-Za-z0-9_]\n",
    "  matches = re.findall(pattern, text)\n",
    "\n",
    "  return matches\n",
    "\n",
    "out = hashtagextraction(text)\n",
    "for i in out:\n",
    "  print(i)"
   ],
   "metadata": {
    "colab": {
     "base_uri": "https://localhost:8080/"
    },
    "id": "6VRi38Sz247C",
    "outputId": "773bff05-9fd5-4141-a9da-b6cbb26274f5"
   },
   "execution_count": null,
   "outputs": [
    {
     "output_type": "stream",
     "name": "stdout",
     "text": [
      "#Sale2024\n",
      "#NewArrival\n",
      "#Discounts\n"
     ]
    }
   ]
  },
  {
   "cell_type": "markdown",
   "source": [
    "` Problem 6: Validate Password Strength`"
   ],
   "metadata": {
    "id": "a59rQuW75MIL"
   }
  },
  {
   "cell_type": "code",
   "source": [
    "password = input(\"Password --> \")\n",
    "\n",
    "def passwordvalidation(password):\n",
    "    pass_pat = r\"^(?=.*[A-Z])(?=.*[a-z])(?=.*\\d).{8,}$\"\n",
    "    if re.match(pass_pat, password):\n",
    "        return True\n",
    "    else:\n",
    "        return False\n",
    "\n",
    "if passwordvalidation(password):\n",
    "    print(\"Valid password:\", password)\n",
    "else:\n",
    "    print(\"Invalid password\")\n"
   ],
   "metadata": {
    "colab": {
     "base_uri": "https://localhost:8080/"
    },
    "id": "5ntPw2Ct4WdB",
    "outputId": "e13c816d-5d57-473d-b0cd-fb318d3b500e"
   },
   "execution_count": null,
   "outputs": [
    {
     "output_type": "stream",
     "name": "stdout",
     "text": [
      "Password --> Fdfjbnbdn 88.hn\n",
      "Valid password: Fdfjbnbdn 88.hn\n"
     ]
    }
   ]
  },
  {
   "cell_type": "markdown",
   "source": [
    "` Problem 7: Extract URLs`"
   ],
   "metadata": {
    "id": "xsL7rFfUu-df"
   }
  },
  {
   "cell_type": "code",
   "source": [
    "text_sample =\"\"\" Visit our website at https://www.example.com or check out http://blog.example.org for updates.\n",
    "\"\"\"\n",
    "def urlextraction(text):\n",
    "\n",
    "  pattern = r\"https?://[^\\s]+\"\n",
    "  matches = re.findall(pattern, text)\n",
    "\n",
    "  return matches\n",
    "\n",
    "out = urlextraction(text_sample)\n",
    "for u in out:\n",
    "  print(u)"
   ],
   "metadata": {
    "id": "w4pviIs-5yjZ",
    "colab": {
     "base_uri": "https://localhost:8080/"
    },
    "outputId": "acd220a5-7bfa-4374-d860-73e5a9571cc9"
   },
   "execution_count": null,
   "outputs": [
    {
     "output_type": "stream",
     "name": "stdout",
     "text": [
      "https://www.example.com\n",
      "http://blog.example.org\n"
     ]
    }
   ]
  },
  {
   "cell_type": "markdown",
   "source": [
    "`Problem 8: Replace Multiple Spaces with a Single Space`"
   ],
   "metadata": {
    "id": "FVOzEgI5TFJB"
   }
  },
  {
   "cell_type": "code",
   "source": [
    "text =  \"\"\"This\n",
    "text\n",
    "has\n",
    "multiple\n",
    "spaces.\"\"\"\n",
    "\n",
    "def singlespace(text):\n",
    "\n",
    "  clean_text = re.sub(r'\\s+', ' ', text)\n",
    "\n",
    "  return clean_text\n",
    "\n",
    "out = singlespace(text)\n",
    "print(out)\n"
   ],
   "metadata": {
    "colab": {
     "base_uri": "https://localhost:8080/"
    },
    "id": "ZIm5VaJRSxBq",
    "outputId": "e7a31454-74a9-470e-d9cf-d18c51ec6549"
   },
   "execution_count": null,
   "outputs": [
    {
     "output_type": "stream",
     "name": "stdout",
     "text": [
      "This text has multiple spaces.\n"
     ]
    }
   ]
  },
  {
   "cell_type": "markdown",
   "source": [
    "` Problem 9: Extract Quoted Text`"
   ],
   "metadata": {
    "id": "yBsfyPugccsm"
   }
  },
  {
   "cell_type": "code",
   "source": [
    "sample = \"\"\" He said, \"Hello, world!\" and she replied, \"Hi there!\" \"\"\"\n",
    "\n",
    "def quotedtext(text):\n",
    "  clean = re.findall(r'\"(.*?)\"', text)\n",
    "\n",
    "  return clean\n",
    "\n",
    "out = quotedtext(sample)\n",
    "\n",
    "for m in out:\n",
    "  print(m)\n"
   ],
   "metadata": {
    "colab": {
     "base_uri": "https://localhost:8080/"
    },
    "id": "JK3DhMdNUrWz",
    "outputId": "37b61d3d-5b00-40eb-ed56-320ca47122ef"
   },
   "execution_count": null,
   "outputs": [
    {
     "output_type": "stream",
     "name": "stdout",
     "text": [
      "Hello, world!\n",
      "Hi there!\n"
     ]
    }
   ]
  },
  {
   "cell_type": "markdown",
   "source": [
    "` Problem 10: Validate IP Addresses`"
   ],
   "metadata": {
    "id": "C6dt0nDGd7eD"
   }
  },
  {
   "cell_type": "code",
   "source": [
    "import re\n",
    "\n",
    "text_sample = \"\"\"Valid: 192.168.1.1, 10.0.0.255\n",
    "Invalid: 256.1.2.3, 192.168.01.1, 192.168.1\"\"\"\n",
    "\n",
    "def ipvalidation(text):\n",
    "    pattern = r'\\b((?:25[0-5]|2[0-4]\\d|1\\d\\d|[1-9]?\\d)\\.(?:25[0-5]|2[0-4]\\d|1\\d\\d|[1-9]?\\d)\\.(?:25[0-5]|2[0-4]\\d|1\\d\\d|[1-9]?\\d)\\.(?:25[0-5]|2[0-4]\\d|1\\d\\d|[1-9]?\\d))\\b'\n",
    "    return re.findall(pattern, text)\n",
    "\n",
    "result = ipvalidation(text_sample)\n",
    "\n",
    "print(\"Valid IP addresses:\")\n",
    "for ip in result:\n",
    "    print(ip)\n"
   ],
   "metadata": {
    "colab": {
     "base_uri": "https://localhost:8080/"
    },
    "id": "Fw9v2TUadzwD",
    "outputId": "d5dfc301-53a0-4bf3-e372-f9bc51392898"
   },
   "execution_count": null,
   "outputs": [
    {
     "output_type": "stream",
     "name": "stdout",
     "text": [
      "Valid IP addresses:\n",
      "192.168.1.1\n",
      "10.0.0.255\n"
     ]
    }
   ]
  },
  {
   "cell_type": "code",
   "source": [],
   "metadata": {
    "id": "0iMIxpXNkuW5"
   },
   "execution_count": null,
   "outputs": []
  }
 ]
}
