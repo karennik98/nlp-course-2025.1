{
 "cells": [
  {
   "metadata": {
    "ExecuteTime": {
     "end_time": "2025-09-20T07:26:00.774778Z",
     "start_time": "2025-09-20T07:25:41.346176Z"
    }
   },
   "cell_type": "code",
   "source": "!pip install pandas",
   "id": "9882b8489b497104",
   "outputs": [
    {
     "name": "stdout",
     "output_type": "stream",
     "text": [
      "Collecting pandas\n",
      "  Using cached pandas-2.3.2-cp313-cp313-win_amd64.whl.metadata (19 kB)\n",
      "Collecting numpy>=1.26.0 (from pandas)\n",
      "  Downloading numpy-2.3.3-cp313-cp313-win_amd64.whl.metadata (60 kB)\n",
      "Requirement already satisfied: python-dateutil>=2.8.2 in c:\\users\\srbuh\\pycharmprojects\\pythonproject3\\.venv\\lib\\site-packages (from pandas) (2.9.0.post0)\n",
      "Collecting pytz>=2020.1 (from pandas)\n",
      "  Using cached pytz-2025.2-py2.py3-none-any.whl.metadata (22 kB)\n",
      "Collecting tzdata>=2022.7 (from pandas)\n",
      "  Using cached tzdata-2025.2-py2.py3-none-any.whl.metadata (1.4 kB)\n",
      "Requirement already satisfied: six>=1.5 in c:\\users\\srbuh\\pycharmprojects\\pythonproject3\\.venv\\lib\\site-packages (from python-dateutil>=2.8.2->pandas) (1.17.0)\n",
      "Using cached pandas-2.3.2-cp313-cp313-win_amd64.whl (11.0 MB)\n",
      "Downloading numpy-2.3.3-cp313-cp313-win_amd64.whl (12.8 MB)\n",
      "   ---------------------------------------- 0.0/12.8 MB ? eta -:--:--\n",
      "    --------------------------------------- 0.3/12.8 MB ? eta -:--:--\n",
      "   --- ------------------------------------ 1.0/12.8 MB 3.2 MB/s eta 0:00:04\n",
      "   ---- ----------------------------------- 1.6/12.8 MB 3.3 MB/s eta 0:00:04\n",
      "   -------- ------------------------------- 2.6/12.8 MB 3.7 MB/s eta 0:00:03\n",
      "   ---------- ----------------------------- 3.4/12.8 MB 3.8 MB/s eta 0:00:03\n",
      "   ------------- -------------------------- 4.5/12.8 MB 4.0 MB/s eta 0:00:03\n",
      "   ----------------- ---------------------- 5.5/12.8 MB 4.2 MB/s eta 0:00:02\n",
      "   --------------------- ------------------ 6.8/12.8 MB 4.5 MB/s eta 0:00:02\n",
      "   ------------------------ --------------- 7.9/12.8 MB 4.5 MB/s eta 0:00:02\n",
      "   ------------------------------ --------- 9.7/12.8 MB 5.0 MB/s eta 0:00:01\n",
      "   ------------------------------------ --- 11.5/12.8 MB 5.4 MB/s eta 0:00:01\n",
      "   ---------------------------------------- 12.8/12.8 MB 5.5 MB/s  0:00:02\n",
      "Using cached pytz-2025.2-py2.py3-none-any.whl (509 kB)\n",
      "Using cached tzdata-2025.2-py2.py3-none-any.whl (347 kB)\n",
      "Installing collected packages: pytz, tzdata, numpy, pandas\n",
      "\n",
      "   ---------------------------------------- 0/4 [pytz]\n",
      "   ---------------------------------------- 0/4 [pytz]\n",
      "   ---------------------------------------- 0/4 [pytz]\n",
      "   ---------- ----------------------------- 1/4 [tzdata]\n",
      "   ---------- ----------------------------- 1/4 [tzdata]\n",
      "   ---------- ----------------------------- 1/4 [tzdata]\n",
      "   -------------------- ------------------- 2/4 [numpy]\n",
      "   -------------------- ------------------- 2/4 [numpy]\n",
      "   -------------------- ------------------- 2/4 [numpy]\n",
      "   -------------------- ------------------- 2/4 [numpy]\n",
      "   -------------------- ------------------- 2/4 [numpy]\n",
      "   -------------------- ------------------- 2/4 [numpy]\n",
      "   -------------------- ------------------- 2/4 [numpy]\n",
      "   -------------------- ------------------- 2/4 [numpy]\n",
      "   -------------------- ------------------- 2/4 [numpy]\n",
      "   -------------------- ------------------- 2/4 [numpy]\n",
      "   -------------------- ------------------- 2/4 [numpy]\n",
      "   -------------------- ------------------- 2/4 [numpy]\n",
      "   -------------------- ------------------- 2/4 [numpy]\n",
      "   -------------------- ------------------- 2/4 [numpy]\n",
      "   -------------------- ------------------- 2/4 [numpy]\n",
      "   -------------------- ------------------- 2/4 [numpy]\n",
      "   -------------------- ------------------- 2/4 [numpy]\n",
      "   -------------------- ------------------- 2/4 [numpy]\n",
      "   ------------------------------ --------- 3/4 [pandas]\n",
      "   ------------------------------ --------- 3/4 [pandas]\n",
      "   ------------------------------ --------- 3/4 [pandas]\n",
      "   ------------------------------ --------- 3/4 [pandas]\n",
      "   ------------------------------ --------- 3/4 [pandas]\n",
      "   ------------------------------ --------- 3/4 [pandas]\n",
      "   ------------------------------ --------- 3/4 [pandas]\n",
      "   ------------------------------ --------- 3/4 [pandas]\n",
      "   ------------------------------ --------- 3/4 [pandas]\n",
      "   ------------------------------ --------- 3/4 [pandas]\n",
      "   ------------------------------ --------- 3/4 [pandas]\n",
      "   ------------------------------ --------- 3/4 [pandas]\n",
      "   ------------------------------ --------- 3/4 [pandas]\n",
      "   ------------------------------ --------- 3/4 [pandas]\n",
      "   ------------------------------ --------- 3/4 [pandas]\n",
      "   ------------------------------ --------- 3/4 [pandas]\n",
      "   ------------------------------ --------- 3/4 [pandas]\n",
      "   ------------------------------ --------- 3/4 [pandas]\n",
      "   ------------------------------ --------- 3/4 [pandas]\n",
      "   ------------------------------ --------- 3/4 [pandas]\n",
      "   ------------------------------ --------- 3/4 [pandas]\n",
      "   ------------------------------ --------- 3/4 [pandas]\n",
      "   ------------------------------ --------- 3/4 [pandas]\n",
      "   ------------------------------ --------- 3/4 [pandas]\n",
      "   ------------------------------ --------- 3/4 [pandas]\n",
      "   ------------------------------ --------- 3/4 [pandas]\n",
      "   ------------------------------ --------- 3/4 [pandas]\n",
      "   ------------------------------ --------- 3/4 [pandas]\n",
      "   ------------------------------ --------- 3/4 [pandas]\n",
      "   ------------------------------ --------- 3/4 [pandas]\n",
      "   ------------------------------ --------- 3/4 [pandas]\n",
      "   ------------------------------ --------- 3/4 [pandas]\n",
      "   ------------------------------ --------- 3/4 [pandas]\n",
      "   ------------------------------ --------- 3/4 [pandas]\n",
      "   ------------------------------ --------- 3/4 [pandas]\n",
      "   ------------------------------ --------- 3/4 [pandas]\n",
      "   ------------------------------ --------- 3/4 [pandas]\n",
      "   ------------------------------ --------- 3/4 [pandas]\n",
      "   ------------------------------ --------- 3/4 [pandas]\n",
      "   ------------------------------ --------- 3/4 [pandas]\n",
      "   ------------------------------ --------- 3/4 [pandas]\n",
      "   ------------------------------ --------- 3/4 [pandas]\n",
      "   ------------------------------ --------- 3/4 [pandas]\n",
      "   ------------------------------ --------- 3/4 [pandas]\n",
      "   ------------------------------ --------- 3/4 [pandas]\n",
      "   ------------------------------ --------- 3/4 [pandas]\n",
      "   ---------------------------------------- 4/4 [pandas]\n",
      "\n",
      "Successfully installed numpy-2.3.3 pandas-2.3.2 pytz-2025.2 tzdata-2025.2\n"
     ]
    }
   ],
   "execution_count": 1
  },
  {
   "cell_type": "code",
   "id": "initial_id",
   "metadata": {
    "collapsed": true,
    "ExecuteTime": {
     "end_time": "2025-09-20T07:26:45.279455Z",
     "start_time": "2025-09-20T07:26:07.079292Z"
    }
   },
   "source": [
    "import re\n",
    "import pandas as pd\n"
   ],
   "outputs": [],
   "execution_count": 2
  },
  {
   "metadata": {
    "ExecuteTime": {
     "end_time": "2025-09-20T07:26:47.477470Z",
     "start_time": "2025-09-20T07:26:47.412491Z"
    }
   },
   "cell_type": "code",
   "source": [
    "text = pd.read_csv(\"Coachella-2015-2-DFE.csv\", encoding='latin1')\n",
    "print(text.head())"
   ],
   "id": "ade82bdeaddc28f4",
   "outputs": [
    {
     "name": "stdout",
     "output_type": "stream",
     "text": [
      "  coachella_sentiment coachella_yn           name  retweet_count  \\\n",
      "0            positive          yes       kokombil              0   \n",
      "1            positive          yes  MisssTaraaa10              2   \n",
      "2            positive          yes  NMcCracken805              0   \n",
      "3            positive          yes         wxpnfm              1   \n",
      "4            positive          yes       Caesears              0   \n",
      "\n",
      "                                                text tweet_coord  \\\n",
      "0  #Coachella2015 tickets selling out in less tha...  [0.0, 0.0]   \n",
      "1  RT @sudsybuddy: WAIT THIS IS ABSOLUTE FIRE _ÙÓ...         NaN   \n",
      "2  #Coachella2015 #VIP passes secured! See you th...         NaN   \n",
      "3  PhillyÛªs @warondrugsjams will play #Coachell...         NaN   \n",
      "4  If briana and her mom out to #Coachella2015  i...         NaN   \n",
      "\n",
      "  tweet_created      tweet_id                  tweet_location user_timezone  \n",
      "0  1/7/15 15:02  5.529630e+17                             NaN         Quito  \n",
      "1  1/7/15 15:02  5.529630e+17                   united states           NaN  \n",
      "2  1/7/15 15:01  5.529630e+17                  Costa Mesa, CA           NaN  \n",
      "3  1/7/15 15:01  5.529630e+17  Philadelphia, PA and Worldwide         Quito  \n",
      "4  1/7/15 15:00  5.529630e+17                             NaN           NaN  \n"
     ]
    }
   ],
   "execution_count": 3
  },
  {
   "metadata": {
    "ExecuteTime": {
     "end_time": "2025-09-20T07:32:10.867629Z",
     "start_time": "2025-09-20T07:32:10.809404Z"
    }
   },
   "cell_type": "code",
   "source": [
    "# All hashtags in the text\n",
    "def hashtagextraction(text):\n",
    "    if pd.isna(text):\n",
    "        return []\n",
    "    pattern = r\"#\\w+\"\n",
    "    matches = re.findall(pattern, text)\n",
    "    return matches\n",
    "\n",
    "text['hashtags'] = text['text'].apply(hashtagextraction)\n",
    "print(text[['text', 'hashtags']].head(10))\n",
    "\n",
    "text.to_csv(\"Coachella-2015-2-DFE.csv\")\n"
   ],
   "id": "6f3c3830c471290a",
   "outputs": [
    {
     "name": "stdout",
     "output_type": "stream",
     "text": [
      "                                                text  \\\n",
      "0  #Coachella2015 tickets selling out in less tha...   \n",
      "1  RT @sudsybuddy: WAIT THIS IS ABSOLUTE FIRE _ÙÓ...   \n",
      "2  #Coachella2015 #VIP passes secured! See you th...   \n",
      "3  PhillyÛªs @warondrugsjams will play #Coachell...   \n",
      "4  If briana and her mom out to #Coachella2015  i...   \n",
      "5  West side is the best side!\\n#west #coas #Coac...   \n",
      "6  Coachella tickets are now sold out _Ù÷_ &amp; ...   \n",
      "7  #Coachella2015 I absolutely can NOT wait. This...   \n",
      "8  If someone got me to Coachella if be your frie...   \n",
      "9  RT @brownjenjen:  Õ http://t.co/mxCREvIlGP 71...   \n",
      "\n",
      "                                          hashtags  \n",
      "0                                 [#Coachella2015]  \n",
      "1                                 [#Coachella2015]  \n",
      "2                           [#Coachella2015, #VIP]  \n",
      "3                   [#Coachella2015, #GovBall2015]  \n",
      "4                                 [#Coachella2015]  \n",
      "5                   [#west, #coas, #Coachella2015]  \n",
      "6                     [#Coachella2015, #Coachella]  \n",
      "7                                 [#Coachella2015]  \n",
      "8  [#truth, #desprate, #Coachella2015, #Coachella]  \n",
      "9                                 [#Coachella2015]  \n"
     ]
    }
   ],
   "execution_count": 6
  },
  {
   "metadata": {
    "ExecuteTime": {
     "end_time": "2025-09-20T09:18:42.505346Z",
     "start_time": "2025-09-20T09:18:42.491185Z"
    }
   },
   "cell_type": "code",
   "source": [
    "# All emails in the text\n",
    "emails = []\n",
    "\n",
    "def mailextraction(text):\n",
    "    if pd.isna(text):\n",
    "        return []\n",
    "    pattern = r\"[a-zA-Z0-9._]+@[a-zA-Z0-9.-]+\\.[a-zA-Z]{2,}\"\n",
    "    matches = re.findall(pattern, text)\n",
    "    return matches\n",
    "\n",
    "text['emails'] = text['text'].apply(mailextraction)\n",
    "\n",
    "print(text[['text', 'emails']].head(10))"
   ],
   "id": "2a1c92f96e225d1",
   "outputs": [
    {
     "name": "stdout",
     "output_type": "stream",
     "text": [
      "                                                text emails\n",
      "0  #Coachella2015 tickets selling out in less tha...     []\n",
      "1  RT @sudsybuddy: WAIT THIS IS ABSOLUTE FIRE _ÙÓ...     []\n",
      "2  #Coachella2015 #VIP passes secured! See you th...     []\n",
      "3  PhillyÛªs @warondrugsjams will play #Coachell...     []\n",
      "4  If briana and her mom out to #Coachella2015  i...     []\n",
      "5  West side is the best side!\\n#west #coas #Coac...     []\n",
      "6  Coachella tickets are now sold out _Ù÷_ &amp; ...     []\n",
      "7  #Coachella2015 I absolutely can NOT wait. This...     []\n",
      "8  If someone got me to Coachella if be your frie...     []\n",
      "9  RT @brownjenjen:  Õ http://t.co/mxCREvIlGP 71...     []\n"
     ]
    }
   ],
   "execution_count": 39
  },
  {
   "metadata": {
    "ExecuteTime": {
     "end_time": "2025-09-20T08:35:30.109430Z",
     "start_time": "2025-09-20T08:35:30.059647Z"
    }
   },
   "cell_type": "code",
   "source": [
    "# Remove usernames\n",
    "def remove_usernames(text):\n",
    "    if pd.isna(text):\n",
    "        return text\n",
    "\n",
    "    cleaned = re.sub(r'(?<!\\S)@\\w+','',text)\n",
    "    cleaned = re.sub(r'\\s+', '', cleaned).strip()\n",
    "    return cleaned\n",
    "\n",
    "text['text_no_usernames'] = text['text'].apply(remove_usernames)\n",
    "print(text[['text', 'text_no_usernames']].head())"
   ],
   "id": "bc7c23984f81cbc5",
   "outputs": [
    {
     "name": "stdout",
     "output_type": "stream",
     "text": [
      "                                                text  \\\n",
      "0  #Coachella2015 tickets selling out in less tha...   \n",
      "1  RT @sudsybuddy: WAIT THIS IS ABSOLUTE FIRE _ÙÓ...   \n",
      "2  #Coachella2015 #VIP passes secured! See you th...   \n",
      "3  PhillyÛªs @warondrugsjams will play #Coachell...   \n",
      "4  If briana and her mom out to #Coachella2015  i...   \n",
      "\n",
      "                                   text_no_usernames  \n",
      "0  #Coachella2015ticketssellingoutinlessthan40min...  \n",
      "1  RT:WAITTHISISABSOLUTEFIRE_ÙÓ´_ÙÓ´_ÙÓ´#Coachell...  \n",
      "2  #Coachella2015#VIPpassessecured!Seeyoutherebit...  \n",
      "3  PhillyÛªswillplay#Coachella2015&amp;#GovBall2...  \n",
      "4  Ifbrianaandhermomoutto#Coachella2015imoutwitht...  \n"
     ]
    }
   ],
   "execution_count": 28
  },
  {
   "metadata": {
    "ExecuteTime": {
     "end_time": "2025-09-20T08:29:26.815171Z",
     "start_time": "2025-09-20T08:29:26.790037Z"
    }
   },
   "cell_type": "code",
   "source": [
    "# Remove links\n",
    "def remove_links(text):\n",
    "    if pd.isna(text):\n",
    "        return text\n",
    "    cleaned = re.sub(r'http\\S+','',text)\n",
    "    cleaned = re.sub(r'\\s+', ' ', cleaned).strip()\n",
    "    return cleaned\n",
    "\n",
    "text['text_no_links'] = text['text_no_usernames'].apply(remove_links)\n",
    "#print(text[['text', 'text_no_links']].head())"
   ],
   "id": "180fddf90ebf217c",
   "outputs": [],
   "execution_count": 21
  },
  {
   "metadata": {
    "ExecuteTime": {
     "end_time": "2025-09-20T08:33:30.242582Z",
     "start_time": "2025-09-20T08:33:30.219109Z"
    }
   },
   "cell_type": "code",
   "source": [
    "# Remove non ASCII symbols\n",
    "def remove_non_ascii_symbols(text):\n",
    "    if pd.isna(text):\n",
    "        return text\n",
    "\n",
    "    cleaned = text.encode(\"ascii\", \"ignore\").decode()\n",
    "    cleaned = re.sub(r'\\s+', ' ', cleaned).strip()\n",
    "    return cleaned\n",
    "\n",
    "text['text_ascii'] = text['text_no_links'].apply(remove_non_ascii_symbols)\n",
    "\n",
    "print(text[['text', 'text_ascii']].head(6))"
   ],
   "id": "491cfd04d72dfd76",
   "outputs": [
    {
     "name": "stdout",
     "output_type": "stream",
     "text": [
      "                                                text  \\\n",
      "0  #Coachella2015 tickets selling out in less tha...   \n",
      "1  RT @sudsybuddy: WAIT THIS IS ABSOLUTE FIRE _ÙÓ...   \n",
      "2  #Coachella2015 #VIP passes secured! See you th...   \n",
      "3  PhillyÛªs @warondrugsjams will play #Coachell...   \n",
      "4  If briana and her mom out to #Coachella2015  i...   \n",
      "5  West side is the best side!\\n#west #coas #Coac...   \n",
      "\n",
      "                                          text_ascii  \n",
      "0  #Coachella2015ticketssellingoutinlessthan40min...  \n",
      "1         RT:WAITTHISISABSOLUTEFIRE___#Coachella2015  \n",
      "2  #Coachella2015#VIPpassessecured!Seeyoutherebit...  \n",
      "3  Phillyswillplay#Coachella2015&amp;#GovBall2015...  \n",
      "4  Ifbrianaandhermomoutto#Coachella2015imoutwitht...  \n",
      "5     Westsideisthebestside!#west#coas#Coachella2015  \n"
     ]
    }
   ],
   "execution_count": 25
  },
  {
   "metadata": {
    "ExecuteTime": {
     "end_time": "2025-09-20T08:39:17.316747Z",
     "start_time": "2025-09-20T08:39:17.290576Z"
    }
   },
   "cell_type": "code",
   "source": [
    "def to_lower(text):\n",
    "    if pd.isna(text):\n",
    "        return text\n",
    "    return text.lower()\n",
    "\n",
    "text['text_lower'] = text['text_ascii'].apply(to_lower)\n",
    "\n",
    "print(text[['text_ascii', 'text_lower']].head(10))"
   ],
   "id": "91710a60243a869b",
   "outputs": [
    {
     "name": "stdout",
     "output_type": "stream",
     "text": [
      "                                          text_ascii  \\\n",
      "0  #Coachella2015ticketssellingoutinlessthan40min...   \n",
      "1         RT:WAITTHISISABSOLUTEFIRE___#Coachella2015   \n",
      "2  #Coachella2015#VIPpassessecured!Seeyoutherebit...   \n",
      "3  Phillyswillplay#Coachella2015&amp;#GovBall2015...   \n",
      "4  Ifbrianaandhermomoutto#Coachella2015imoutwitht...   \n",
      "5     Westsideisthebestside!#west#coas#Coachella2015   \n",
      "6  Coachellaticketsarenowsoldout__&amp;Ihadtheopp...   \n",
      "7  #Coachella2015IabsolutelycanNOTwait.Thisweeken...   \n",
      "8  IfsomeonegotmetoCoachellaifbeyourfriendforlife...   \n",
      "9                                                RT:   \n",
      "\n",
      "                                          text_lower  \n",
      "0  #coachella2015ticketssellingoutinlessthan40min...  \n",
      "1         rt:waitthisisabsolutefire___#coachella2015  \n",
      "2  #coachella2015#vippassessecured!seeyoutherebit...  \n",
      "3  phillyswillplay#coachella2015&amp;#govball2015...  \n",
      "4  ifbrianaandhermomoutto#coachella2015imoutwitht...  \n",
      "5     westsideisthebestside!#west#coas#coachella2015  \n",
      "6  coachellaticketsarenowsoldout__&amp;ihadtheopp...  \n",
      "7  #coachella2015iabsolutelycannotwait.thisweeken...  \n",
      "8  ifsomeonegotmetocoachellaifbeyourfriendforlife...  \n",
      "9                                                rt:  \n"
     ]
    }
   ],
   "execution_count": 32
  },
  {
   "metadata": {
    "ExecuteTime": {
     "end_time": "2025-09-20T08:45:27.732373Z",
     "start_time": "2025-09-20T08:42:35.645241Z"
    }
   },
   "cell_type": "code",
   "source": [
    "# Remove stop words\n",
    "import nltk\n",
    "from nltk.corpus import stopwords\n",
    "\n",
    "nltk.download('stopwords')\n"
   ],
   "id": "2560a2c1144f8395",
   "outputs": [
    {
     "name": "stderr",
     "output_type": "stream",
     "text": [
      "[nltk_data] Downloading package stopwords to\n",
      "[nltk_data]     C:\\Users\\srbuh\\AppData\\Roaming\\nltk_data...\n",
      "[nltk_data]   Unzipping corpora\\stopwords.zip.\n"
     ]
    },
    {
     "data": {
      "text/plain": [
       "True"
      ]
     },
     "execution_count": 33,
     "metadata": {},
     "output_type": "execute_result"
    }
   ],
   "execution_count": 33
  },
  {
   "metadata": {
    "ExecuteTime": {
     "end_time": "2025-09-20T08:45:37.714663Z",
     "start_time": "2025-09-20T08:45:37.567475Z"
    }
   },
   "cell_type": "code",
   "source": [
    "stop_word = set(stopwords.words('english'))\n",
    "\n",
    "def remove_stop_words(text):\n",
    "    if pd.isna(text):\n",
    "        return text\n",
    "    tokens = text.split()\n",
    "    celaned_tokens = [word for word in tokens if word not in stop_word]\n",
    "    return ' '.join(celaned_tokens)\n",
    "\n",
    "text['text_no_stopwords'] = text['text_lower'].apply(remove_stop_words)\n",
    "\n",
    "print(text[['text_lower', 'text_no_stopwords']].head(10))"
   ],
   "id": "13d3650d617745f4",
   "outputs": [
    {
     "name": "stdout",
     "output_type": "stream",
     "text": [
      "                                          text_lower  \\\n",
      "0  #coachella2015ticketssellingoutinlessthan40min...   \n",
      "1         rt:waitthisisabsolutefire___#coachella2015   \n",
      "2  #coachella2015#vippassessecured!seeyoutherebit...   \n",
      "3  phillyswillplay#coachella2015&amp;#govball2015...   \n",
      "4  ifbrianaandhermomoutto#coachella2015imoutwitht...   \n",
      "5     westsideisthebestside!#west#coas#coachella2015   \n",
      "6  coachellaticketsarenowsoldout__&amp;ihadtheopp...   \n",
      "7  #coachella2015iabsolutelycannotwait.thisweeken...   \n",
      "8  ifsomeonegotmetocoachellaifbeyourfriendforlife...   \n",
      "9                                                rt:   \n",
      "\n",
      "                                   text_no_stopwords  \n",
      "0  #coachella2015ticketssellingoutinlessthan40min...  \n",
      "1         rt:waitthisisabsolutefire___#coachella2015  \n",
      "2  #coachella2015#vippassessecured!seeyoutherebit...  \n",
      "3  phillyswillplay#coachella2015&amp;#govball2015...  \n",
      "4  ifbrianaandhermomoutto#coachella2015imoutwitht...  \n",
      "5     westsideisthebestside!#west#coas#coachella2015  \n",
      "6  coachellaticketsarenowsoldout__&amp;ihadtheopp...  \n",
      "7  #coachella2015iabsolutelycannotwait.thisweeken...  \n",
      "8  ifsomeonegotmetocoachellaifbeyourfriendforlife...  \n",
      "9                                                rt:  \n"
     ]
    }
   ],
   "execution_count": 34
  },
  {
   "metadata": {
    "ExecuteTime": {
     "end_time": "2025-09-20T09:12:59.912396Z",
     "start_time": "2025-09-20T09:12:59.788322Z"
    }
   },
   "cell_type": "code",
   "source": [
    "def remove_digits(text):\n",
    "    if pd.isna(text):\n",
    "        return text\n",
    "    return re.sub(r'\\d+', '', text)\n",
    "\n",
    "text['text_no_digits'] = text['text_no_stopwords'].apply(remove_digits)\n",
    "print(text[[ 'text_no_stopwords', 'text_no_digits']].head(10))"
   ],
   "id": "3974a64c4ff64dbe",
   "outputs": [
    {
     "name": "stdout",
     "output_type": "stream",
     "text": [
      "                                   text_no_stopwords  \\\n",
      "0  #coachella2015ticketssellingoutinlessthan40min...   \n",
      "1         rt:waitthisisabsolutefire___#coachella2015   \n",
      "2  #coachella2015#vippassessecured!seeyoutherebit...   \n",
      "3  phillyswillplay#coachella2015&amp;#govball2015...   \n",
      "4  ifbrianaandhermomoutto#coachella2015imoutwitht...   \n",
      "5     westsideisthebestside!#west#coas#coachella2015   \n",
      "6  coachellaticketsarenowsoldout__&amp;ihadtheopp...   \n",
      "7  #coachella2015iabsolutelycannotwait.thisweeken...   \n",
      "8  ifsomeonegotmetocoachellaifbeyourfriendforlife...   \n",
      "9                                                rt:   \n",
      "\n",
      "                                      text_no_digits  \n",
      "0  #coachellaticketssellingoutinlessthanminutes__...  \n",
      "1             rt:waitthisisabsolutefire___#coachella  \n",
      "2  #coachella#vippassessecured!seeyoutherebitches...  \n",
      "3  phillyswillplay#coachella&amp;#govball!watchth...  \n",
      "4  ifbrianaandhermomoutto#coachellaimoutwiththem!...  \n",
      "5         westsideisthebestside!#west#coas#coachella  \n",
      "6  coachellaticketsarenowsoldout__&amp;ihadtheopp...  \n",
      "7  #coachellaiabsolutelycannotwait.thisweekendisa...  \n",
      "8  ifsomeonegotmetocoachellaifbeyourfriendforlife...  \n",
      "9                                                rt:  \n"
     ]
    }
   ],
   "execution_count": 35
  },
  {
   "metadata": {
    "ExecuteTime": {
     "end_time": "2025-09-20T09:16:26.505553Z",
     "start_time": "2025-09-20T09:16:26.463789Z"
    }
   },
   "cell_type": "code",
   "source": [
    "def remove_special_characters(text):\n",
    "    if pd.isna(text):\n",
    "        return text\n",
    "    return re.sub(r'[^a-zA-Z0-9\\s]', '', text)\n",
    "\n",
    "text['text_no_specials'] = text['text_no_digits'].apply(remove_special_characters)\n",
    "\n",
    "print(text[['text_no_digits', 'text_no_specials']].head(10))"
   ],
   "id": "a75bbcc5eb5ff29f",
   "outputs": [
    {
     "name": "stdout",
     "output_type": "stream",
     "text": [
      "                                      text_no_digits  \\\n",
      "0  #coachellaticketssellingoutinlessthanminutes__...   \n",
      "1             rt:waitthisisabsolutefire___#coachella   \n",
      "2  #coachella#vippassessecured!seeyoutherebitches...   \n",
      "3  phillyswillplay#coachella&amp;#govball!watchth...   \n",
      "4  ifbrianaandhermomoutto#coachellaimoutwiththem!...   \n",
      "5         westsideisthebestside!#west#coas#coachella   \n",
      "6  coachellaticketsarenowsoldout__&amp;ihadtheopp...   \n",
      "7  #coachellaiabsolutelycannotwait.thisweekendisa...   \n",
      "8  ifsomeonegotmetocoachellaifbeyourfriendforlife...   \n",
      "9                                                rt:   \n",
      "\n",
      "                                    text_no_specials  \n",
      "0        coachellaticketssellingoutinlessthanminutes  \n",
      "1                  rtwaitthisisabsolutefirecoachella  \n",
      "2    coachellavippassessecuredseeyoutherebitchesssss  \n",
      "3  phillyswillplaycoachellaampgovballwatchthemonj...  \n",
      "4       ifbrianaandhermomouttocoachellaimoutwiththem  \n",
      "5             westsideisthebestsidewestcoascoachella  \n",
      "6  coachellaticketsarenowsoldoutampihadtheopportu...  \n",
      "7  coachellaiabsolutelycannotwaitthisweekendisabo...  \n",
      "8  ifsomeonegotmetocoachellaifbeyourfriendforlife...  \n",
      "9                                                 rt  \n"
     ]
    }
   ],
   "execution_count": 36
  },
  {
   "metadata": {
    "ExecuteTime": {
     "end_time": "2025-09-20T09:17:39.827370Z",
     "start_time": "2025-09-20T09:17:39.707154Z"
    }
   },
   "cell_type": "code",
   "source": "text.to_csv('cleaned_tweets.csv', index=False, encoding='utf-8')\n",
   "id": "b9dc6a1f47cad1e2",
   "outputs": [],
   "execution_count": 37
  },
  {
   "metadata": {},
   "cell_type": "code",
   "outputs": [],
   "execution_count": null,
   "source": "",
   "id": "9f5b4be262e489b0"
  }
 ],
 "metadata": {
  "kernelspec": {
   "display_name": "Python 3",
   "language": "python",
   "name": "python3"
  },
  "language_info": {
   "codemirror_mode": {
    "name": "ipython",
    "version": 2
   },
   "file_extension": ".py",
   "mimetype": "text/x-python",
   "name": "python",
   "nbconvert_exporter": "python",
   "pygments_lexer": "ipython2",
   "version": "2.7.6"
  }
 },
 "nbformat": 4,
 "nbformat_minor": 5
}
