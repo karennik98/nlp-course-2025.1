{
 "cells": [
  {
   "metadata": {},
   "cell_type": "markdown",
   "source": [
    "| Symbol  | Meaning                   | Example Pattern | Matches                        |       |              |\n",
    "| ------- | ------------------------- | --------------- | ------------------------------ | ----- | ------------ |\n",
    "| `.`     | Any char (except newline) | `a.c`           | `abc`, `axc`                   |       |              |\n",
    "| `^`     | Start of string           | `^Hi`           | `Hi there`                     |       |              |\n",
    "| `$`     | End of string             | `end$`          | `the end`                      |       |              |\n",
    "| `*`     | 0 or more                 | `lo*l`          | `ll`, `lol`, `loool`           |       |              |\n",
    "| `+`     | 1 or more                 | `go+gle`        | `gogle`, `google`, `gooooogle` |       |              |\n",
    "| `?`     | 0 or 1                    | `colou?r`       | `color`, `colour`              |       |              |\n",
    "| `{n}`   | Exactly n                 | `a{3}`          | `aaa`                          |       |              |\n",
    "| `{n,}`  | At least n                | `a{2,}`         | `aa`, `aaa…`                   |       |              |\n",
    "| `{n,m}` | Between n and m           | `a{2,4}`        | `aa`, `aaa`, `aaaa`            |       |              |\n",
    "| `[]`    | One of listed             | `[aeiou]`       | `a`, `e`, `i`…                 |       |              |\n",
    "| `[^]`   | Not listed                | `[^0-9]`        | `a`, `#`, ` `                  |       |              |\n",
    "| \\`      | \\`                        | OR              | \\`cat                          | dog\\` | `cat`, `dog` |\n",
    "| `()`    | Grouping                  | `(ha)+`         | `ha`, `hahaha`                 |       |              |\n",
    "| `\\`     | Escape special            | `\\.`            | `.` literal                    |       |              |\n"
   ],
   "id": "76901323236def92"
  },
  {
   "metadata": {},
   "cell_type": "markdown",
   "source": [
    "| Symbol | Meaning                  | Example Pattern | Matches               |\n",
    "| ------ | ------------------------ | --------------- | --------------------- |\n",
    "| `\\d`   | Digit `[0-9]`            | `\\d\\d`          | `42`                  |\n",
    "| `\\D`   | Non-digit                | `\\D+`           | `abc`, `!@#`          |\n",
    "| `\\w`   | Word char `[A-Za-z0-9_]` | `\\w+`           | `hello_123`           |\n",
    "| `\\W`   | Non-word                 | `\\W+`           | `!!`, ` `             |\n",
    "| `\\s`   | Whitespace               | `a\\sb`          | `a b`                 |\n",
    "| `\\S`   | Non-whitespace           | `\\S+`           | `abc123`              |\n",
    "| `\\b`   | Word boundary            | `\\bcat\\b`       | `cat` (not `scatter`) |\n",
    "| `\\B`   | Not boundary             | `\\Bcat`         | `scat`                |\n"
   ],
   "id": "84388a8830398127"
  },
  {
   "metadata": {},
   "cell_type": "markdown",
   "source": [
    "| Flag | Meaning              | Example                | Matches      |\n",
    "| ---- | -------------------- | ---------------------- | ------------ |\n",
    "| `i`  | Case-insensitive     | `/dog/i`               | `Dog`, `DOG` |\n",
    "| `g`  | Global (all matches) | `/\\d/g` in `a1b2`      | `1`, `2`     |\n",
    "| `m`  | Multiline            | `/^hi/m` in `\"hi\\nhi\"` | both `hi`    |\n"
   ],
   "id": "971deea55954071e"
  },
  {
   "metadata": {
    "ExecuteTime": {
     "end_time": "2025-09-24T16:24:18.332998Z",
     "start_time": "2025-09-24T16:24:18.327629Z"
    }
   },
   "cell_type": "code",
   "source": "import re",
   "id": "8639491eb929ce2",
   "outputs": [],
   "execution_count": 1
  },
  {
   "metadata": {},
   "cell_type": "markdown",
   "source": "## Problem 1: Extract Email Addresses",
   "id": "a8f8d3d89965ea"
  },
  {
   "metadata": {
    "ExecuteTime": {
     "end_time": "2025-09-24T16:24:18.345038Z",
     "start_time": "2025-09-24T16:24:18.339004Z"
    }
   },
   "cell_type": "code",
   "source": [
    "text = (\"Contact us at support@example.com or sales@company.org for assistance. \"\n",
    "        \"For personal inquiries, email john.doe123@university.edu\")\n",
    "pattern = r\"\\S+@\\S+\\.\\S+\"\n",
    "\n",
    "matches = re.findall(pattern, text)\n",
    "print(matches)\n"
   ],
   "id": "c563a318707795db",
   "outputs": [
    {
     "name": "stdout",
     "output_type": "stream",
     "text": [
      "['support@example.com', 'sales@company.org', 'john.doe123@university.edu']\n"
     ]
    }
   ],
   "execution_count": 2
  },
  {
   "metadata": {},
   "cell_type": "markdown",
   "source": "##  Problem 2: Validate Phone Numbers\n",
   "id": "3dec870b4f730680"
  },
  {
   "metadata": {
    "ExecuteTime": {
     "end_time": "2025-09-24T16:24:19.229552Z",
     "start_time": "2025-09-24T16:24:19.224545Z"
    }
   },
   "cell_type": "code",
   "source": [
    "text = (\"Valid: +374 95-000320, +374 95-452320\"\n",
    "        \"Invalid: 928-231-42121, +21-13122\")\n",
    "pattern = r\"\\+374\\s\\d{2}-\\d{6}\"\n",
    "\n",
    "matches = re.findall(pattern, text)\n",
    "print(matches)"
   ],
   "id": "29e4dae2f58eaeb7",
   "outputs": [
    {
     "name": "stdout",
     "output_type": "stream",
     "text": [
      "['+374 95-000320', '+374 95-452320']\n"
     ]
    }
   ],
   "execution_count": 3
  },
  {
   "metadata": {},
   "cell_type": "markdown",
   "source": "",
   "id": "72c239cb15877bd1"
  },
  {
   "metadata": {},
   "cell_type": "markdown",
   "source": "## Problem 3: Extract Dates\n",
   "id": "ccec4fd54b577362"
  },
  {
   "metadata": {
    "ExecuteTime": {
     "end_time": "2025-09-24T16:24:19.256120Z",
     "start_time": "2025-09-24T16:24:19.250794Z"
    }
   },
   "cell_type": "code",
   "source": [
    "text = (\" Important dates: 25/12/2023, 01-01-2024, 31/05/2023, and 15-10-2024.\")\n",
    "pattern = r\"\\d{2}[/-]\\d{2}[/-]\\d{4}\"\n",
    "\n",
    "matches = re.findall(pattern, text)\n",
    "print(matches)"
   ],
   "id": "93abd644c423ea20",
   "outputs": [
    {
     "name": "stdout",
     "output_type": "stream",
     "text": [
      "['25/12/2023', '01-01-2024', '31/05/2023', '15-10-2024']\n"
     ]
    }
   ],
   "execution_count": 4
  },
  {
   "metadata": {},
   "cell_type": "markdown",
   "source": "##  Problem 4: Find Repeated Words",
   "id": "2e135e64e7fcae59"
  },
  {
   "metadata": {
    "ExecuteTime": {
     "end_time": "2025-09-24T16:24:19.291379Z",
     "start_time": "2025-09-24T16:24:19.287001Z"
    }
   },
   "cell_type": "code",
   "source": [
    "text = \" The the quick brown fox jumps over the the lazy dog.\"\n",
    "\n",
    "pattern = r\"\\b(\\w+)\\b\\s+\\b\\1\\b\"\n",
    "matches = re.findall(pattern, text, re.IGNORECASE)\n",
    "\n",
    "print(matches)\n"
   ],
   "id": "dcf81053383953f",
   "outputs": [
    {
     "name": "stdout",
     "output_type": "stream",
     "text": [
      "['The', 'the']\n"
     ]
    }
   ],
   "execution_count": 5
  },
  {
   "metadata": {},
   "cell_type": "markdown",
   "source": "##  Problem 5: Extract Hashtags",
   "id": "e41a5e9fa16037fe"
  },
  {
   "metadata": {
    "ExecuteTime": {
     "end_time": "2025-09-24T16:24:19.327037Z",
     "start_time": "2025-09-24T16:24:19.323132Z"
    }
   },
   "cell_type": "code",
   "source": [
    "text = \" Check out our new products: #Sale2024, #NewArrival, and #Discounts!\"\n",
    "\n",
    "pattern = r\"#\\S+\"\n",
    "matches = re.findall(pattern, text, re.IGNORECASE)\n",
    "\n",
    "print(matches)\n"
   ],
   "id": "c2ac277eeddac215",
   "outputs": [
    {
     "name": "stdout",
     "output_type": "stream",
     "text": [
      "['#Sale2024,', '#NewArrival,', '#Discounts!']\n"
     ]
    }
   ],
   "execution_count": 6
  },
  {
   "metadata": {},
   "cell_type": "markdown",
   "source": [
    "## Problem 6: Validate Password Strength\n",
    "\n",
    "* At least 8 characters long\n",
    "* Contains at least one uppercase letter\n",
    "* Contains at least one lowercase letter\n",
    "* Contains at least one digi\n"
   ],
   "id": "d42f8949a7451616"
  },
  {
   "metadata": {
    "ExecuteTime": {
     "end_time": "2025-09-24T16:24:19.356564Z",
     "start_time": "2025-09-24T16:24:19.352166Z"
    }
   },
   "cell_type": "code",
   "source": [
    "text = (\"  Valid: Password123, Secure456\"\n",
    "        \" Invalid: weak, password, Password\")\n",
    "\n",
    "pattern = r\"(?=.*[A-Z])(?=.*[a-z])(?=.*[0-9])\\S{8,}\"\n",
    "matches = re.findall(pattern, text, re.IGNORECASE)\n",
    "\n",
    "print(matches)"
   ],
   "id": "a45bc95173df5350",
   "outputs": [
    {
     "name": "stdout",
     "output_type": "stream",
     "text": [
      "['Password123,', 'Secure456']\n"
     ]
    }
   ],
   "execution_count": 7
  },
  {
   "metadata": {},
   "cell_type": "markdown",
   "source": "## Problem 7: Extract URLs",
   "id": "54f38a4dcde518c3"
  },
  {
   "metadata": {
    "ExecuteTime": {
     "end_time": "2025-09-24T16:24:19.391361Z",
     "start_time": "2025-09-24T16:24:19.387282Z"
    }
   },
   "cell_type": "code",
   "source": [
    "text = (\" Visit our website at https://www.example.com or check out http://blog.example.org for updates.\")\n",
    "\n",
    "pattern = r\"https?://\\S+\\.\\S+\\.\\S+\"\n",
    "matches = re.findall(pattern, text, re.IGNORECASE)\n",
    "print(matches)"
   ],
   "id": "eb5db7e053686cde",
   "outputs": [
    {
     "name": "stdout",
     "output_type": "stream",
     "text": [
      "['https://www.example.com', 'http://blog.example.org']\n"
     ]
    }
   ],
   "execution_count": 8
  },
  {
   "metadata": {},
   "cell_type": "markdown",
   "source": " ## Problem 8: Replace Multiple Spaces with a Single Space\n",
   "id": "3ff88bd030909eb2"
  },
  {
   "metadata": {
    "ExecuteTime": {
     "end_time": "2025-09-24T16:24:19.430275Z",
     "start_time": "2025-09-24T16:24:19.426276Z"
    }
   },
   "cell_type": "code",
   "source": [
    "text = (\" This   text    has   multiple    spaces.\")\n",
    "\n",
    "pattern = r\"\\s+\"\n",
    "matches = re.findall(pattern, text, re.IGNORECASE)\n",
    "print(matches)"
   ],
   "id": "973e46a8665ebe53",
   "outputs": [
    {
     "name": "stdout",
     "output_type": "stream",
     "text": [
      "[' ', '   ', '    ', '   ', '    ']\n"
     ]
    }
   ],
   "execution_count": 9
  },
  {
   "metadata": {
    "ExecuteTime": {
     "end_time": "2025-09-24T16:24:19.461731Z",
     "start_time": "2025-09-24T16:24:19.458586Z"
    }
   },
   "cell_type": "code",
   "source": [
    "cleaned_text = re.sub(pattern, \" \", text)\n",
    "print(\"Cleaned text:\", cleaned_text)"
   ],
   "id": "44e64c63a6a2edd4",
   "outputs": [
    {
     "name": "stdout",
     "output_type": "stream",
     "text": [
      "Cleaned text:  This text has multiple spaces.\n"
     ]
    }
   ],
   "execution_count": 10
  },
  {
   "metadata": {},
   "cell_type": "markdown",
   "source": "##  Problem 9: Extract Quoted Text",
   "id": "7e080330b861bab9"
  },
  {
   "metadata": {
    "ExecuteTime": {
     "end_time": "2025-09-24T16:24:19.483093Z",
     "start_time": "2025-09-24T16:24:19.480050Z"
    }
   },
   "cell_type": "code",
   "source": [
    "text = '  He said, \"Hello, world!\" and she replied, \"Hi there!\" '\n",
    "pattern = r'\".+?\"'\n",
    "matches = re.findall(pattern, text)\n",
    "\n",
    "print(matches)"
   ],
   "id": "9bbb1cfc0a04ca49",
   "outputs": [
    {
     "name": "stdout",
     "output_type": "stream",
     "text": [
      "['\"Hello, world!\"', '\"Hi there!\"']\n"
     ]
    }
   ],
   "execution_count": 11
  },
  {
   "metadata": {},
   "cell_type": "markdown",
   "source": "## Problem 10: Validate IP Addresses\n",
   "id": "7be81b0e97b2090a"
  },
  {
   "metadata": {
    "ExecuteTime": {
     "end_time": "2025-09-24T16:24:19.531743Z",
     "start_time": "2025-09-24T16:24:19.527680Z"
    }
   },
   "cell_type": "code",
   "source": [
    "text = ('Valid: 192.168.1.1, 10.0.0.255'\n",
    "        'Invalid: 256.1.2.3, 192.168.01.1, 192.168.1')\n",
    "pattern = r'\\d{1,3}\\.\\d{1,3}\\.\\d{1,3}\\.\\d{1,3}'\n",
    "matches = re.findall(pattern, text)\n",
    "\n",
    "print(matches)"
   ],
   "id": "dc35b05145f920",
   "outputs": [
    {
     "name": "stdout",
     "output_type": "stream",
     "text": [
      "['192.168.1.1', '10.0.0.255', '256.1.2.3', '192.168.01.1']\n"
     ]
    }
   ],
   "execution_count": 12
  }
 ],
 "metadata": {
  "kernelspec": {
   "display_name": "Python 3",
   "language": "python",
   "name": "python3"
  },
  "language_info": {
   "codemirror_mode": {
    "name": "ipython",
    "version": 2
   },
   "file_extension": ".py",
   "mimetype": "text/x-python",
   "name": "python",
   "nbconvert_exporter": "python",
   "pygments_lexer": "ipython2",
   "version": "2.7.6"
  }
 },
 "nbformat": 4,
 "nbformat_minor": 5
}
