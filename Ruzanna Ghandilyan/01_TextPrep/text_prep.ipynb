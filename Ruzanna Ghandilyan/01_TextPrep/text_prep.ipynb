{
 "cells": [
  {
   "cell_type": "code",
   "id": "initial_id",
   "metadata": {
    "collapsed": true,
    "ExecuteTime": {
     "end_time": "2025-09-29T11:46:19.915668Z",
     "start_time": "2025-09-29T11:46:19.909668Z"
    }
   },
   "source": [
    "import string\n",
    "\n",
    "txt = \"\"\"Natural Language Processing (NLP) is a subfield of linguistics, computer science, and artificial\n",
    "intelligence concerned with the interactions between computers and human language. It's used to\n",
    "analyze text, allowing machines to understand, interpret, and manipulate human language. NLP has\n",
    "many real-world applications, including machine translation, sentiment analysis, and chatbots.\"\"\"\n",
    "\n",
    "# split\n",
    "t = txt.split(); print(\"1:\", t)"
   ],
   "outputs": [
    {
     "name": "stdout",
     "output_type": "stream",
     "text": [
      "1: ['Natural', 'Language', 'Processing', '(NLP)', 'is', 'a', 'subfield', 'of', 'linguistics,', 'computer', 'science,', 'and', 'artificial', 'intelligence', 'concerned', 'with', 'the', 'interactions', 'between', 'computers', 'and', 'human', 'language.', \"It's\", 'used', 'to', 'analyze', 'text,', 'allowing', 'machines', 'to', 'understand,', 'interpret,', 'and', 'manipulate', 'human', 'language.', 'NLP', 'has', 'many', 'real-world', 'applications,', 'including', 'machine', 'translation,', 'sentiment', 'analysis,', 'and', 'chatbots.']\n"
     ]
    }
   ],
   "execution_count": 1
  },
  {
   "metadata": {
    "ExecuteTime": {
     "end_time": "2025-09-29T11:46:20.606421Z",
     "start_time": "2025-09-29T11:46:20.601334Z"
    }
   },
   "cell_type": "code",
   "source": [
    "# lower + no punct\n",
    "t = [w.lower().strip(string.punctuation) for w in t if w.strip(string.punctuation)]\n",
    "t"
   ],
   "id": "52b5e4adbdff84e0",
   "outputs": [
    {
     "data": {
      "text/plain": [
       "['natural',\n",
       " 'language',\n",
       " 'processing',\n",
       " 'nlp',\n",
       " 'is',\n",
       " 'a',\n",
       " 'subfield',\n",
       " 'of',\n",
       " 'linguistics',\n",
       " 'computer',\n",
       " 'science',\n",
       " 'and',\n",
       " 'artificial',\n",
       " 'intelligence',\n",
       " 'concerned',\n",
       " 'with',\n",
       " 'the',\n",
       " 'interactions',\n",
       " 'between',\n",
       " 'computers',\n",
       " 'and',\n",
       " 'human',\n",
       " 'language',\n",
       " \"it's\",\n",
       " 'used',\n",
       " 'to',\n",
       " 'analyze',\n",
       " 'text',\n",
       " 'allowing',\n",
       " 'machines',\n",
       " 'to',\n",
       " 'understand',\n",
       " 'interpret',\n",
       " 'and',\n",
       " 'manipulate',\n",
       " 'human',\n",
       " 'language',\n",
       " 'nlp',\n",
       " 'has',\n",
       " 'many',\n",
       " 'real-world',\n",
       " 'applications',\n",
       " 'including',\n",
       " 'machine',\n",
       " 'translation',\n",
       " 'sentiment',\n",
       " 'analysis',\n",
       " 'and',\n",
       " 'chatbots']"
      ]
     },
     "execution_count": 2,
     "metadata": {},
     "output_type": "execute_result"
    }
   ],
   "execution_count": 2
  },
  {
   "metadata": {
    "ExecuteTime": {
     "end_time": "2025-09-29T11:46:20.641751Z",
     "start_time": "2025-09-29T11:46:20.637429Z"
    }
   },
   "cell_type": "code",
   "source": [
    "# no stopwords\n",
    "stop = {\"the\",\"a\",\"an\",\"in\",\"on\",\"at\",\"for\",\"to\",\"of\",\"and\",\"is\",\"are\",\"with\",\"it's\"}\n",
    "t = [w for w in t if w not in stop]\n",
    "t"
   ],
   "id": "65a014b71f10cc73",
   "outputs": [
    {
     "data": {
      "text/plain": [
       "['natural',\n",
       " 'language',\n",
       " 'processing',\n",
       " 'nlp',\n",
       " 'subfield',\n",
       " 'linguistics',\n",
       " 'computer',\n",
       " 'science',\n",
       " 'artificial',\n",
       " 'intelligence',\n",
       " 'concerned',\n",
       " 'interactions',\n",
       " 'between',\n",
       " 'computers',\n",
       " 'human',\n",
       " 'language',\n",
       " 'used',\n",
       " 'analyze',\n",
       " 'text',\n",
       " 'allowing',\n",
       " 'machines',\n",
       " 'understand',\n",
       " 'interpret',\n",
       " 'manipulate',\n",
       " 'human',\n",
       " 'language',\n",
       " 'nlp',\n",
       " 'has',\n",
       " 'many',\n",
       " 'real-world',\n",
       " 'applications',\n",
       " 'including',\n",
       " 'machine',\n",
       " 'translation',\n",
       " 'sentiment',\n",
       " 'analysis',\n",
       " 'chatbots']"
      ]
     },
     "execution_count": 3,
     "metadata": {},
     "output_type": "execute_result"
    }
   ],
   "execution_count": 3
  },
  {
   "metadata": {
    "ExecuteTime": {
     "end_time": "2025-09-29T11:46:20.670865Z",
     "start_time": "2025-09-29T11:46:20.665538Z"
    }
   },
   "cell_type": "code",
   "source": [
    "# stem (just cut common ends)\n",
    "def stem(w):\n",
    "    for s in ('ing','ed','ly','es','s'):\n",
    "        if w.endswith(s): return w[:-len(s)]\n",
    "    return w\n",
    "t = [stem(w) for w in t]\n",
    "t"
   ],
   "id": "571450fa15b61a97",
   "outputs": [
    {
     "data": {
      "text/plain": [
       "['natural',\n",
       " 'language',\n",
       " 'process',\n",
       " 'nlp',\n",
       " 'subfield',\n",
       " 'linguistic',\n",
       " 'computer',\n",
       " 'science',\n",
       " 'artificial',\n",
       " 'intelligence',\n",
       " 'concern',\n",
       " 'interaction',\n",
       " 'between',\n",
       " 'computer',\n",
       " 'human',\n",
       " 'language',\n",
       " 'us',\n",
       " 'analyze',\n",
       " 'text',\n",
       " 'allow',\n",
       " 'machin',\n",
       " 'understand',\n",
       " 'interpret',\n",
       " 'manipulate',\n",
       " 'human',\n",
       " 'language',\n",
       " 'nlp',\n",
       " 'ha',\n",
       " 'many',\n",
       " 'real-world',\n",
       " 'application',\n",
       " 'includ',\n",
       " 'machine',\n",
       " 'translation',\n",
       " 'sentiment',\n",
       " 'analysi',\n",
       " 'chatbot']"
      ]
     },
     "execution_count": 4,
     "metadata": {},
     "output_type": "execute_result"
    }
   ],
   "execution_count": 4
  },
  {
   "metadata": {
    "ExecuteTime": {
     "end_time": "2025-09-29T11:46:20.697268Z",
     "start_time": "2025-09-29T11:46:20.693912Z"
    }
   },
   "cell_type": "code",
   "source": [
    "# bonus: lemma dict\n",
    "lem = {\"is\":\"be\",\"are\":\"be\",\"was\":\"be\",\"were\":\"be\",\"has\":\"have\"}\n",
    "print(\"bonus:\", [lem.get(w,w) for w in t])"
   ],
   "id": "95f93414505bd0c8",
   "outputs": [
    {
     "name": "stdout",
     "output_type": "stream",
     "text": [
      "bonus: ['natural', 'language', 'process', 'nlp', 'subfield', 'linguistic', 'computer', 'science', 'artificial', 'intelligence', 'concern', 'interaction', 'between', 'computer', 'human', 'language', 'us', 'analyze', 'text', 'allow', 'machin', 'understand', 'interpret', 'manipulate', 'human', 'language', 'nlp', 'ha', 'many', 'real-world', 'application', 'includ', 'machine', 'translation', 'sentiment', 'analysi', 'chatbot']\n"
     ]
    }
   ],
   "execution_count": 5
  }
 ],
 "metadata": {
  "kernelspec": {
   "display_name": "Python 3",
   "language": "python",
   "name": "python3"
  },
  "language_info": {
   "codemirror_mode": {
    "name": "ipython",
    "version": 2
   },
   "file_extension": ".py",
   "mimetype": "text/x-python",
   "name": "python",
   "nbconvert_exporter": "python",
   "pygments_lexer": "ipython2",
   "version": "2.7.6"
  }
 },
 "nbformat": 4,
 "nbformat_minor": 5
}
