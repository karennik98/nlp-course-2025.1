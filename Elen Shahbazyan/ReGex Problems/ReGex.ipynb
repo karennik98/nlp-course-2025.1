{
  "nbformat": 4,
  "nbformat_minor": 0,
  "metadata": {
    "colab": {
      "provenance": []
    },
    "kernelspec": {
      "name": "python3",
      "display_name": "Python 3"
    },
    "language_info": {
      "name": "python"
    }
  },
  "cells": [
    {
      "cell_type": "markdown",
      "source": [
        "Problem 1: Extract Email Addresses"
      ],
      "metadata": {
        "id": "1NHyjnOYP4_9"
      }
    },
    {
      "cell_type": "code",
      "source": [
        "import re"
      ],
      "metadata": {
        "id": "OcsfP-2RIy-Y"
      },
      "execution_count": 2,
      "outputs": []
    },
    {
      "cell_type": "code",
      "source": [
        "def extract_email(text):\n",
        "   pattern = r'[a-zA-Z0-9._%+-]+@[a-zA-Z0-9.-]+\\.[a-zA-Z]{2,}'\n",
        "   return re.findall(pattern,text)\n",
        "\n",
        "sample_text = \" Contact us at support@example.com or sales@company.org for assistance.For personal inquiries, email john.doe123@university.edu.\"\n",
        "\n",
        "emails = extract_email(sample_text)\n",
        "print(emails)"
      ],
      "metadata": {
        "id": "Y4mqM0DVIuqZ",
        "colab": {
          "base_uri": "https://localhost:8080/"
        },
        "outputId": "3f396908-883c-46a8-8c90-dc5ee669b685"
      },
      "execution_count": null,
      "outputs": [
        {
          "output_type": "stream",
          "name": "stdout",
          "text": [
            "['support@example.com', 'sales@company.org', 'john.doe123@university.edu']\n"
          ]
        }
      ]
    },
    {
      "cell_type": "markdown",
      "source": [
        "Problem 2: Validate Phone Numbers"
      ],
      "metadata": {
        "id": "IO3NTpTYP-Hz"
      }
    },
    {
      "cell_type": "code",
      "source": [
        "def validate_phone_numbers(text):\n",
        "  pattern = r'\\b\\d{3}-\\d{3}-\\d{4}\\b'\n",
        "  return re.findall(pattern,text)\n",
        "\n",
        "sample_text = \"Valid: 123-456-7890, 987-654-3210 Invalid: 12-345-67890, 1234567890, 123-45-6789\"\n",
        "\n",
        "valid_numbers = validate_phone_numbers(sample_text)\n",
        "print(valid_numbers)\n"
      ],
      "metadata": {
        "colab": {
          "base_uri": "https://localhost:8080/"
        },
        "id": "F_MrcnB7Lez0",
        "outputId": "3058e345-bf4b-4b35-e3f6-b27c9c246fbf"
      },
      "execution_count": null,
      "outputs": [
        {
          "output_type": "stream",
          "name": "stdout",
          "text": [
            "['123-456-7890', '987-654-3210']\n"
          ]
        }
      ]
    },
    {
      "cell_type": "markdown",
      "source": [
        "Problem 3: Extract Dates"
      ],
      "metadata": {
        "id": "0UZphAEyQCn9"
      }
    },
    {
      "cell_type": "code",
      "source": [
        "def extract_dates(text):\n",
        "  pattern = r'\\b\\d{2}[/-]\\d{2}[/-]\\d{4}\\b'\n",
        "  return re.findall(pattern, text)\n",
        "\n",
        "sample_text = \"Important dates: 25/12/2023, 01-01-2024, 31/05/2023, and 15-10-2024.\"\n",
        "\n",
        "extr_dates = extract_dates(sample_text)\n",
        "print(extr_dates)\n"
      ],
      "metadata": {
        "colab": {
          "base_uri": "https://localhost:8080/"
        },
        "id": "vjJPdfMDPiZP",
        "outputId": "67b09b60-95c4-4948-db7c-6719645d77b5"
      },
      "execution_count": null,
      "outputs": [
        {
          "output_type": "stream",
          "name": "stdout",
          "text": [
            "['25/12/2023', '01-01-2024', '31/05/2023', '15-10-2024']\n"
          ]
        }
      ]
    },
    {
      "cell_type": "markdown",
      "source": [
        "Problem 4: Find Repeated Words"
      ],
      "metadata": {
        "id": "CxkecqSASJGG"
      }
    },
    {
      "cell_type": "code",
      "source": [
        "def find_repeated_words(text):\n",
        "    pattern = r'\\b(\\w+)\\s+\\1\\b'\n",
        "    out = re.finditer(pattern, text, flags=re.IGNORECASE)\n",
        "    out = [match.group() for match in out]\n",
        "    return out\n",
        "\n",
        "sample_text = \"The the quick brown fox fox jumps over the the lazy dog\"\n",
        "\n",
        "repeated_words = find_repeated_words(sample_text)\n",
        "print(repeated_words)\n"
      ],
      "metadata": {
        "colab": {
          "base_uri": "https://localhost:8080/"
        },
        "id": "0K6zl9-ySH6p",
        "outputId": "9120885e-24f2-4e19-bf12-a424abc08d73"
      },
      "execution_count": null,
      "outputs": [
        {
          "output_type": "stream",
          "name": "stdout",
          "text": [
            "['The the', 'fox fox', 'the the']\n"
          ]
        }
      ]
    },
    {
      "cell_type": "markdown",
      "source": [
        "Problem 5: extract hashtags\n"
      ],
      "metadata": {
        "id": "vQEAhf59WGrg"
      }
    },
    {
      "cell_type": "code",
      "source": [
        "def extract_hashtags(text):\n",
        "  pattern = r'#\\w+'\n",
        "  return re.findall(pattern,text)\n",
        "\n",
        "sample_text = \"Check out our new products: #Sale2024, #NewArrival, and #Discounts!\"\n",
        "\n",
        "hashtags = extract_hashtags(sample_text)\n",
        "print(hashtags)\n"
      ],
      "metadata": {
        "colab": {
          "base_uri": "https://localhost:8080/"
        },
        "id": "0YLeXuegWFos",
        "outputId": "ac075c80-8e0c-492b-ebf7-543d71f4ee71"
      },
      "execution_count": null,
      "outputs": [
        {
          "output_type": "stream",
          "name": "stdout",
          "text": [
            "['#Sale2024', '#NewArrival', '#Discounts']\n"
          ]
        }
      ]
    },
    {
      "cell_type": "markdown",
      "source": [
        "Problem 6: Validate Password Strength"
      ],
      "metadata": {
        "id": "AMoEbkEtXAMB"
      }
    },
    {
      "cell_type": "code",
      "source": [
        "def validate_passwords(passwords):\n",
        "    pattern = r'^(?=.*[A-Z])(?=.*[a-z])(?=.*\\d).{8,}$'\n",
        "    return [p for p in passwords if re.match(pattern, p)]\n",
        "\n",
        "sample_passwords = [\"Password123\", \"Secure456\", \"weak\", \"password\", \"Password\"]\n",
        "\n",
        "valid_passwords = validate_passwords(sample_passwords)\n",
        "print(valid_passwords)\n"
      ],
      "metadata": {
        "colab": {
          "base_uri": "https://localhost:8080/"
        },
        "id": "QrwSjBSRWznv",
        "outputId": "82e52378-fc5a-49b4-a2bc-4e9b1718bb99"
      },
      "execution_count": 3,
      "outputs": [
        {
          "output_type": "stream",
          "name": "stdout",
          "text": [
            "['Password123', 'Secure456']\n"
          ]
        }
      ]
    },
    {
      "cell_type": "markdown",
      "source": [
        "Problem 7: Extract URLs"
      ],
      "metadata": {
        "id": "1ydaSTqoTlid"
      }
    },
    {
      "cell_type": "code",
      "source": [
        "def extract_urls(text):\n",
        "    pattern = r'https?://\\S+'\n",
        "    return re.findall(pattern, text)\n",
        "\n",
        "sample_text = \"Visit our website at https://www.example.com or check out http://blog.example.org for updates.\"\n",
        "\n",
        "urls = extract_urls(sample_text)\n",
        "print(urls)\n"
      ],
      "metadata": {
        "colab": {
          "base_uri": "https://localhost:8080/"
        },
        "id": "-As6FuKsI67G",
        "outputId": "6129ac4c-9356-4be1-ccf1-491e501b655c"
      },
      "execution_count": 4,
      "outputs": [
        {
          "output_type": "stream",
          "name": "stdout",
          "text": [
            "['https://www.example.com', 'http://blog.example.org']\n"
          ]
        }
      ]
    },
    {
      "cell_type": "markdown",
      "source": [
        "Problem 8: Replace Multiple Spaces with a Single Space"
      ],
      "metadata": {
        "id": "YgibKnXBUQMm"
      }
    },
    {
      "cell_type": "code",
      "source": [
        "def replace_multiple_spaces(text):\n",
        "    pattern = r'\\s+'\n",
        "    return re.sub(pattern, ' ', text)\n",
        "\n",
        "sample_text = \"This   text    has   multiple    spaces.\"\n",
        "\n",
        "clean_text = replace_multiple_spaces(sample_text)\n",
        "print(clean_text)\n"
      ],
      "metadata": {
        "colab": {
          "base_uri": "https://localhost:8080/"
        },
        "id": "4ftEuNxxUYdM",
        "outputId": "fa685320-07a9-4e43-8a01-d73a4099f444"
      },
      "execution_count": 5,
      "outputs": [
        {
          "output_type": "stream",
          "name": "stdout",
          "text": [
            "This text has multiple spaces.\n"
          ]
        }
      ]
    },
    {
      "cell_type": "markdown",
      "source": [
        "Problem 9: Extract Quoted Text"
      ],
      "metadata": {
        "id": "YsDBFqQCVD0-"
      }
    },
    {
      "cell_type": "code",
      "source": [
        "def extract_quoted_text(text):\n",
        "    pattern = r'\"(.*?)\"'\n",
        "    return re.findall(pattern, text)\n",
        "\n",
        "sample_text = 'He said, \"Hello, world!\" and she replied, \"Hi there!\"'\n",
        "\n",
        "quoted_texts = extract_quoted_text(sample_text)\n",
        "print(quoted_texts)\n"
      ],
      "metadata": {
        "colab": {
          "base_uri": "https://localhost:8080/"
        },
        "id": "0ZyUa6QoU4Zy",
        "outputId": "b0d5b5c8-1894-437f-d1e2-71e6e274890d"
      },
      "execution_count": 6,
      "outputs": [
        {
          "output_type": "stream",
          "name": "stdout",
          "text": [
            "['Hello, world!', 'Hi there!']\n"
          ]
        }
      ]
    },
    {
      "cell_type": "markdown",
      "source": [
        "Problem 10: Validate IP Addresses"
      ],
      "metadata": {
        "id": "1ZBWi6bRVmRu"
      }
    },
    {
      "cell_type": "code",
      "source": [
        "def extract_valid_ips(text):\n",
        "    pattern = r'\\b(25[0-5]|2[0-4][0-9]|1[0-9]{2}|[1-9]?[0-9])\\b.\\b(25[0-5]|2[0-4][0-9]|1[0-9]{2}|[1-9]?[0-9])\\b.\\b(25[0-5]|2[0-4][0-9]|1[0-9]{2}|[1-9]?[0-9])\\b.\\b(25[0-5]|2[0-4][0-9]|1[0-9]{2}|[1-9]?[0-9])\\b'\n",
        "    matches = re.finditer(pattern, text)\n",
        "    return [match.group() for match in matches]\n",
        "\n",
        "text = \"\"\"\n",
        "Valid: 192.168.1.1, 10.0.0.255, 255.255.255.255\n",
        "Invalid: 256.1.2.3, 192.168.01.1, 192.168.1, 255.255.255.256, 192.168.2.01\n",
        "\"\"\"\n",
        "valid_ips = extract_valid_ips(text)\n",
        "\n",
        "for ip in valid_ips:\n",
        "    print(ip)\n"
      ],
      "metadata": {
        "colab": {
          "base_uri": "https://localhost:8080/"
        },
        "id": "avdPc_iCVl3_",
        "outputId": "50cc64a7-7546-40c5-b13b-5399c2050a6c"
      },
      "execution_count": 7,
      "outputs": [
        {
          "output_type": "stream",
          "name": "stdout",
          "text": [
            "192.168.1.1\n",
            "10.0.0.255\n",
            "255.255.255.255\n"
          ]
        }
      ]
    }
  ]
}