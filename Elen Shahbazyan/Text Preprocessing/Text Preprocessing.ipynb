{
  "nbformat": 4,
  "nbformat_minor": 0,
  "metadata": {
    "colab": {
      "provenance": []
    },
    "kernelspec": {
      "name": "python3",
      "display_name": "Python 3"
    },
    "language_info": {
      "name": "python"
    }
  },
  "cells": [
    {
      "cell_type": "code",
      "execution_count": null,
      "metadata": {
        "id": "0fC4rS7DFjMq"
      },
      "outputs": [],
      "source": [
        "import string\n",
        "data = \"\"\"Natural Language Processing (NLP) is a subfield of linguistics, computer science, and artificial\n",
        "intelligence concerned with the interactions between computers and human language. It's used to\n",
        "analyze text, allowing machines to understand, interpret, and manipulate human language. NLP has\n",
        "many real-world applications, including machine translation, sentiment analysis, and chatbots.\"\"\""
      ]
    },
    {
      "cell_type": "code",
      "source": [
        "tokens = data.split()\n",
        "print(tokens)"
      ],
      "metadata": {
        "colab": {
          "base_uri": "https://localhost:8080/"
        },
        "id": "XEBII6hUHly2",
        "outputId": "645b42c7-cf6d-4645-fa40-48e5a1c12af5"
      },
      "execution_count": null,
      "outputs": [
        {
          "output_type": "stream",
          "name": "stdout",
          "text": [
            "['Natural', 'Language', 'Processing', '(NLP)', 'is', 'a', 'subfield', 'of', 'linguistics,', 'computer', 'science,', 'and', 'artificial', 'intelligence', 'concerned', 'with', 'the', 'interactions', 'between', 'computers', 'and', 'human', 'language.', \"It's\", 'used', 'to', 'analyze', 'text,', 'allowing', 'machines', 'to', 'understand,', 'interpret,', 'and', 'manipulate', 'human', 'language.', 'NLP', 'has', 'many', 'real-world', 'applications,', 'including', 'machine', 'translation,', 'sentiment', 'analysis,', 'and', 'chatbots.']\n"
          ]
        }
      ]
    },
    {
      "cell_type": "code",
      "source": [
        "tokens_lower = [t.lower() for t in tokens ]\n",
        "print(tokens_lower)"
      ],
      "metadata": {
        "colab": {
          "base_uri": "https://localhost:8080/"
        },
        "id": "H4118JbNH2j-",
        "outputId": "76a3eb9c-5c11-4873-939b-a117c0603f9b"
      },
      "execution_count": null,
      "outputs": [
        {
          "output_type": "stream",
          "name": "stdout",
          "text": [
            "['natural', 'language', 'processing', '(nlp)', 'is', 'a', 'subfield', 'of', 'linguistics,', 'computer', 'science,', 'and', 'artificial', 'intelligence', 'concerned', 'with', 'the', 'interactions', 'between', 'computers', 'and', 'human', 'language.', \"it's\", 'used', 'to', 'analyze', 'text,', 'allowing', 'machines', 'to', 'understand,', 'interpret,', 'and', 'manipulate', 'human', 'language.', 'nlp', 'has', 'many', 'real-world', 'applications,', 'including', 'machine', 'translation,', 'sentiment', 'analysis,', 'and', 'chatbots.']\n"
          ]
        }
      ]
    },
    {
      "cell_type": "code",
      "source": [
        "remove_punctuations = [token.translate(str.maketrans('','', string.punctuation )) for token in tokens_lower]\n",
        "print(remove_punctuations)"
      ],
      "metadata": {
        "colab": {
          "base_uri": "https://localhost:8080/"
        },
        "id": "lhY6gFy-Il3O",
        "outputId": "7a90a88b-c4be-4e62-dd98-0869bc906eff"
      },
      "execution_count": null,
      "outputs": [
        {
          "output_type": "stream",
          "name": "stdout",
          "text": [
            "['natural', 'language', 'processing', 'nlp', 'is', 'a', 'subfield', 'of', 'linguistics', 'computer', 'science', 'and', 'artificial', 'intelligence', 'concerned', 'with', 'the', 'interactions', 'between', 'computers', 'and', 'human', 'language', 'its', 'used', 'to', 'analyze', 'text', 'allowing', 'machines', 'to', 'understand', 'interpret', 'and', 'manipulate', 'human', 'language', 'nlp', 'has', 'many', 'realworld', 'applications', 'including', 'machine', 'translation', 'sentiment', 'analysis', 'and', 'chatbots']\n"
          ]
        }
      ]
    },
    {
      "cell_type": "code",
      "source": [
        "stop_words = {\n",
        "    \"a\", \"an\", \"the\", \"and\", \"is\", \"in\", \"on\", \"at\", \"to\", \"of\", \"it\", \"for\",\n",
        "    \"this\", \"that\", \"with\", \"as\", \"by\", \"be\", \"are\", \"was\", \"were\", \"from\"\n",
        "}\n",
        "remove_stop_words = [token for token in remove_punctuations if token.lower() not in stop_words]\n",
        "print(remove_stop_words)"
      ],
      "metadata": {
        "colab": {
          "base_uri": "https://localhost:8080/"
        },
        "id": "6uMQMiMVNPrO",
        "outputId": "bed0373f-9d7b-499f-a9b0-f62440cd93f0"
      },
      "execution_count": null,
      "outputs": [
        {
          "output_type": "stream",
          "name": "stdout",
          "text": [
            "['natural', 'language', 'processing', 'nlp', 'subfield', 'linguistics', 'computer', 'science', 'artificial', 'intelligence', 'concerned', 'interactions', 'between', 'computers', 'human', 'language', 'its', 'used', 'analyze', 'text', 'allowing', 'machines', 'understand', 'interpret', 'manipulate', 'human', 'language', 'nlp', 'has', 'many', 'realworld', 'applications', 'including', 'machine', 'translation', 'sentiment', 'analysis', 'chatbots']\n"
          ]
        }
      ]
    },
    {
      "cell_type": "code",
      "source": [
        "def stemming(word):\n",
        "    suffixes = ['ing', 'ly', 'ed', 'ious', 'ies', 'ive', 'es', 's', 'ment']\n",
        "    for suffix in suffixes:\n",
        "        if word.endswith(suffix) and len(word) > len(suffix) + 1:\n",
        "            return word[:-len(suffix)]\n",
        "    return word\n",
        "stemmed_tokens = [stemming(word) for word in remove_stop_words]\n",
        "print(stemmed_tokens)"
      ],
      "metadata": {
        "colab": {
          "base_uri": "https://localhost:8080/"
        },
        "id": "TKJ-OWgPOx9W",
        "outputId": "bd8400eb-1d05-4dc9-c2b7-a1a64c896fca"
      },
      "execution_count": null,
      "outputs": [
        {
          "output_type": "stream",
          "name": "stdout",
          "text": [
            "['natural', 'language', 'process', 'nlp', 'subfield', 'linguistic', 'computer', 'science', 'artificial', 'intelligence', 'concern', 'interaction', 'between', 'computer', 'human', 'language', 'it', 'us', 'analyze', 'text', 'allow', 'machin', 'understand', 'interpret', 'manipulate', 'human', 'language', 'nlp', 'ha', 'many', 'realworld', 'application', 'includ', 'machine', 'translation', 'senti', 'analysi', 'chatbot']\n"
          ]
        }
      ]
    }
  ]
}